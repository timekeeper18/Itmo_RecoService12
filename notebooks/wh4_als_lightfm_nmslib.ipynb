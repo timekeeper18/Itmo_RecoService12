{
 "cells": [
  {
   "cell_type": "markdown",
   "id": "1e7ebc59",
   "metadata": {
    "ExecuteTime": {
     "end_time": "2022-11-28T14:25:54.586122Z",
     "start_time": "2022-11-28T14:25:54.579897Z"
    }
   },
   "source": [
    "# Домашнее задание HW 4"
   ]
  },
  {
   "cell_type": "markdown",
   "id": "f8cb6db6",
   "metadata": {},
   "source": [
    "## Задание HW 4\n",
    "\n",
    "Домашнее задание состоит из нескольких блоков.\n",
    "\n",
    "\n",
    "### Эксперименты в ipynb ноутбуках (11 баллов)\n",
    "- Необходимо будет перебрать $N$ моделей $(N \\geq 2)$ матричной факторизации и перебрать у них $K$ гиперпараметров $(K \\geq 2)$ **(5 баллов)**\n",
    "    - Для перебора гиперпараметров можно использовать [`Optuna`](https://github.com/optuna/optuna), [`Hyperopt`](https://github.com/hyperopt/hyperopt)\n",
    "- Воспользоваться методом приближенного поиска соседей для выдачи рекомендаций. **(2 балла)**\n",
    "    - Можно использовать любые удобные: [`Annoy`](https://github.com/spotify/annoy), [`nmslib`](https://github.com/nmslib/nmslib) и.т.д\n",
    "- Добавить 3 \"аватаров\" (искусственных пользователей) и посмотреть рекомендации итоговой модели на них. Объяснить почему добавили именно таких пользователей. **(2 балла)**\n",
    "- Придумать как можно обработать рекомендации для холодных пользователей. **(2 балла)**\n",
    "\n",
    "Примечание: за невоспроизводимый код в ноутбуках (например, нарушен порядок выполнения ячеек, вызываются переменные, которые нигде не были объявлены ранее и.т.п) будут штрафы на усмотрение проверяющего.\n",
    "\n",
    "\n",
    "### Реализация итоговой модели в сервисе (9 баллов)\n",
    "- Пробитие бейзлайна $MAP@10 \\geq 0.074921$ **(6 баллов)**\n",
    "- Код сервиса соответствует критериям читаемости и воспроизводимости **(3 балла)**"
   ]
  },
  {
   "cell_type": "markdown",
   "id": "c89f636f",
   "metadata": {},
   "source": [
    "## Imports"
   ]
  },
  {
   "cell_type": "code",
   "execution_count": 1,
   "id": "87d20a23",
   "metadata": {
    "ExecuteTime": {
     "end_time": "2022-12-01T15:51:28.983075Z",
     "start_time": "2022-12-01T15:51:27.609879Z"
    }
   },
   "outputs": [
    {
     "name": "stderr",
     "output_type": "stream",
     "text": [
      "Your CPU supports instructions that this binary was not compiled to use: SSE3 SSE4.1 SSE4.2 AVX AVX2\n",
      "For maximum performance, you can install NMSLIB from sources \n",
      "pip install --no-binary :all: nmslib\n"
     ]
    }
   ],
   "source": [
    "import warnings\n",
    "\n",
    "warnings.filterwarnings('ignore')\n",
    "\n",
    "import pandas as pd\n",
    "import time\n",
    "import numpy as np\n",
    "from pprint import pprint\n",
    "import dill\n",
    "from implicit.als import AlternatingLeastSquares\n",
    "\n",
    "from rectools.metrics import Precision, Recall, MAP, calc_metrics\n",
    "from rectools.models import PopularModel, RandomModel, ImplicitALSWrapperModel\n",
    "from rectools import Columns\n",
    "from rectools.dataset import Dataset\n",
    "from rectools.models import ImplicitALSWrapperModel, LightFMWrapperModel\n",
    "import nmslib\n",
    "\n",
    "import optuna\n",
    "\n",
    "from pathlib import Path\n",
    "\n",
    "from lightfm import LightFM"
   ]
  },
  {
   "cell_type": "markdown",
   "id": "aae1ebed",
   "metadata": {
    "ExecuteTime": {
     "end_time": "2022-11-28T14:35:08.195796Z",
     "start_time": "2022-11-28T14:35:08.190083Z"
    }
   },
   "source": [
    "## Подгружаем данные"
   ]
  },
  {
   "cell_type": "code",
   "execution_count": 2,
   "id": "35d73d9d",
   "metadata": {
    "ExecuteTime": {
     "end_time": "2022-12-01T15:51:28.998593Z",
     "start_time": "2022-12-01T15:51:28.990660Z"
    }
   },
   "outputs": [],
   "source": [
    "DATA_PATH = Path(\"data_original\")"
   ]
  },
  {
   "cell_type": "code",
   "execution_count": 3,
   "id": "98bb41d1",
   "metadata": {
    "ExecuteTime": {
     "end_time": "2022-12-01T15:51:32.082855Z",
     "start_time": "2022-12-01T15:51:29.004207Z"
    }
   },
   "outputs": [],
   "source": [
    "users = pd.read_csv(DATA_PATH / 'users.csv')\n",
    "items = pd.read_csv(DATA_PATH / 'items.csv')\n",
    "interactions = pd.read_csv(DATA_PATH / 'interactions.csv')"
   ]
  },
  {
   "cell_type": "code",
   "execution_count": 4,
   "id": "b32841da",
   "metadata": {
    "ExecuteTime": {
     "end_time": "2022-12-01T15:51:32.105177Z",
     "start_time": "2022-12-01T15:51:32.085132Z"
    }
   },
   "outputs": [
    {
     "data": {
      "text/html": [
       "<div>\n",
       "<style scoped>\n",
       "    .dataframe tbody tr th:only-of-type {\n",
       "        vertical-align: middle;\n",
       "    }\n",
       "\n",
       "    .dataframe tbody tr th {\n",
       "        vertical-align: top;\n",
       "    }\n",
       "\n",
       "    .dataframe thead th {\n",
       "        text-align: right;\n",
       "    }\n",
       "</style>\n",
       "<table border=\"1\" class=\"dataframe\">\n",
       "  <thead>\n",
       "    <tr style=\"text-align: right;\">\n",
       "      <th></th>\n",
       "      <th>user_id</th>\n",
       "      <th>age</th>\n",
       "      <th>income</th>\n",
       "      <th>sex</th>\n",
       "      <th>kids_flg</th>\n",
       "    </tr>\n",
       "  </thead>\n",
       "  <tbody>\n",
       "    <tr>\n",
       "      <th>0</th>\n",
       "      <td>973171</td>\n",
       "      <td>age_25_34</td>\n",
       "      <td>income_60_90</td>\n",
       "      <td>М</td>\n",
       "      <td>1</td>\n",
       "    </tr>\n",
       "    <tr>\n",
       "      <th>1</th>\n",
       "      <td>962099</td>\n",
       "      <td>age_18_24</td>\n",
       "      <td>income_20_40</td>\n",
       "      <td>М</td>\n",
       "      <td>0</td>\n",
       "    </tr>\n",
       "    <tr>\n",
       "      <th>2</th>\n",
       "      <td>1047345</td>\n",
       "      <td>age_45_54</td>\n",
       "      <td>income_40_60</td>\n",
       "      <td>Ж</td>\n",
       "      <td>0</td>\n",
       "    </tr>\n",
       "    <tr>\n",
       "      <th>3</th>\n",
       "      <td>721985</td>\n",
       "      <td>age_45_54</td>\n",
       "      <td>income_20_40</td>\n",
       "      <td>Ж</td>\n",
       "      <td>0</td>\n",
       "    </tr>\n",
       "    <tr>\n",
       "      <th>4</th>\n",
       "      <td>704055</td>\n",
       "      <td>age_35_44</td>\n",
       "      <td>income_60_90</td>\n",
       "      <td>Ж</td>\n",
       "      <td>0</td>\n",
       "    </tr>\n",
       "    <tr>\n",
       "      <th>...</th>\n",
       "      <td>...</td>\n",
       "      <td>...</td>\n",
       "      <td>...</td>\n",
       "      <td>...</td>\n",
       "      <td>...</td>\n",
       "    </tr>\n",
       "    <tr>\n",
       "      <th>840192</th>\n",
       "      <td>339025</td>\n",
       "      <td>age_65_inf</td>\n",
       "      <td>income_0_20</td>\n",
       "      <td>Ж</td>\n",
       "      <td>0</td>\n",
       "    </tr>\n",
       "    <tr>\n",
       "      <th>840193</th>\n",
       "      <td>983617</td>\n",
       "      <td>age_18_24</td>\n",
       "      <td>income_20_40</td>\n",
       "      <td>Ж</td>\n",
       "      <td>1</td>\n",
       "    </tr>\n",
       "    <tr>\n",
       "      <th>840194</th>\n",
       "      <td>251008</td>\n",
       "      <td>NaN</td>\n",
       "      <td>NaN</td>\n",
       "      <td>NaN</td>\n",
       "      <td>0</td>\n",
       "    </tr>\n",
       "    <tr>\n",
       "      <th>840195</th>\n",
       "      <td>590706</td>\n",
       "      <td>NaN</td>\n",
       "      <td>NaN</td>\n",
       "      <td>Ж</td>\n",
       "      <td>0</td>\n",
       "    </tr>\n",
       "    <tr>\n",
       "      <th>840196</th>\n",
       "      <td>166555</td>\n",
       "      <td>age_65_inf</td>\n",
       "      <td>income_20_40</td>\n",
       "      <td>Ж</td>\n",
       "      <td>0</td>\n",
       "    </tr>\n",
       "  </tbody>\n",
       "</table>\n",
       "<p>840197 rows × 5 columns</p>\n",
       "</div>"
      ],
      "text/plain": [
       "        user_id         age        income  sex  kids_flg\n",
       "0        973171   age_25_34  income_60_90    М         1\n",
       "1        962099   age_18_24  income_20_40    М         0\n",
       "2       1047345   age_45_54  income_40_60    Ж         0\n",
       "3        721985   age_45_54  income_20_40    Ж         0\n",
       "4        704055   age_35_44  income_60_90    Ж         0\n",
       "...         ...         ...           ...  ...       ...\n",
       "840192   339025  age_65_inf   income_0_20    Ж         0\n",
       "840193   983617   age_18_24  income_20_40    Ж         1\n",
       "840194   251008         NaN           NaN  NaN         0\n",
       "840195   590706         NaN           NaN    Ж         0\n",
       "840196   166555  age_65_inf  income_20_40    Ж         0\n",
       "\n",
       "[840197 rows x 5 columns]"
      ]
     },
     "execution_count": 4,
     "metadata": {},
     "output_type": "execute_result"
    }
   ],
   "source": [
    "users"
   ]
  },
  {
   "cell_type": "code",
   "execution_count": 5,
   "id": "7de3ae37",
   "metadata": {
    "ExecuteTime": {
     "end_time": "2022-12-01T15:51:32.123053Z",
     "start_time": "2022-12-01T15:51:32.107083Z"
    }
   },
   "outputs": [
    {
     "data": {
      "text/html": [
       "<div>\n",
       "<style scoped>\n",
       "    .dataframe tbody tr th:only-of-type {\n",
       "        vertical-align: middle;\n",
       "    }\n",
       "\n",
       "    .dataframe tbody tr th {\n",
       "        vertical-align: top;\n",
       "    }\n",
       "\n",
       "    .dataframe thead th {\n",
       "        text-align: right;\n",
       "    }\n",
       "</style>\n",
       "<table border=\"1\" class=\"dataframe\">\n",
       "  <thead>\n",
       "    <tr style=\"text-align: right;\">\n",
       "      <th></th>\n",
       "      <th>item_id</th>\n",
       "      <th>content_type</th>\n",
       "      <th>title</th>\n",
       "      <th>title_orig</th>\n",
       "      <th>release_year</th>\n",
       "      <th>genres</th>\n",
       "      <th>countries</th>\n",
       "      <th>for_kids</th>\n",
       "      <th>age_rating</th>\n",
       "      <th>studios</th>\n",
       "      <th>directors</th>\n",
       "      <th>actors</th>\n",
       "      <th>description</th>\n",
       "      <th>keywords</th>\n",
       "    </tr>\n",
       "  </thead>\n",
       "  <tbody>\n",
       "    <tr>\n",
       "      <th>0</th>\n",
       "      <td>10711</td>\n",
       "      <td>film</td>\n",
       "      <td>Поговори с ней</td>\n",
       "      <td>Hable con ella</td>\n",
       "      <td>2002.0</td>\n",
       "      <td>драмы, зарубежные, детективы, мелодрамы</td>\n",
       "      <td>Испания</td>\n",
       "      <td>NaN</td>\n",
       "      <td>16.0</td>\n",
       "      <td>NaN</td>\n",
       "      <td>Педро Альмодовар</td>\n",
       "      <td>Адольфо Фернандес, Ана Фернандес, Дарио Гранди...</td>\n",
       "      <td>Мелодрама легендарного Педро Альмодовара «Пого...</td>\n",
       "      <td>Поговори, ней, 2002, Испания, друзья, любовь, ...</td>\n",
       "    </tr>\n",
       "    <tr>\n",
       "      <th>1</th>\n",
       "      <td>2508</td>\n",
       "      <td>film</td>\n",
       "      <td>Голые перцы</td>\n",
       "      <td>Search Party</td>\n",
       "      <td>2014.0</td>\n",
       "      <td>зарубежные, приключения, комедии</td>\n",
       "      <td>США</td>\n",
       "      <td>NaN</td>\n",
       "      <td>16.0</td>\n",
       "      <td>NaN</td>\n",
       "      <td>Скот Армстронг</td>\n",
       "      <td>Адам Палли, Брайан Хаски, Дж.Б. Смув, Джейсон ...</td>\n",
       "      <td>Уморительная современная комедия на популярную...</td>\n",
       "      <td>Голые, перцы, 2014, США, друзья, свадьбы, прео...</td>\n",
       "    </tr>\n",
       "    <tr>\n",
       "      <th>2</th>\n",
       "      <td>10716</td>\n",
       "      <td>film</td>\n",
       "      <td>Тактическая сила</td>\n",
       "      <td>Tactical Force</td>\n",
       "      <td>2011.0</td>\n",
       "      <td>криминал, зарубежные, триллеры, боевики, комедии</td>\n",
       "      <td>Канада</td>\n",
       "      <td>NaN</td>\n",
       "      <td>16.0</td>\n",
       "      <td>NaN</td>\n",
       "      <td>Адам П. Калтраро</td>\n",
       "      <td>Адриан Холмс, Даррен Шалави, Джерри Вассерман,...</td>\n",
       "      <td>Профессиональный рестлер Стив Остин («Все или ...</td>\n",
       "      <td>Тактическая, сила, 2011, Канада, бандиты, ганг...</td>\n",
       "    </tr>\n",
       "    <tr>\n",
       "      <th>3</th>\n",
       "      <td>7868</td>\n",
       "      <td>film</td>\n",
       "      <td>45 лет</td>\n",
       "      <td>45 Years</td>\n",
       "      <td>2015.0</td>\n",
       "      <td>драмы, зарубежные, мелодрамы</td>\n",
       "      <td>Великобритания</td>\n",
       "      <td>NaN</td>\n",
       "      <td>16.0</td>\n",
       "      <td>NaN</td>\n",
       "      <td>Эндрю Хэй</td>\n",
       "      <td>Александра Риддлстон-Барретт, Джеральдин Джейм...</td>\n",
       "      <td>Шарлотта Рэмплинг, Том Кортни, Джеральдин Джей...</td>\n",
       "      <td>45, лет, 2015, Великобритания, брак, жизнь, лю...</td>\n",
       "    </tr>\n",
       "    <tr>\n",
       "      <th>4</th>\n",
       "      <td>16268</td>\n",
       "      <td>film</td>\n",
       "      <td>Все решает мгновение</td>\n",
       "      <td>NaN</td>\n",
       "      <td>1978.0</td>\n",
       "      <td>драмы, спорт, советские, мелодрамы</td>\n",
       "      <td>СССР</td>\n",
       "      <td>NaN</td>\n",
       "      <td>12.0</td>\n",
       "      <td>Ленфильм</td>\n",
       "      <td>Виктор Садовский</td>\n",
       "      <td>Александр Абдулов, Александр Демьяненко, Алекс...</td>\n",
       "      <td>Расчетливая чаровница из советского кинохита «...</td>\n",
       "      <td>Все, решает, мгновение, 1978, СССР, сильные, ж...</td>\n",
       "    </tr>\n",
       "    <tr>\n",
       "      <th>...</th>\n",
       "      <td>...</td>\n",
       "      <td>...</td>\n",
       "      <td>...</td>\n",
       "      <td>...</td>\n",
       "      <td>...</td>\n",
       "      <td>...</td>\n",
       "      <td>...</td>\n",
       "      <td>...</td>\n",
       "      <td>...</td>\n",
       "      <td>...</td>\n",
       "      <td>...</td>\n",
       "      <td>...</td>\n",
       "      <td>...</td>\n",
       "      <td>...</td>\n",
       "    </tr>\n",
       "    <tr>\n",
       "      <th>15958</th>\n",
       "      <td>6443</td>\n",
       "      <td>series</td>\n",
       "      <td>Полярный круг</td>\n",
       "      <td>Arctic Circle</td>\n",
       "      <td>2018.0</td>\n",
       "      <td>драмы, триллеры, криминал</td>\n",
       "      <td>Финляндия, Германия</td>\n",
       "      <td>NaN</td>\n",
       "      <td>16.0</td>\n",
       "      <td>NaN</td>\n",
       "      <td>Ханну Салонен</td>\n",
       "      <td>Иина Куустонен, Максимилиан Брюкнер, Пихла Вии...</td>\n",
       "      <td>Во время погони за браконьерами по лесу, сотру...</td>\n",
       "      <td>убийство, вирус, расследование преступления, н...</td>\n",
       "    </tr>\n",
       "    <tr>\n",
       "      <th>15959</th>\n",
       "      <td>2367</td>\n",
       "      <td>series</td>\n",
       "      <td>Надежда</td>\n",
       "      <td>NaN</td>\n",
       "      <td>2020.0</td>\n",
       "      <td>драмы, боевики</td>\n",
       "      <td>Россия</td>\n",
       "      <td>0.0</td>\n",
       "      <td>18.0</td>\n",
       "      <td>NaN</td>\n",
       "      <td>Елена Хазанова</td>\n",
       "      <td>Виктория Исакова, Александр Кузьмин, Алексей М...</td>\n",
       "      <td>Оригинальный киносериал от создателей «Бывших»...</td>\n",
       "      <td>Надежда, 2020, Россия</td>\n",
       "    </tr>\n",
       "    <tr>\n",
       "      <th>15960</th>\n",
       "      <td>10632</td>\n",
       "      <td>series</td>\n",
       "      <td>Сговор</td>\n",
       "      <td>Hassel</td>\n",
       "      <td>2017.0</td>\n",
       "      <td>драмы, триллеры, криминал</td>\n",
       "      <td>Россия</td>\n",
       "      <td>0.0</td>\n",
       "      <td>18.0</td>\n",
       "      <td>NaN</td>\n",
       "      <td>Эшреф Рейбрук, Амир Камдин, Эрик Эгер</td>\n",
       "      <td>Ола Рапас, Алиетт Офейм, Уильма Лиден, Шанти Р...</td>\n",
       "      <td>Криминальная драма по мотивам романов о шведск...</td>\n",
       "      <td>Сговор, 2017, Россия</td>\n",
       "    </tr>\n",
       "    <tr>\n",
       "      <th>15961</th>\n",
       "      <td>4538</td>\n",
       "      <td>series</td>\n",
       "      <td>Среди камней</td>\n",
       "      <td>Darklands</td>\n",
       "      <td>2019.0</td>\n",
       "      <td>драмы, спорт, криминал</td>\n",
       "      <td>Россия</td>\n",
       "      <td>0.0</td>\n",
       "      <td>18.0</td>\n",
       "      <td>NaN</td>\n",
       "      <td>Марк О’Коннор, Конор МакМахон</td>\n",
       "      <td>Дэйн Уайт О’Хара, Томас Кэйн-Бирн, Джудит Родд...</td>\n",
       "      <td>Семнадцатилетний Дэмиен мечтает вырваться за п...</td>\n",
       "      <td>Среди, камней, 2019, Россия</td>\n",
       "    </tr>\n",
       "    <tr>\n",
       "      <th>15962</th>\n",
       "      <td>3206</td>\n",
       "      <td>series</td>\n",
       "      <td>Гоша</td>\n",
       "      <td>NaN</td>\n",
       "      <td>2019.0</td>\n",
       "      <td>комедии</td>\n",
       "      <td>Россия</td>\n",
       "      <td>0.0</td>\n",
       "      <td>16.0</td>\n",
       "      <td>NaN</td>\n",
       "      <td>Михаил Миронов</td>\n",
       "      <td>Мкртыч Арзуманян, Виктория Рунцова</td>\n",
       "      <td>Добродушный Гоша не может выйти из дома, чтобы...</td>\n",
       "      <td>Гоша, 2019, Россия</td>\n",
       "    </tr>\n",
       "  </tbody>\n",
       "</table>\n",
       "<p>15963 rows × 14 columns</p>\n",
       "</div>"
      ],
      "text/plain": [
       "       item_id content_type                 title      title_orig  \\\n",
       "0        10711         film        Поговори с ней  Hable con ella   \n",
       "1         2508         film           Голые перцы    Search Party   \n",
       "2        10716         film      Тактическая сила  Tactical Force   \n",
       "3         7868         film                45 лет        45 Years   \n",
       "4        16268         film  Все решает мгновение             NaN   \n",
       "...        ...          ...                   ...             ...   \n",
       "15958     6443       series         Полярный круг   Arctic Circle   \n",
       "15959     2367       series               Надежда             NaN   \n",
       "15960    10632       series                Сговор          Hassel   \n",
       "15961     4538       series          Среди камней      Darklands    \n",
       "15962     3206       series                  Гоша             NaN   \n",
       "\n",
       "       release_year                                            genres  \\\n",
       "0            2002.0           драмы, зарубежные, детективы, мелодрамы   \n",
       "1            2014.0                  зарубежные, приключения, комедии   \n",
       "2            2011.0  криминал, зарубежные, триллеры, боевики, комедии   \n",
       "3            2015.0                      драмы, зарубежные, мелодрамы   \n",
       "4            1978.0                драмы, спорт, советские, мелодрамы   \n",
       "...             ...                                               ...   \n",
       "15958        2018.0                         драмы, триллеры, криминал   \n",
       "15959        2020.0                                    драмы, боевики   \n",
       "15960        2017.0                         драмы, триллеры, криминал   \n",
       "15961        2019.0                            драмы, спорт, криминал   \n",
       "15962        2019.0                                           комедии   \n",
       "\n",
       "                 countries  for_kids  age_rating   studios  \\\n",
       "0                  Испания       NaN        16.0       NaN   \n",
       "1                      США       NaN        16.0       NaN   \n",
       "2                   Канада       NaN        16.0       NaN   \n",
       "3           Великобритания       NaN        16.0       NaN   \n",
       "4                     СССР       NaN        12.0  Ленфильм   \n",
       "...                    ...       ...         ...       ...   \n",
       "15958  Финляндия, Германия       NaN        16.0       NaN   \n",
       "15959               Россия       0.0        18.0       NaN   \n",
       "15960               Россия       0.0        18.0       NaN   \n",
       "15961               Россия       0.0        18.0       NaN   \n",
       "15962               Россия       0.0        16.0       NaN   \n",
       "\n",
       "                                   directors  \\\n",
       "0                           Педро Альмодовар   \n",
       "1                             Скот Армстронг   \n",
       "2                           Адам П. Калтраро   \n",
       "3                                  Эндрю Хэй   \n",
       "4                           Виктор Садовский   \n",
       "...                                      ...   \n",
       "15958                          Ханну Салонен   \n",
       "15959                         Елена Хазанова   \n",
       "15960  Эшреф Рейбрук, Амир Камдин, Эрик Эгер   \n",
       "15961          Марк О’Коннор, Конор МакМахон   \n",
       "15962                         Михаил Миронов   \n",
       "\n",
       "                                                  actors  \\\n",
       "0      Адольфо Фернандес, Ана Фернандес, Дарио Гранди...   \n",
       "1      Адам Палли, Брайан Хаски, Дж.Б. Смув, Джейсон ...   \n",
       "2      Адриан Холмс, Даррен Шалави, Джерри Вассерман,...   \n",
       "3      Александра Риддлстон-Барретт, Джеральдин Джейм...   \n",
       "4      Александр Абдулов, Александр Демьяненко, Алекс...   \n",
       "...                                                  ...   \n",
       "15958  Иина Куустонен, Максимилиан Брюкнер, Пихла Вии...   \n",
       "15959  Виктория Исакова, Александр Кузьмин, Алексей М...   \n",
       "15960  Ола Рапас, Алиетт Офейм, Уильма Лиден, Шанти Р...   \n",
       "15961  Дэйн Уайт О’Хара, Томас Кэйн-Бирн, Джудит Родд...   \n",
       "15962                 Мкртыч Арзуманян, Виктория Рунцова   \n",
       "\n",
       "                                             description  \\\n",
       "0      Мелодрама легендарного Педро Альмодовара «Пого...   \n",
       "1      Уморительная современная комедия на популярную...   \n",
       "2      Профессиональный рестлер Стив Остин («Все или ...   \n",
       "3      Шарлотта Рэмплинг, Том Кортни, Джеральдин Джей...   \n",
       "4      Расчетливая чаровница из советского кинохита «...   \n",
       "...                                                  ...   \n",
       "15958  Во время погони за браконьерами по лесу, сотру...   \n",
       "15959  Оригинальный киносериал от создателей «Бывших»...   \n",
       "15960  Криминальная драма по мотивам романов о шведск...   \n",
       "15961  Семнадцатилетний Дэмиен мечтает вырваться за п...   \n",
       "15962  Добродушный Гоша не может выйти из дома, чтобы...   \n",
       "\n",
       "                                                keywords  \n",
       "0      Поговори, ней, 2002, Испания, друзья, любовь, ...  \n",
       "1      Голые, перцы, 2014, США, друзья, свадьбы, прео...  \n",
       "2      Тактическая, сила, 2011, Канада, бандиты, ганг...  \n",
       "3      45, лет, 2015, Великобритания, брак, жизнь, лю...  \n",
       "4      Все, решает, мгновение, 1978, СССР, сильные, ж...  \n",
       "...                                                  ...  \n",
       "15958  убийство, вирус, расследование преступления, н...  \n",
       "15959                              Надежда, 2020, Россия  \n",
       "15960                               Сговор, 2017, Россия  \n",
       "15961                        Среди, камней, 2019, Россия  \n",
       "15962                                 Гоша, 2019, Россия  \n",
       "\n",
       "[15963 rows x 14 columns]"
      ]
     },
     "execution_count": 5,
     "metadata": {},
     "output_type": "execute_result"
    }
   ],
   "source": [
    "items"
   ]
  },
  {
   "cell_type": "code",
   "execution_count": 6,
   "id": "f966be3c",
   "metadata": {
    "ExecuteTime": {
     "end_time": "2022-12-01T15:51:32.136051Z",
     "start_time": "2022-12-01T15:51:32.124552Z"
    }
   },
   "outputs": [
    {
     "data": {
      "text/html": [
       "<div>\n",
       "<style scoped>\n",
       "    .dataframe tbody tr th:only-of-type {\n",
       "        vertical-align: middle;\n",
       "    }\n",
       "\n",
       "    .dataframe tbody tr th {\n",
       "        vertical-align: top;\n",
       "    }\n",
       "\n",
       "    .dataframe thead th {\n",
       "        text-align: right;\n",
       "    }\n",
       "</style>\n",
       "<table border=\"1\" class=\"dataframe\">\n",
       "  <thead>\n",
       "    <tr style=\"text-align: right;\">\n",
       "      <th></th>\n",
       "      <th>user_id</th>\n",
       "      <th>item_id</th>\n",
       "      <th>last_watch_dt</th>\n",
       "      <th>total_dur</th>\n",
       "      <th>watched_pct</th>\n",
       "    </tr>\n",
       "  </thead>\n",
       "  <tbody>\n",
       "    <tr>\n",
       "      <th>0</th>\n",
       "      <td>176549</td>\n",
       "      <td>9506</td>\n",
       "      <td>2021-05-11</td>\n",
       "      <td>4250</td>\n",
       "      <td>72.0</td>\n",
       "    </tr>\n",
       "    <tr>\n",
       "      <th>1</th>\n",
       "      <td>699317</td>\n",
       "      <td>1659</td>\n",
       "      <td>2021-05-29</td>\n",
       "      <td>8317</td>\n",
       "      <td>100.0</td>\n",
       "    </tr>\n",
       "    <tr>\n",
       "      <th>2</th>\n",
       "      <td>656683</td>\n",
       "      <td>7107</td>\n",
       "      <td>2021-05-09</td>\n",
       "      <td>10</td>\n",
       "      <td>0.0</td>\n",
       "    </tr>\n",
       "    <tr>\n",
       "      <th>3</th>\n",
       "      <td>864613</td>\n",
       "      <td>7638</td>\n",
       "      <td>2021-07-05</td>\n",
       "      <td>14483</td>\n",
       "      <td>100.0</td>\n",
       "    </tr>\n",
       "    <tr>\n",
       "      <th>4</th>\n",
       "      <td>964868</td>\n",
       "      <td>9506</td>\n",
       "      <td>2021-04-30</td>\n",
       "      <td>6725</td>\n",
       "      <td>100.0</td>\n",
       "    </tr>\n",
       "    <tr>\n",
       "      <th>...</th>\n",
       "      <td>...</td>\n",
       "      <td>...</td>\n",
       "      <td>...</td>\n",
       "      <td>...</td>\n",
       "      <td>...</td>\n",
       "    </tr>\n",
       "    <tr>\n",
       "      <th>5476246</th>\n",
       "      <td>648596</td>\n",
       "      <td>12225</td>\n",
       "      <td>2021-08-13</td>\n",
       "      <td>76</td>\n",
       "      <td>0.0</td>\n",
       "    </tr>\n",
       "    <tr>\n",
       "      <th>5476247</th>\n",
       "      <td>546862</td>\n",
       "      <td>9673</td>\n",
       "      <td>2021-04-13</td>\n",
       "      <td>2308</td>\n",
       "      <td>49.0</td>\n",
       "    </tr>\n",
       "    <tr>\n",
       "      <th>5476248</th>\n",
       "      <td>697262</td>\n",
       "      <td>15297</td>\n",
       "      <td>2021-08-20</td>\n",
       "      <td>18307</td>\n",
       "      <td>63.0</td>\n",
       "    </tr>\n",
       "    <tr>\n",
       "      <th>5476249</th>\n",
       "      <td>384202</td>\n",
       "      <td>16197</td>\n",
       "      <td>2021-04-19</td>\n",
       "      <td>6203</td>\n",
       "      <td>100.0</td>\n",
       "    </tr>\n",
       "    <tr>\n",
       "      <th>5476250</th>\n",
       "      <td>319709</td>\n",
       "      <td>4436</td>\n",
       "      <td>2021-08-15</td>\n",
       "      <td>3921</td>\n",
       "      <td>45.0</td>\n",
       "    </tr>\n",
       "  </tbody>\n",
       "</table>\n",
       "<p>5476251 rows × 5 columns</p>\n",
       "</div>"
      ],
      "text/plain": [
       "         user_id  item_id last_watch_dt  total_dur  watched_pct\n",
       "0         176549     9506    2021-05-11       4250         72.0\n",
       "1         699317     1659    2021-05-29       8317        100.0\n",
       "2         656683     7107    2021-05-09         10          0.0\n",
       "3         864613     7638    2021-07-05      14483        100.0\n",
       "4         964868     9506    2021-04-30       6725        100.0\n",
       "...          ...      ...           ...        ...          ...\n",
       "5476246   648596    12225    2021-08-13         76          0.0\n",
       "5476247   546862     9673    2021-04-13       2308         49.0\n",
       "5476248   697262    15297    2021-08-20      18307         63.0\n",
       "5476249   384202    16197    2021-04-19       6203        100.0\n",
       "5476250   319709     4436    2021-08-15       3921         45.0\n",
       "\n",
       "[5476251 rows x 5 columns]"
      ]
     },
     "execution_count": 6,
     "metadata": {},
     "output_type": "execute_result"
    }
   ],
   "source": [
    "interactions"
   ]
  },
  {
   "cell_type": "markdown",
   "id": "33d6ef25",
   "metadata": {},
   "source": [
    "## Подготовка данных"
   ]
  },
  {
   "cell_type": "code",
   "execution_count": 7,
   "id": "4c0b826c",
   "metadata": {
    "ExecuteTime": {
     "end_time": "2022-12-01T15:51:34.379476Z",
     "start_time": "2022-12-01T15:51:32.137737Z"
    }
   },
   "outputs": [],
   "source": [
    "Columns.Datetime = 'last_watch_dt'\n",
    "interactions.drop(interactions[interactions[Columns.Datetime].str.len() != 10].index, inplace=True)\n",
    "interactions[Columns.Datetime] = pd.to_datetime(interactions[Columns.Datetime], format='%Y-%m-%d')"
   ]
  },
  {
   "cell_type": "code",
   "execution_count": 8,
   "id": "3ac7280c",
   "metadata": {
    "ExecuteTime": {
     "end_time": "2022-12-01T15:51:34.398209Z",
     "start_time": "2022-12-01T15:51:34.380873Z"
    }
   },
   "outputs": [],
   "source": [
    "max_date = interactions[Columns.Datetime].max()"
   ]
  },
  {
   "cell_type": "code",
   "execution_count": 9,
   "id": "1b201278",
   "metadata": {
    "ExecuteTime": {
     "end_time": "2022-12-01T15:51:34.444301Z",
     "start_time": "2022-12-01T15:51:34.400537Z"
    }
   },
   "outputs": [],
   "source": [
    "interactions[Columns.Weight] = np.where(interactions['watched_pct'] > 10, 3, 1)"
   ]
  },
  {
   "cell_type": "code",
   "execution_count": 10,
   "id": "501135e3",
   "metadata": {
    "ExecuteTime": {
     "end_time": "2022-12-01T15:51:34.915770Z",
     "start_time": "2022-12-01T15:51:34.447736Z"
    }
   },
   "outputs": [
    {
     "name": "stdout",
     "output_type": "stream",
     "text": [
      "train: (4985269, 6)\n",
      "test: (490982, 6)\n"
     ]
    }
   ],
   "source": [
    "train = interactions[interactions[Columns.Datetime] < max_date - pd.Timedelta(days=7)].copy()\n",
    "test = interactions[interactions[Columns.Datetime] >= max_date - pd.Timedelta(days=7)].copy()\n",
    "\n",
    "print(f\"train: {train.shape}\")\n",
    "print(f\"test: {test.shape}\")"
   ]
  },
  {
   "cell_type": "code",
   "execution_count": 11,
   "id": "27b6a41f",
   "metadata": {
    "ExecuteTime": {
     "end_time": "2022-12-01T15:51:35.480029Z",
     "start_time": "2022-12-01T15:51:34.917693Z"
    }
   },
   "outputs": [],
   "source": [
    "train.drop(train.query(\"total_dur < 300\").index, inplace=True)"
   ]
  },
  {
   "cell_type": "code",
   "execution_count": 12,
   "id": "cd37a861",
   "metadata": {
    "ExecuteTime": {
     "end_time": "2022-12-01T15:51:36.399545Z",
     "start_time": "2022-12-01T15:51:35.484137Z"
    }
   },
   "outputs": [],
   "source": [
    "# отфильтруем холодных пользователей из теста\n",
    "cold_users = set(test[Columns.User]) - set(train[Columns.User])"
   ]
  },
  {
   "cell_type": "code",
   "execution_count": 13,
   "id": "4420ef5d",
   "metadata": {
    "ExecuteTime": {
     "end_time": "2022-12-01T15:51:36.482769Z",
     "start_time": "2022-12-01T15:51:36.401355Z"
    }
   },
   "outputs": [],
   "source": [
    "test.drop(test[test[Columns.User].isin(cold_users)].index, inplace=True)"
   ]
  },
  {
   "cell_type": "markdown",
   "id": "228c3ac8",
   "metadata": {
    "ExecuteTime": {
     "end_time": "2022-11-28T14:39:06.759058Z",
     "start_time": "2022-11-28T14:39:06.751602Z"
    }
   },
   "source": [
    "## Подготовка фичей"
   ]
  },
  {
   "cell_type": "markdown",
   "id": "164087a6",
   "metadata": {
    "ExecuteTime": {
     "end_time": "2022-11-28T14:39:23.179218Z",
     "start_time": "2022-11-28T14:39:23.165408Z"
    }
   },
   "source": [
    "### Пользовательские фичи"
   ]
  },
  {
   "cell_type": "code",
   "execution_count": 14,
   "id": "f9f13d41",
   "metadata": {
    "ExecuteTime": {
     "end_time": "2022-12-01T15:51:36.740962Z",
     "start_time": "2022-12-01T15:51:36.484909Z"
    }
   },
   "outputs": [
    {
     "data": {
      "text/plain": [
       "user_id     0.000000\n",
       "age         0.016776\n",
       "income      0.017586\n",
       "sex         0.016462\n",
       "kids_flg    0.000000\n",
       "dtype: float64"
      ]
     },
     "execution_count": 14,
     "metadata": {},
     "output_type": "execute_result"
    }
   ],
   "source": [
    "# Сколько в % незаполненных полей у Пользователя\n",
    "users.isnull().sum()/len(users)"
   ]
  },
  {
   "cell_type": "code",
   "execution_count": 15,
   "id": "d3ce6c82",
   "metadata": {
    "ExecuteTime": {
     "end_time": "2022-12-01T15:51:37.000756Z",
     "start_time": "2022-12-01T15:51:36.742702Z"
    }
   },
   "outputs": [],
   "source": [
    "# % не большой => можно заменить пустые значения\n",
    "users.fillna('Unknown', inplace=True)"
   ]
  },
  {
   "cell_type": "code",
   "execution_count": 16,
   "id": "a150606d",
   "metadata": {
    "ExecuteTime": {
     "end_time": "2022-12-01T15:51:37.167896Z",
     "start_time": "2022-12-01T15:51:37.002433Z"
    }
   },
   "outputs": [],
   "source": [
    "# оставляем у df users только тех, кто попал в train\n",
    "users = users.loc[users[Columns.User].isin(train[Columns.User])].copy()"
   ]
  },
  {
   "cell_type": "code",
   "execution_count": 17,
   "id": "9eb4719c",
   "metadata": {
    "ExecuteTime": {
     "end_time": "2022-12-01T15:51:37.179332Z",
     "start_time": "2022-12-01T15:51:37.169682Z"
    }
   },
   "outputs": [
    {
     "data": {
      "text/html": [
       "<div>\n",
       "<style scoped>\n",
       "    .dataframe tbody tr th:only-of-type {\n",
       "        vertical-align: middle;\n",
       "    }\n",
       "\n",
       "    .dataframe tbody tr th {\n",
       "        vertical-align: top;\n",
       "    }\n",
       "\n",
       "    .dataframe thead th {\n",
       "        text-align: right;\n",
       "    }\n",
       "</style>\n",
       "<table border=\"1\" class=\"dataframe\">\n",
       "  <thead>\n",
       "    <tr style=\"text-align: right;\">\n",
       "      <th></th>\n",
       "      <th>user_id</th>\n",
       "      <th>age</th>\n",
       "      <th>income</th>\n",
       "      <th>sex</th>\n",
       "      <th>kids_flg</th>\n",
       "    </tr>\n",
       "  </thead>\n",
       "  <tbody>\n",
       "    <tr>\n",
       "      <th>0</th>\n",
       "      <td>973171</td>\n",
       "      <td>age_25_34</td>\n",
       "      <td>income_60_90</td>\n",
       "      <td>М</td>\n",
       "      <td>1</td>\n",
       "    </tr>\n",
       "    <tr>\n",
       "      <th>1</th>\n",
       "      <td>962099</td>\n",
       "      <td>age_18_24</td>\n",
       "      <td>income_20_40</td>\n",
       "      <td>М</td>\n",
       "      <td>0</td>\n",
       "    </tr>\n",
       "    <tr>\n",
       "      <th>3</th>\n",
       "      <td>721985</td>\n",
       "      <td>age_45_54</td>\n",
       "      <td>income_20_40</td>\n",
       "      <td>Ж</td>\n",
       "      <td>0</td>\n",
       "    </tr>\n",
       "    <tr>\n",
       "      <th>4</th>\n",
       "      <td>704055</td>\n",
       "      <td>age_35_44</td>\n",
       "      <td>income_60_90</td>\n",
       "      <td>Ж</td>\n",
       "      <td>0</td>\n",
       "    </tr>\n",
       "    <tr>\n",
       "      <th>5</th>\n",
       "      <td>1037719</td>\n",
       "      <td>age_45_54</td>\n",
       "      <td>income_60_90</td>\n",
       "      <td>М</td>\n",
       "      <td>0</td>\n",
       "    </tr>\n",
       "    <tr>\n",
       "      <th>...</th>\n",
       "      <td>...</td>\n",
       "      <td>...</td>\n",
       "      <td>...</td>\n",
       "      <td>...</td>\n",
       "      <td>...</td>\n",
       "    </tr>\n",
       "    <tr>\n",
       "      <th>840184</th>\n",
       "      <td>529394</td>\n",
       "      <td>age_25_34</td>\n",
       "      <td>income_40_60</td>\n",
       "      <td>Ж</td>\n",
       "      <td>0</td>\n",
       "    </tr>\n",
       "    <tr>\n",
       "      <th>840186</th>\n",
       "      <td>80113</td>\n",
       "      <td>age_25_34</td>\n",
       "      <td>income_40_60</td>\n",
       "      <td>Ж</td>\n",
       "      <td>0</td>\n",
       "    </tr>\n",
       "    <tr>\n",
       "      <th>840188</th>\n",
       "      <td>312839</td>\n",
       "      <td>age_65_inf</td>\n",
       "      <td>income_60_90</td>\n",
       "      <td>Ж</td>\n",
       "      <td>0</td>\n",
       "    </tr>\n",
       "    <tr>\n",
       "      <th>840189</th>\n",
       "      <td>191349</td>\n",
       "      <td>age_45_54</td>\n",
       "      <td>income_40_60</td>\n",
       "      <td>М</td>\n",
       "      <td>1</td>\n",
       "    </tr>\n",
       "    <tr>\n",
       "      <th>840190</th>\n",
       "      <td>393868</td>\n",
       "      <td>age_25_34</td>\n",
       "      <td>income_20_40</td>\n",
       "      <td>М</td>\n",
       "      <td>0</td>\n",
       "    </tr>\n",
       "  </tbody>\n",
       "</table>\n",
       "<p>586668 rows × 5 columns</p>\n",
       "</div>"
      ],
      "text/plain": [
       "        user_id         age        income sex  kids_flg\n",
       "0        973171   age_25_34  income_60_90   М         1\n",
       "1        962099   age_18_24  income_20_40   М         0\n",
       "3        721985   age_45_54  income_20_40   Ж         0\n",
       "4        704055   age_35_44  income_60_90   Ж         0\n",
       "5       1037719   age_45_54  income_60_90   М         0\n",
       "...         ...         ...           ...  ..       ...\n",
       "840184   529394   age_25_34  income_40_60   Ж         0\n",
       "840186    80113   age_25_34  income_40_60   Ж         0\n",
       "840188   312839  age_65_inf  income_60_90   Ж         0\n",
       "840189   191349   age_45_54  income_40_60   М         1\n",
       "840190   393868   age_25_34  income_20_40   М         0\n",
       "\n",
       "[586668 rows x 5 columns]"
      ]
     },
     "execution_count": 17,
     "metadata": {},
     "output_type": "execute_result"
    }
   ],
   "source": [
    "users"
   ]
  },
  {
   "cell_type": "code",
   "execution_count": 18,
   "id": "c3d531f6",
   "metadata": {
    "ExecuteTime": {
     "end_time": "2022-12-01T15:51:37.246469Z",
     "start_time": "2022-12-01T15:51:37.181226Z"
    }
   },
   "outputs": [
    {
     "data": {
      "text/html": [
       "<div>\n",
       "<style scoped>\n",
       "    .dataframe tbody tr th:only-of-type {\n",
       "        vertical-align: middle;\n",
       "    }\n",
       "\n",
       "    .dataframe tbody tr th {\n",
       "        vertical-align: top;\n",
       "    }\n",
       "\n",
       "    .dataframe thead th {\n",
       "        text-align: right;\n",
       "    }\n",
       "</style>\n",
       "<table border=\"1\" class=\"dataframe\">\n",
       "  <thead>\n",
       "    <tr style=\"text-align: right;\">\n",
       "      <th></th>\n",
       "      <th>id</th>\n",
       "      <th>value</th>\n",
       "      <th>feature</th>\n",
       "    </tr>\n",
       "  </thead>\n",
       "  <tbody>\n",
       "    <tr>\n",
       "      <th>0</th>\n",
       "      <td>973171</td>\n",
       "      <td>М</td>\n",
       "      <td>sex</td>\n",
       "    </tr>\n",
       "    <tr>\n",
       "      <th>1</th>\n",
       "      <td>962099</td>\n",
       "      <td>М</td>\n",
       "      <td>sex</td>\n",
       "    </tr>\n",
       "    <tr>\n",
       "      <th>3</th>\n",
       "      <td>721985</td>\n",
       "      <td>Ж</td>\n",
       "      <td>sex</td>\n",
       "    </tr>\n",
       "    <tr>\n",
       "      <th>4</th>\n",
       "      <td>704055</td>\n",
       "      <td>Ж</td>\n",
       "      <td>sex</td>\n",
       "    </tr>\n",
       "    <tr>\n",
       "      <th>5</th>\n",
       "      <td>1037719</td>\n",
       "      <td>М</td>\n",
       "      <td>sex</td>\n",
       "    </tr>\n",
       "  </tbody>\n",
       "</table>\n",
       "</div>"
      ],
      "text/plain": [
       "        id value feature\n",
       "0   973171     М     sex\n",
       "1   962099     М     sex\n",
       "3   721985     Ж     sex\n",
       "4   704055     Ж     sex\n",
       "5  1037719     М     sex"
      ]
     },
     "execution_count": 18,
     "metadata": {},
     "output_type": "execute_result"
    }
   ],
   "source": [
    "user_features_frames = []\n",
    "for feature in [\"sex\", \"age\", \"income\"]:\n",
    "    feature_frame = users.reindex(columns=[Columns.User, feature])\n",
    "    feature_frame.columns = [\"id\", \"value\"]\n",
    "    feature_frame[\"feature\"] = feature\n",
    "    user_features_frames.append(feature_frame)\n",
    "user_features = pd.concat(user_features_frames)\n",
    "user_features.head()"
   ]
  },
  {
   "cell_type": "markdown",
   "id": "b8537e6c",
   "metadata": {},
   "source": [
    "### Фичи фильмов"
   ]
  },
  {
   "cell_type": "code",
   "execution_count": 19,
   "id": "5ec38314",
   "metadata": {
    "ExecuteTime": {
     "end_time": "2022-12-01T15:51:37.277091Z",
     "start_time": "2022-12-01T15:51:37.248351Z"
    }
   },
   "outputs": [
    {
     "data": {
      "text/plain": [
       "item_id         0.000000\n",
       "content_type    0.000000\n",
       "title           0.000000\n",
       "title_orig      0.297250\n",
       "release_year    0.006139\n",
       "genres          0.000000\n",
       "countries       0.002318\n",
       "for_kids        0.964543\n",
       "age_rating      0.000125\n",
       "studios         0.933283\n",
       "directors       0.094531\n",
       "actors          0.164067\n",
       "description     0.000125\n",
       "keywords        0.026499\n",
       "dtype: float64"
      ]
     },
     "execution_count": 19,
     "metadata": {},
     "output_type": "execute_result"
    }
   ],
   "source": [
    "# Сколько в % незаполненных полей у Item\n",
    "items.isnull().sum()/len(items)"
   ]
  },
  {
   "cell_type": "code",
   "execution_count": 20,
   "id": "3ced8776",
   "metadata": {
    "ExecuteTime": {
     "end_time": "2022-12-01T15:51:37.317999Z",
     "start_time": "2022-12-01T15:51:37.279364Z"
    }
   },
   "outputs": [],
   "source": [
    "# оставляем у df users только тех, кто попал в train\n",
    "items = items.loc[items[Columns.Item].isin(train[Columns.Item])].copy()"
   ]
  },
  {
   "cell_type": "markdown",
   "id": "bbf35234",
   "metadata": {},
   "source": [
    "### Жанр"
   ]
  },
  {
   "cell_type": "code",
   "execution_count": 21,
   "id": "edbd17bc",
   "metadata": {
    "ExecuteTime": {
     "end_time": "2022-12-01T15:51:37.431088Z",
     "start_time": "2022-12-01T15:51:37.319908Z"
    }
   },
   "outputs": [
    {
     "data": {
      "text/html": [
       "<div>\n",
       "<style scoped>\n",
       "    .dataframe tbody tr th:only-of-type {\n",
       "        vertical-align: middle;\n",
       "    }\n",
       "\n",
       "    .dataframe tbody tr th {\n",
       "        vertical-align: top;\n",
       "    }\n",
       "\n",
       "    .dataframe thead th {\n",
       "        text-align: right;\n",
       "    }\n",
       "</style>\n",
       "<table border=\"1\" class=\"dataframe\">\n",
       "  <thead>\n",
       "    <tr style=\"text-align: right;\">\n",
       "      <th></th>\n",
       "      <th>id</th>\n",
       "      <th>value</th>\n",
       "      <th>feature</th>\n",
       "    </tr>\n",
       "  </thead>\n",
       "  <tbody>\n",
       "    <tr>\n",
       "      <th>0</th>\n",
       "      <td>10711</td>\n",
       "      <td>драмы</td>\n",
       "      <td>genre</td>\n",
       "    </tr>\n",
       "    <tr>\n",
       "      <th>0</th>\n",
       "      <td>10711</td>\n",
       "      <td>зарубежные</td>\n",
       "      <td>genre</td>\n",
       "    </tr>\n",
       "    <tr>\n",
       "      <th>0</th>\n",
       "      <td>10711</td>\n",
       "      <td>детективы</td>\n",
       "      <td>genre</td>\n",
       "    </tr>\n",
       "    <tr>\n",
       "      <th>0</th>\n",
       "      <td>10711</td>\n",
       "      <td>мелодрамы</td>\n",
       "      <td>genre</td>\n",
       "    </tr>\n",
       "    <tr>\n",
       "      <th>1</th>\n",
       "      <td>2508</td>\n",
       "      <td>зарубежные</td>\n",
       "      <td>genre</td>\n",
       "    </tr>\n",
       "  </tbody>\n",
       "</table>\n",
       "</div>"
      ],
      "text/plain": [
       "      id       value feature\n",
       "0  10711       драмы   genre\n",
       "0  10711  зарубежные   genre\n",
       "0  10711   детективы   genre\n",
       "0  10711   мелодрамы   genre\n",
       "1   2508  зарубежные   genre"
      ]
     },
     "execution_count": 21,
     "metadata": {},
     "output_type": "execute_result"
    }
   ],
   "source": [
    "items[\"genre\"] = items[\"genres\"].str.lower().str.replace(\", \", \",\", regex=False).str.split(\",\")\n",
    "genre_feature = items[[\"item_id\", \"genre\"]].explode(\"genre\")\n",
    "genre_feature.columns = [\"id\", \"value\"]\n",
    "genre_feature[\"feature\"] = \"genre\"\n",
    "genre_feature.head()"
   ]
  },
  {
   "cell_type": "markdown",
   "id": "47bf076f",
   "metadata": {
    "ExecuteTime": {
     "end_time": "2022-11-28T14:42:28.825537Z",
     "start_time": "2022-11-28T14:42:28.818854Z"
    }
   },
   "source": [
    "### Содержание"
   ]
  },
  {
   "cell_type": "code",
   "execution_count": 22,
   "id": "5f9e3443",
   "metadata": {
    "ExecuteTime": {
     "end_time": "2022-12-01T15:51:37.443670Z",
     "start_time": "2022-12-01T15:51:37.432958Z"
    }
   },
   "outputs": [
    {
     "data": {
      "text/html": [
       "<div>\n",
       "<style scoped>\n",
       "    .dataframe tbody tr th:only-of-type {\n",
       "        vertical-align: middle;\n",
       "    }\n",
       "\n",
       "    .dataframe tbody tr th {\n",
       "        vertical-align: top;\n",
       "    }\n",
       "\n",
       "    .dataframe thead th {\n",
       "        text-align: right;\n",
       "    }\n",
       "</style>\n",
       "<table border=\"1\" class=\"dataframe\">\n",
       "  <thead>\n",
       "    <tr style=\"text-align: right;\">\n",
       "      <th></th>\n",
       "      <th>id</th>\n",
       "      <th>value</th>\n",
       "      <th>feature</th>\n",
       "    </tr>\n",
       "  </thead>\n",
       "  <tbody>\n",
       "    <tr>\n",
       "      <th>0</th>\n",
       "      <td>10711</td>\n",
       "      <td>film</td>\n",
       "      <td>content_type</td>\n",
       "    </tr>\n",
       "    <tr>\n",
       "      <th>1</th>\n",
       "      <td>2508</td>\n",
       "      <td>film</td>\n",
       "      <td>content_type</td>\n",
       "    </tr>\n",
       "    <tr>\n",
       "      <th>2</th>\n",
       "      <td>10716</td>\n",
       "      <td>film</td>\n",
       "      <td>content_type</td>\n",
       "    </tr>\n",
       "    <tr>\n",
       "      <th>3</th>\n",
       "      <td>7868</td>\n",
       "      <td>film</td>\n",
       "      <td>content_type</td>\n",
       "    </tr>\n",
       "    <tr>\n",
       "      <th>4</th>\n",
       "      <td>16268</td>\n",
       "      <td>film</td>\n",
       "      <td>content_type</td>\n",
       "    </tr>\n",
       "  </tbody>\n",
       "</table>\n",
       "</div>"
      ],
      "text/plain": [
       "      id value       feature\n",
       "0  10711  film  content_type\n",
       "1   2508  film  content_type\n",
       "2  10716  film  content_type\n",
       "3   7868  film  content_type\n",
       "4  16268  film  content_type"
      ]
     },
     "execution_count": 22,
     "metadata": {},
     "output_type": "execute_result"
    }
   ],
   "source": [
    "content_feature = items.reindex(columns=[Columns.Item, \"content_type\"])\n",
    "content_feature.columns = [\"id\", \"value\"]\n",
    "content_feature[\"feature\"] = \"content_type\"\n",
    "content_feature.head()"
   ]
  },
  {
   "cell_type": "markdown",
   "id": "413ce938",
   "metadata": {},
   "source": [
    "### Режисер"
   ]
  },
  {
   "cell_type": "code",
   "execution_count": 23,
   "id": "c501d014",
   "metadata": {
    "ExecuteTime": {
     "end_time": "2022-12-01T15:51:37.481208Z",
     "start_time": "2022-12-01T15:51:37.445356Z"
    }
   },
   "outputs": [
    {
     "data": {
      "text/html": [
       "<div>\n",
       "<style scoped>\n",
       "    .dataframe tbody tr th:only-of-type {\n",
       "        vertical-align: middle;\n",
       "    }\n",
       "\n",
       "    .dataframe tbody tr th {\n",
       "        vertical-align: top;\n",
       "    }\n",
       "\n",
       "    .dataframe thead th {\n",
       "        text-align: right;\n",
       "    }\n",
       "</style>\n",
       "<table border=\"1\" class=\"dataframe\">\n",
       "  <thead>\n",
       "    <tr style=\"text-align: right;\">\n",
       "      <th></th>\n",
       "      <th>id</th>\n",
       "      <th>value</th>\n",
       "      <th>feature</th>\n",
       "    </tr>\n",
       "  </thead>\n",
       "  <tbody>\n",
       "    <tr>\n",
       "      <th>0</th>\n",
       "      <td>10711</td>\n",
       "      <td>педро альмодовар</td>\n",
       "      <td>director</td>\n",
       "    </tr>\n",
       "    <tr>\n",
       "      <th>1</th>\n",
       "      <td>2508</td>\n",
       "      <td>скот армстронг</td>\n",
       "      <td>director</td>\n",
       "    </tr>\n",
       "    <tr>\n",
       "      <th>2</th>\n",
       "      <td>10716</td>\n",
       "      <td>адам п. калтраро</td>\n",
       "      <td>director</td>\n",
       "    </tr>\n",
       "    <tr>\n",
       "      <th>3</th>\n",
       "      <td>7868</td>\n",
       "      <td>эндрю хэй</td>\n",
       "      <td>director</td>\n",
       "    </tr>\n",
       "    <tr>\n",
       "      <th>4</th>\n",
       "      <td>16268</td>\n",
       "      <td>виктор садовский</td>\n",
       "      <td>director</td>\n",
       "    </tr>\n",
       "  </tbody>\n",
       "</table>\n",
       "</div>"
      ],
      "text/plain": [
       "      id             value   feature\n",
       "0  10711  педро альмодовар  director\n",
       "1   2508    скот армстронг  director\n",
       "2  10716  адам п. калтраро  director\n",
       "3   7868         эндрю хэй  director\n",
       "4  16268  виктор садовский  director"
      ]
     },
     "execution_count": 23,
     "metadata": {},
     "output_type": "execute_result"
    }
   ],
   "source": [
    "items[\"director\"] = items[\"directors\"].str.lower().str.replace(\", \", \",\", regex=False).str.split(\",\")\n",
    "director_feature = items[[\"item_id\", \"director\"]].explode(\"director\")\n",
    "director_feature.columns = [\"id\", \"value\"]\n",
    "director_feature[\"feature\"] = \"director\"\n",
    "director_feature.head()"
   ]
  },
  {
   "cell_type": "markdown",
   "id": "43847ece",
   "metadata": {},
   "source": [
    "### Страна"
   ]
  },
  {
   "cell_type": "code",
   "execution_count": 24,
   "id": "bfe0784b",
   "metadata": {
    "ExecuteTime": {
     "end_time": "2022-12-01T15:51:37.523404Z",
     "start_time": "2022-12-01T15:51:37.482804Z"
    }
   },
   "outputs": [
    {
     "data": {
      "text/html": [
       "<div>\n",
       "<style scoped>\n",
       "    .dataframe tbody tr th:only-of-type {\n",
       "        vertical-align: middle;\n",
       "    }\n",
       "\n",
       "    .dataframe tbody tr th {\n",
       "        vertical-align: top;\n",
       "    }\n",
       "\n",
       "    .dataframe thead th {\n",
       "        text-align: right;\n",
       "    }\n",
       "</style>\n",
       "<table border=\"1\" class=\"dataframe\">\n",
       "  <thead>\n",
       "    <tr style=\"text-align: right;\">\n",
       "      <th></th>\n",
       "      <th>id</th>\n",
       "      <th>value</th>\n",
       "      <th>feature</th>\n",
       "    </tr>\n",
       "  </thead>\n",
       "  <tbody>\n",
       "    <tr>\n",
       "      <th>0</th>\n",
       "      <td>10711</td>\n",
       "      <td>испания</td>\n",
       "      <td>country</td>\n",
       "    </tr>\n",
       "    <tr>\n",
       "      <th>1</th>\n",
       "      <td>2508</td>\n",
       "      <td>сша</td>\n",
       "      <td>country</td>\n",
       "    </tr>\n",
       "    <tr>\n",
       "      <th>2</th>\n",
       "      <td>10716</td>\n",
       "      <td>канада</td>\n",
       "      <td>country</td>\n",
       "    </tr>\n",
       "    <tr>\n",
       "      <th>3</th>\n",
       "      <td>7868</td>\n",
       "      <td>великобритания</td>\n",
       "      <td>country</td>\n",
       "    </tr>\n",
       "    <tr>\n",
       "      <th>4</th>\n",
       "      <td>16268</td>\n",
       "      <td>ссср</td>\n",
       "      <td>country</td>\n",
       "    </tr>\n",
       "  </tbody>\n",
       "</table>\n",
       "</div>"
      ],
      "text/plain": [
       "      id           value  feature\n",
       "0  10711         испания  country\n",
       "1   2508             сша  country\n",
       "2  10716          канада  country\n",
       "3   7868  великобритания  country\n",
       "4  16268            ссср  country"
      ]
     },
     "execution_count": 24,
     "metadata": {},
     "output_type": "execute_result"
    }
   ],
   "source": [
    "items[\"country\"] = items[\"countries\"].str.lower().str.replace(\", \", \",\", regex=False).str.split(\",\")\n",
    "country_feature = items[[\"item_id\", \"country\"]].explode(\"country\")\n",
    "country_feature.columns = [\"id\", \"value\"]\n",
    "country_feature[\"feature\"] = \"country\"\n",
    "country_feature.head()"
   ]
  },
  {
   "cell_type": "markdown",
   "id": "459d17af",
   "metadata": {},
   "source": [
    "### Год Выпуска"
   ]
  },
  {
   "cell_type": "code",
   "execution_count": 25,
   "id": "40e98f6d",
   "metadata": {
    "ExecuteTime": {
     "end_time": "2022-12-01T15:51:37.535811Z",
     "start_time": "2022-12-01T15:51:37.525600Z"
    }
   },
   "outputs": [
    {
     "data": {
      "text/html": [
       "<div>\n",
       "<style scoped>\n",
       "    .dataframe tbody tr th:only-of-type {\n",
       "        vertical-align: middle;\n",
       "    }\n",
       "\n",
       "    .dataframe tbody tr th {\n",
       "        vertical-align: top;\n",
       "    }\n",
       "\n",
       "    .dataframe thead th {\n",
       "        text-align: right;\n",
       "    }\n",
       "</style>\n",
       "<table border=\"1\" class=\"dataframe\">\n",
       "  <thead>\n",
       "    <tr style=\"text-align: right;\">\n",
       "      <th></th>\n",
       "      <th>id</th>\n",
       "      <th>value</th>\n",
       "      <th>feature</th>\n",
       "    </tr>\n",
       "  </thead>\n",
       "  <tbody>\n",
       "    <tr>\n",
       "      <th>0</th>\n",
       "      <td>10711</td>\n",
       "      <td>2002.0</td>\n",
       "      <td>release_year</td>\n",
       "    </tr>\n",
       "    <tr>\n",
       "      <th>1</th>\n",
       "      <td>2508</td>\n",
       "      <td>2014.0</td>\n",
       "      <td>release_year</td>\n",
       "    </tr>\n",
       "    <tr>\n",
       "      <th>2</th>\n",
       "      <td>10716</td>\n",
       "      <td>2011.0</td>\n",
       "      <td>release_year</td>\n",
       "    </tr>\n",
       "    <tr>\n",
       "      <th>3</th>\n",
       "      <td>7868</td>\n",
       "      <td>2015.0</td>\n",
       "      <td>release_year</td>\n",
       "    </tr>\n",
       "    <tr>\n",
       "      <th>4</th>\n",
       "      <td>16268</td>\n",
       "      <td>1978.0</td>\n",
       "      <td>release_year</td>\n",
       "    </tr>\n",
       "  </tbody>\n",
       "</table>\n",
       "</div>"
      ],
      "text/plain": [
       "      id   value       feature\n",
       "0  10711  2002.0  release_year\n",
       "1   2508  2014.0  release_year\n",
       "2  10716  2011.0  release_year\n",
       "3   7868  2015.0  release_year\n",
       "4  16268  1978.0  release_year"
      ]
     },
     "execution_count": 25,
     "metadata": {},
     "output_type": "execute_result"
    }
   ],
   "source": [
    "year_feature = items.reindex(columns=[Columns.Item, \"release_year\"])\n",
    "year_feature.columns = [\"id\", \"value\"]\n",
    "year_feature[\"feature\"] = \"release_year\"\n",
    "year_feature.head()"
   ]
  },
  {
   "cell_type": "code",
   "execution_count": 26,
   "id": "393ffccd",
   "metadata": {
    "ExecuteTime": {
     "end_time": "2022-12-01T15:51:37.562255Z",
     "start_time": "2022-12-01T15:51:37.539442Z"
    }
   },
   "outputs": [
    {
     "data": {
      "text/html": [
       "<div>\n",
       "<style scoped>\n",
       "    .dataframe tbody tr th:only-of-type {\n",
       "        vertical-align: middle;\n",
       "    }\n",
       "\n",
       "    .dataframe tbody tr th {\n",
       "        vertical-align: top;\n",
       "    }\n",
       "\n",
       "    .dataframe thead th {\n",
       "        text-align: right;\n",
       "    }\n",
       "</style>\n",
       "<table border=\"1\" class=\"dataframe\">\n",
       "  <thead>\n",
       "    <tr style=\"text-align: right;\">\n",
       "      <th></th>\n",
       "      <th>item_id</th>\n",
       "      <th>content_type</th>\n",
       "      <th>title</th>\n",
       "      <th>title_orig</th>\n",
       "      <th>release_year</th>\n",
       "      <th>genres</th>\n",
       "      <th>countries</th>\n",
       "      <th>for_kids</th>\n",
       "      <th>age_rating</th>\n",
       "      <th>studios</th>\n",
       "      <th>directors</th>\n",
       "      <th>actors</th>\n",
       "      <th>description</th>\n",
       "      <th>keywords</th>\n",
       "      <th>genre</th>\n",
       "      <th>director</th>\n",
       "      <th>country</th>\n",
       "    </tr>\n",
       "  </thead>\n",
       "  <tbody>\n",
       "    <tr>\n",
       "      <th>0</th>\n",
       "      <td>10711</td>\n",
       "      <td>film</td>\n",
       "      <td>Поговори с ней</td>\n",
       "      <td>Hable con ella</td>\n",
       "      <td>2002.0</td>\n",
       "      <td>драмы, зарубежные, детективы, мелодрамы</td>\n",
       "      <td>Испания</td>\n",
       "      <td>NaN</td>\n",
       "      <td>16.0</td>\n",
       "      <td>NaN</td>\n",
       "      <td>Педро Альмодовар</td>\n",
       "      <td>Адольфо Фернандес, Ана Фернандес, Дарио Гранди...</td>\n",
       "      <td>Мелодрама легендарного Педро Альмодовара «Пого...</td>\n",
       "      <td>Поговори, ней, 2002, Испания, друзья, любовь, ...</td>\n",
       "      <td>[драмы, зарубежные, детективы, мелодрамы]</td>\n",
       "      <td>[педро альмодовар]</td>\n",
       "      <td>[испания]</td>\n",
       "    </tr>\n",
       "    <tr>\n",
       "      <th>1</th>\n",
       "      <td>2508</td>\n",
       "      <td>film</td>\n",
       "      <td>Голые перцы</td>\n",
       "      <td>Search Party</td>\n",
       "      <td>2014.0</td>\n",
       "      <td>зарубежные, приключения, комедии</td>\n",
       "      <td>США</td>\n",
       "      <td>NaN</td>\n",
       "      <td>16.0</td>\n",
       "      <td>NaN</td>\n",
       "      <td>Скот Армстронг</td>\n",
       "      <td>Адам Палли, Брайан Хаски, Дж.Б. Смув, Джейсон ...</td>\n",
       "      <td>Уморительная современная комедия на популярную...</td>\n",
       "      <td>Голые, перцы, 2014, США, друзья, свадьбы, прео...</td>\n",
       "      <td>[зарубежные, приключения, комедии]</td>\n",
       "      <td>[скот армстронг]</td>\n",
       "      <td>[сша]</td>\n",
       "    </tr>\n",
       "    <tr>\n",
       "      <th>2</th>\n",
       "      <td>10716</td>\n",
       "      <td>film</td>\n",
       "      <td>Тактическая сила</td>\n",
       "      <td>Tactical Force</td>\n",
       "      <td>2011.0</td>\n",
       "      <td>криминал, зарубежные, триллеры, боевики, комедии</td>\n",
       "      <td>Канада</td>\n",
       "      <td>NaN</td>\n",
       "      <td>16.0</td>\n",
       "      <td>NaN</td>\n",
       "      <td>Адам П. Калтраро</td>\n",
       "      <td>Адриан Холмс, Даррен Шалави, Джерри Вассерман,...</td>\n",
       "      <td>Профессиональный рестлер Стив Остин («Все или ...</td>\n",
       "      <td>Тактическая, сила, 2011, Канада, бандиты, ганг...</td>\n",
       "      <td>[криминал, зарубежные, триллеры, боевики, коме...</td>\n",
       "      <td>[адам п. калтраро]</td>\n",
       "      <td>[канада]</td>\n",
       "    </tr>\n",
       "    <tr>\n",
       "      <th>3</th>\n",
       "      <td>7868</td>\n",
       "      <td>film</td>\n",
       "      <td>45 лет</td>\n",
       "      <td>45 Years</td>\n",
       "      <td>2015.0</td>\n",
       "      <td>драмы, зарубежные, мелодрамы</td>\n",
       "      <td>Великобритания</td>\n",
       "      <td>NaN</td>\n",
       "      <td>16.0</td>\n",
       "      <td>NaN</td>\n",
       "      <td>Эндрю Хэй</td>\n",
       "      <td>Александра Риддлстон-Барретт, Джеральдин Джейм...</td>\n",
       "      <td>Шарлотта Рэмплинг, Том Кортни, Джеральдин Джей...</td>\n",
       "      <td>45, лет, 2015, Великобритания, брак, жизнь, лю...</td>\n",
       "      <td>[драмы, зарубежные, мелодрамы]</td>\n",
       "      <td>[эндрю хэй]</td>\n",
       "      <td>[великобритания]</td>\n",
       "    </tr>\n",
       "    <tr>\n",
       "      <th>4</th>\n",
       "      <td>16268</td>\n",
       "      <td>film</td>\n",
       "      <td>Все решает мгновение</td>\n",
       "      <td>NaN</td>\n",
       "      <td>1978.0</td>\n",
       "      <td>драмы, спорт, советские, мелодрамы</td>\n",
       "      <td>СССР</td>\n",
       "      <td>NaN</td>\n",
       "      <td>12.0</td>\n",
       "      <td>Ленфильм</td>\n",
       "      <td>Виктор Садовский</td>\n",
       "      <td>Александр Абдулов, Александр Демьяненко, Алекс...</td>\n",
       "      <td>Расчетливая чаровница из советского кинохита «...</td>\n",
       "      <td>Все, решает, мгновение, 1978, СССР, сильные, ж...</td>\n",
       "      <td>[драмы, спорт, советские, мелодрамы]</td>\n",
       "      <td>[виктор садовский]</td>\n",
       "      <td>[ссср]</td>\n",
       "    </tr>\n",
       "    <tr>\n",
       "      <th>...</th>\n",
       "      <td>...</td>\n",
       "      <td>...</td>\n",
       "      <td>...</td>\n",
       "      <td>...</td>\n",
       "      <td>...</td>\n",
       "      <td>...</td>\n",
       "      <td>...</td>\n",
       "      <td>...</td>\n",
       "      <td>...</td>\n",
       "      <td>...</td>\n",
       "      <td>...</td>\n",
       "      <td>...</td>\n",
       "      <td>...</td>\n",
       "      <td>...</td>\n",
       "      <td>...</td>\n",
       "      <td>...</td>\n",
       "      <td>...</td>\n",
       "    </tr>\n",
       "    <tr>\n",
       "      <th>15958</th>\n",
       "      <td>6443</td>\n",
       "      <td>series</td>\n",
       "      <td>Полярный круг</td>\n",
       "      <td>Arctic Circle</td>\n",
       "      <td>2018.0</td>\n",
       "      <td>драмы, триллеры, криминал</td>\n",
       "      <td>Финляндия, Германия</td>\n",
       "      <td>NaN</td>\n",
       "      <td>16.0</td>\n",
       "      <td>NaN</td>\n",
       "      <td>Ханну Салонен</td>\n",
       "      <td>Иина Куустонен, Максимилиан Брюкнер, Пихла Вии...</td>\n",
       "      <td>Во время погони за браконьерами по лесу, сотру...</td>\n",
       "      <td>убийство, вирус, расследование преступления, н...</td>\n",
       "      <td>[драмы, триллеры, криминал]</td>\n",
       "      <td>[ханну салонен]</td>\n",
       "      <td>[финляндия, германия]</td>\n",
       "    </tr>\n",
       "    <tr>\n",
       "      <th>15959</th>\n",
       "      <td>2367</td>\n",
       "      <td>series</td>\n",
       "      <td>Надежда</td>\n",
       "      <td>NaN</td>\n",
       "      <td>2020.0</td>\n",
       "      <td>драмы, боевики</td>\n",
       "      <td>Россия</td>\n",
       "      <td>0.0</td>\n",
       "      <td>18.0</td>\n",
       "      <td>NaN</td>\n",
       "      <td>Елена Хазанова</td>\n",
       "      <td>Виктория Исакова, Александр Кузьмин, Алексей М...</td>\n",
       "      <td>Оригинальный киносериал от создателей «Бывших»...</td>\n",
       "      <td>Надежда, 2020, Россия</td>\n",
       "      <td>[драмы, боевики]</td>\n",
       "      <td>[елена хазанова]</td>\n",
       "      <td>[россия]</td>\n",
       "    </tr>\n",
       "    <tr>\n",
       "      <th>15960</th>\n",
       "      <td>10632</td>\n",
       "      <td>series</td>\n",
       "      <td>Сговор</td>\n",
       "      <td>Hassel</td>\n",
       "      <td>2017.0</td>\n",
       "      <td>драмы, триллеры, криминал</td>\n",
       "      <td>Россия</td>\n",
       "      <td>0.0</td>\n",
       "      <td>18.0</td>\n",
       "      <td>NaN</td>\n",
       "      <td>Эшреф Рейбрук, Амир Камдин, Эрик Эгер</td>\n",
       "      <td>Ола Рапас, Алиетт Офейм, Уильма Лиден, Шанти Р...</td>\n",
       "      <td>Криминальная драма по мотивам романов о шведск...</td>\n",
       "      <td>Сговор, 2017, Россия</td>\n",
       "      <td>[драмы, триллеры, криминал]</td>\n",
       "      <td>[эшреф рейбрук, амир камдин, эрик эгер]</td>\n",
       "      <td>[россия]</td>\n",
       "    </tr>\n",
       "    <tr>\n",
       "      <th>15961</th>\n",
       "      <td>4538</td>\n",
       "      <td>series</td>\n",
       "      <td>Среди камней</td>\n",
       "      <td>Darklands</td>\n",
       "      <td>2019.0</td>\n",
       "      <td>драмы, спорт, криминал</td>\n",
       "      <td>Россия</td>\n",
       "      <td>0.0</td>\n",
       "      <td>18.0</td>\n",
       "      <td>NaN</td>\n",
       "      <td>Марк О’Коннор, Конор МакМахон</td>\n",
       "      <td>Дэйн Уайт О’Хара, Томас Кэйн-Бирн, Джудит Родд...</td>\n",
       "      <td>Семнадцатилетний Дэмиен мечтает вырваться за п...</td>\n",
       "      <td>Среди, камней, 2019, Россия</td>\n",
       "      <td>[драмы, спорт, криминал]</td>\n",
       "      <td>[марк о’коннор, конор макмахон]</td>\n",
       "      <td>[россия]</td>\n",
       "    </tr>\n",
       "    <tr>\n",
       "      <th>15962</th>\n",
       "      <td>3206</td>\n",
       "      <td>series</td>\n",
       "      <td>Гоша</td>\n",
       "      <td>NaN</td>\n",
       "      <td>2019.0</td>\n",
       "      <td>комедии</td>\n",
       "      <td>Россия</td>\n",
       "      <td>0.0</td>\n",
       "      <td>16.0</td>\n",
       "      <td>NaN</td>\n",
       "      <td>Михаил Миронов</td>\n",
       "      <td>Мкртыч Арзуманян, Виктория Рунцова</td>\n",
       "      <td>Добродушный Гоша не может выйти из дома, чтобы...</td>\n",
       "      <td>Гоша, 2019, Россия</td>\n",
       "      <td>[комедии]</td>\n",
       "      <td>[михаил миронов]</td>\n",
       "      <td>[россия]</td>\n",
       "    </tr>\n",
       "  </tbody>\n",
       "</table>\n",
       "<p>14019 rows × 17 columns</p>\n",
       "</div>"
      ],
      "text/plain": [
       "       item_id content_type                 title      title_orig  \\\n",
       "0        10711         film        Поговори с ней  Hable con ella   \n",
       "1         2508         film           Голые перцы    Search Party   \n",
       "2        10716         film      Тактическая сила  Tactical Force   \n",
       "3         7868         film                45 лет        45 Years   \n",
       "4        16268         film  Все решает мгновение             NaN   \n",
       "...        ...          ...                   ...             ...   \n",
       "15958     6443       series         Полярный круг   Arctic Circle   \n",
       "15959     2367       series               Надежда             NaN   \n",
       "15960    10632       series                Сговор          Hassel   \n",
       "15961     4538       series          Среди камней      Darklands    \n",
       "15962     3206       series                  Гоша             NaN   \n",
       "\n",
       "       release_year                                            genres  \\\n",
       "0            2002.0           драмы, зарубежные, детективы, мелодрамы   \n",
       "1            2014.0                  зарубежные, приключения, комедии   \n",
       "2            2011.0  криминал, зарубежные, триллеры, боевики, комедии   \n",
       "3            2015.0                      драмы, зарубежные, мелодрамы   \n",
       "4            1978.0                драмы, спорт, советские, мелодрамы   \n",
       "...             ...                                               ...   \n",
       "15958        2018.0                         драмы, триллеры, криминал   \n",
       "15959        2020.0                                    драмы, боевики   \n",
       "15960        2017.0                         драмы, триллеры, криминал   \n",
       "15961        2019.0                            драмы, спорт, криминал   \n",
       "15962        2019.0                                           комедии   \n",
       "\n",
       "                 countries  for_kids  age_rating   studios  \\\n",
       "0                  Испания       NaN        16.0       NaN   \n",
       "1                      США       NaN        16.0       NaN   \n",
       "2                   Канада       NaN        16.0       NaN   \n",
       "3           Великобритания       NaN        16.0       NaN   \n",
       "4                     СССР       NaN        12.0  Ленфильм   \n",
       "...                    ...       ...         ...       ...   \n",
       "15958  Финляндия, Германия       NaN        16.0       NaN   \n",
       "15959               Россия       0.0        18.0       NaN   \n",
       "15960               Россия       0.0        18.0       NaN   \n",
       "15961               Россия       0.0        18.0       NaN   \n",
       "15962               Россия       0.0        16.0       NaN   \n",
       "\n",
       "                                   directors  \\\n",
       "0                           Педро Альмодовар   \n",
       "1                             Скот Армстронг   \n",
       "2                           Адам П. Калтраро   \n",
       "3                                  Эндрю Хэй   \n",
       "4                           Виктор Садовский   \n",
       "...                                      ...   \n",
       "15958                          Ханну Салонен   \n",
       "15959                         Елена Хазанова   \n",
       "15960  Эшреф Рейбрук, Амир Камдин, Эрик Эгер   \n",
       "15961          Марк О’Коннор, Конор МакМахон   \n",
       "15962                         Михаил Миронов   \n",
       "\n",
       "                                                  actors  \\\n",
       "0      Адольфо Фернандес, Ана Фернандес, Дарио Гранди...   \n",
       "1      Адам Палли, Брайан Хаски, Дж.Б. Смув, Джейсон ...   \n",
       "2      Адриан Холмс, Даррен Шалави, Джерри Вассерман,...   \n",
       "3      Александра Риддлстон-Барретт, Джеральдин Джейм...   \n",
       "4      Александр Абдулов, Александр Демьяненко, Алекс...   \n",
       "...                                                  ...   \n",
       "15958  Иина Куустонен, Максимилиан Брюкнер, Пихла Вии...   \n",
       "15959  Виктория Исакова, Александр Кузьмин, Алексей М...   \n",
       "15960  Ола Рапас, Алиетт Офейм, Уильма Лиден, Шанти Р...   \n",
       "15961  Дэйн Уайт О’Хара, Томас Кэйн-Бирн, Джудит Родд...   \n",
       "15962                 Мкртыч Арзуманян, Виктория Рунцова   \n",
       "\n",
       "                                             description  \\\n",
       "0      Мелодрама легендарного Педро Альмодовара «Пого...   \n",
       "1      Уморительная современная комедия на популярную...   \n",
       "2      Профессиональный рестлер Стив Остин («Все или ...   \n",
       "3      Шарлотта Рэмплинг, Том Кортни, Джеральдин Джей...   \n",
       "4      Расчетливая чаровница из советского кинохита «...   \n",
       "...                                                  ...   \n",
       "15958  Во время погони за браконьерами по лесу, сотру...   \n",
       "15959  Оригинальный киносериал от создателей «Бывших»...   \n",
       "15960  Криминальная драма по мотивам романов о шведск...   \n",
       "15961  Семнадцатилетний Дэмиен мечтает вырваться за п...   \n",
       "15962  Добродушный Гоша не может выйти из дома, чтобы...   \n",
       "\n",
       "                                                keywords  \\\n",
       "0      Поговори, ней, 2002, Испания, друзья, любовь, ...   \n",
       "1      Голые, перцы, 2014, США, друзья, свадьбы, прео...   \n",
       "2      Тактическая, сила, 2011, Канада, бандиты, ганг...   \n",
       "3      45, лет, 2015, Великобритания, брак, жизнь, лю...   \n",
       "4      Все, решает, мгновение, 1978, СССР, сильные, ж...   \n",
       "...                                                  ...   \n",
       "15958  убийство, вирус, расследование преступления, н...   \n",
       "15959                              Надежда, 2020, Россия   \n",
       "15960                               Сговор, 2017, Россия   \n",
       "15961                        Среди, камней, 2019, Россия   \n",
       "15962                                 Гоша, 2019, Россия   \n",
       "\n",
       "                                                   genre  \\\n",
       "0              [драмы, зарубежные, детективы, мелодрамы]   \n",
       "1                     [зарубежные, приключения, комедии]   \n",
       "2      [криминал, зарубежные, триллеры, боевики, коме...   \n",
       "3                         [драмы, зарубежные, мелодрамы]   \n",
       "4                   [драмы, спорт, советские, мелодрамы]   \n",
       "...                                                  ...   \n",
       "15958                        [драмы, триллеры, криминал]   \n",
       "15959                                   [драмы, боевики]   \n",
       "15960                        [драмы, триллеры, криминал]   \n",
       "15961                           [драмы, спорт, криминал]   \n",
       "15962                                          [комедии]   \n",
       "\n",
       "                                      director                country  \n",
       "0                           [педро альмодовар]              [испания]  \n",
       "1                             [скот армстронг]                  [сша]  \n",
       "2                           [адам п. калтраро]               [канада]  \n",
       "3                                  [эндрю хэй]       [великобритания]  \n",
       "4                           [виктор садовский]                 [ссср]  \n",
       "...                                        ...                    ...  \n",
       "15958                          [ханну салонен]  [финляндия, германия]  \n",
       "15959                         [елена хазанова]               [россия]  \n",
       "15960  [эшреф рейбрук, амир камдин, эрик эгер]               [россия]  \n",
       "15961          [марк о’коннор, конор макмахон]               [россия]  \n",
       "15962                         [михаил миронов]               [россия]  \n",
       "\n",
       "[14019 rows x 17 columns]"
      ]
     },
     "execution_count": 26,
     "metadata": {},
     "output_type": "execute_result"
    }
   ],
   "source": [
    "items"
   ]
  },
  {
   "cell_type": "code",
   "execution_count": 27,
   "id": "491c453a",
   "metadata": {
    "ExecuteTime": {
     "end_time": "2022-12-01T15:51:37.575409Z",
     "start_time": "2022-12-01T15:51:37.564102Z"
    }
   },
   "outputs": [
    {
     "data": {
      "text/html": [
       "<div>\n",
       "<style scoped>\n",
       "    .dataframe tbody tr th:only-of-type {\n",
       "        vertical-align: middle;\n",
       "    }\n",
       "\n",
       "    .dataframe tbody tr th {\n",
       "        vertical-align: top;\n",
       "    }\n",
       "\n",
       "    .dataframe thead th {\n",
       "        text-align: right;\n",
       "    }\n",
       "</style>\n",
       "<table border=\"1\" class=\"dataframe\">\n",
       "  <thead>\n",
       "    <tr style=\"text-align: right;\">\n",
       "      <th></th>\n",
       "      <th>id</th>\n",
       "      <th>value</th>\n",
       "      <th>feature</th>\n",
       "    </tr>\n",
       "  </thead>\n",
       "  <tbody>\n",
       "    <tr>\n",
       "      <th>0</th>\n",
       "      <td>10711</td>\n",
       "      <td>драмы</td>\n",
       "      <td>genre</td>\n",
       "    </tr>\n",
       "    <tr>\n",
       "      <th>0</th>\n",
       "      <td>10711</td>\n",
       "      <td>зарубежные</td>\n",
       "      <td>genre</td>\n",
       "    </tr>\n",
       "    <tr>\n",
       "      <th>0</th>\n",
       "      <td>10711</td>\n",
       "      <td>детективы</td>\n",
       "      <td>genre</td>\n",
       "    </tr>\n",
       "    <tr>\n",
       "      <th>0</th>\n",
       "      <td>10711</td>\n",
       "      <td>мелодрамы</td>\n",
       "      <td>genre</td>\n",
       "    </tr>\n",
       "    <tr>\n",
       "      <th>1</th>\n",
       "      <td>2508</td>\n",
       "      <td>зарубежные</td>\n",
       "      <td>genre</td>\n",
       "    </tr>\n",
       "    <tr>\n",
       "      <th>...</th>\n",
       "      <td>...</td>\n",
       "      <td>...</td>\n",
       "      <td>...</td>\n",
       "    </tr>\n",
       "    <tr>\n",
       "      <th>15960</th>\n",
       "      <td>10632</td>\n",
       "      <td>амир камдин</td>\n",
       "      <td>director</td>\n",
       "    </tr>\n",
       "    <tr>\n",
       "      <th>15960</th>\n",
       "      <td>10632</td>\n",
       "      <td>эрик эгер</td>\n",
       "      <td>director</td>\n",
       "    </tr>\n",
       "    <tr>\n",
       "      <th>15961</th>\n",
       "      <td>4538</td>\n",
       "      <td>марк о’коннор</td>\n",
       "      <td>director</td>\n",
       "    </tr>\n",
       "    <tr>\n",
       "      <th>15961</th>\n",
       "      <td>4538</td>\n",
       "      <td>конор макмахон</td>\n",
       "      <td>director</td>\n",
       "    </tr>\n",
       "    <tr>\n",
       "      <th>15962</th>\n",
       "      <td>3206</td>\n",
       "      <td>михаил миронов</td>\n",
       "      <td>director</td>\n",
       "    </tr>\n",
       "  </tbody>\n",
       "</table>\n",
       "<p>97633 rows × 3 columns</p>\n",
       "</div>"
      ],
      "text/plain": [
       "          id           value   feature\n",
       "0      10711           драмы     genre\n",
       "0      10711      зарубежные     genre\n",
       "0      10711       детективы     genre\n",
       "0      10711       мелодрамы     genre\n",
       "1       2508      зарубежные     genre\n",
       "...      ...             ...       ...\n",
       "15960  10632     амир камдин  director\n",
       "15960  10632       эрик эгер  director\n",
       "15961   4538   марк о’коннор  director\n",
       "15961   4538  конор макмахон  director\n",
       "15962   3206  михаил миронов  director\n",
       "\n",
       "[97633 rows x 3 columns]"
      ]
     },
     "execution_count": 27,
     "metadata": {},
     "output_type": "execute_result"
    }
   ],
   "source": [
    "# Объединяем фичи\n",
    "item_features = pd.concat((genre_feature, content_feature, country_feature, year_feature, director_feature))\n",
    "item_features"
   ]
  },
  {
   "cell_type": "markdown",
   "id": "3ef3616b",
   "metadata": {},
   "source": [
    "## Метрики"
   ]
  },
  {
   "cell_type": "code",
   "execution_count": 28,
   "id": "fecf5ee1",
   "metadata": {
    "ExecuteTime": {
     "end_time": "2022-12-01T15:51:37.586013Z",
     "start_time": "2022-12-01T15:51:37.580696Z"
    }
   },
   "outputs": [
    {
     "name": "stdout",
     "output_type": "stream",
     "text": [
      "{'MAP@1': MAP(k=1, divide_by_k=False),\n",
      " 'MAP@10': MAP(k=10, divide_by_k=False),\n",
      " 'MAP@2': MAP(k=2, divide_by_k=False),\n",
      " 'MAP@3': MAP(k=3, divide_by_k=False),\n",
      " 'MAP@4': MAP(k=4, divide_by_k=False),\n",
      " 'MAP@5': MAP(k=5, divide_by_k=False),\n",
      " 'MAP@6': MAP(k=6, divide_by_k=False),\n",
      " 'MAP@7': MAP(k=7, divide_by_k=False),\n",
      " 'MAP@8': MAP(k=8, divide_by_k=False),\n",
      " 'MAP@9': MAP(k=9, divide_by_k=False),\n",
      " 'Precision@1': Precision(k=1),\n",
      " 'Precision@10': Precision(k=10),\n",
      " 'Precision@2': Precision(k=2),\n",
      " 'Precision@3': Precision(k=3),\n",
      " 'Precision@4': Precision(k=4),\n",
      " 'Precision@5': Precision(k=5),\n",
      " 'Precision@6': Precision(k=6),\n",
      " 'Precision@7': Precision(k=7),\n",
      " 'Precision@8': Precision(k=8),\n",
      " 'Precision@9': Precision(k=9),\n",
      " 'Recall@1': Recall(k=1),\n",
      " 'Recall@10': Recall(k=10),\n",
      " 'Recall@2': Recall(k=2),\n",
      " 'Recall@3': Recall(k=3),\n",
      " 'Recall@4': Recall(k=4),\n",
      " 'Recall@5': Recall(k=5),\n",
      " 'Recall@6': Recall(k=6),\n",
      " 'Recall@7': Recall(k=7),\n",
      " 'Recall@8': Recall(k=8),\n",
      " 'Recall@9': Recall(k=9)}\n"
     ]
    }
   ],
   "source": [
    "metrics_name = {\n",
    "    'Precision': Precision,\n",
    "    'Recall': Recall,\n",
    "    'MAP': MAP,\n",
    "}\n",
    "\n",
    "metrics = {}\n",
    "for metric_name, metric in metrics_name.items():\n",
    "    for k in range(1, 11):\n",
    "        metrics[f'{metric_name}@{k}'] = metric(k=k)\n",
    "\n",
    "\n",
    "pprint(metrics)"
   ]
  },
  {
   "cell_type": "markdown",
   "id": "7b3f8163",
   "metadata": {
    "ExecuteTime": {
     "end_time": "2022-11-28T14:43:47.297831Z",
     "start_time": "2022-11-28T14:43:47.290587Z"
    }
   },
   "source": [
    "## Подбор гиперпараметртов"
   ]
  },
  {
   "cell_type": "code",
   "execution_count": 36,
   "id": "3812dde4",
   "metadata": {
    "ExecuteTime": {
     "end_time": "2022-12-01T15:59:03.599611Z",
     "start_time": "2022-12-01T15:59:02.746846Z"
    }
   },
   "outputs": [],
   "source": [
    "dataset = Dataset.construct(\n",
    "    interactions_df=train,\n",
    "    user_features_df=user_features,\n",
    "    cat_user_features=[\"sex\", \"age\", \"income\"],\n",
    "    item_features_df=item_features,\n",
    "    cat_item_features=[\"genre\", \"content_type\", \"director\", \"country\", \"release_year\"],\n",
    ")\n",
    "\n",
    "TEST_USERS = test[Columns.User].unique()\n",
    "results_opto = []\n",
    "\n",
    "\n",
    "def objective(trial):\n",
    "    # общие параметры\n",
    "    K_RECOS = 10\n",
    "    RANDOM_STATE = 42\n",
    "    NUM_THREADS = 4\n",
    "    N_FACTORS = trial.suggest_int(\"factors\", 32, 64, 32, log=False)\n",
    "\n",
    "    reco_model = trial.suggest_categorical(\"reco_model\", [\"ALS\", \"LightFM\"])\n",
    "    model_quality_opto = {\"model\": f\"{reco_model}_{trial.number}\"}\n",
    "\n",
    "    if reco_model == \"ALS\":\n",
    "        # гиперпараметры для ALS\n",
    "        regularization = trial.suggest_float(\"regularization\",\n",
    "                                             1e-4,\n",
    "                                             1.0,\n",
    "                                             log=False)\n",
    "        iterations = trial.suggest_int(\"iterations\", 1, 6, 2, log=False)\n",
    "        is_fitting_features = True\n",
    "        # Инициализация ALS\n",
    "        model = ImplicitALSWrapperModel(\n",
    "            model=AlternatingLeastSquares(factors=N_FACTORS,\n",
    "                                 random_state=RANDOM_STATE,\n",
    "                                 num_threads=NUM_THREADS,\n",
    "                                 regularization=regularization,\n",
    "                                 iterations=iterations),\n",
    "            fit_features_together=is_fitting_features,\n",
    "        )\n",
    "    else:\n",
    "        # гиперпараметры для Lightfm\n",
    "        N_EPOCHS = trial.suggest_int(\"epochs\", 1, 50, 10, log=False)  # Lightfm\n",
    "        USER_ALPHA = trial.suggest_float(\"user_alpha\",\n",
    "                                         1e-3,\n",
    "                                         1.0,\n",
    "                                         log=True)  # Lightfm\n",
    "        ITEM_ALPHA = trial.suggest_float(\"item_alpha\", 1e-3, 1.0,\n",
    "                                         log=True)  # Lightfm\n",
    "        LEARNING_RATE = trial.suggest_float(\"learning_rate\",\n",
    "                                            1e-4,\n",
    "                                            1.0,\n",
    "                                            log=True)  # Lightfm\n",
    "        # Инициализация Lightfm\n",
    "        model = LightFMWrapperModel(\n",
    "            LightFM(\n",
    "                no_components=N_FACTORS,\n",
    "                loss=loss,\n",
    "                random_state=RANDOM_STATE,\n",
    "                learning_rate=LEARNING_RATE,\n",
    "                user_alpha=USER_ALPHA,\n",
    "                item_alpha=ITEM_ALPHA,\n",
    "            ),\n",
    "            epochs=N_EPOCHS,\n",
    "            num_threads=NUM_THREADS,\n",
    "        )\n",
    "\n",
    "    # обучение модели\n",
    "    model.fit(dataset)\n",
    "    recos = model.recommend(\n",
    "        users=TEST_USERS,\n",
    "        dataset=dataset,\n",
    "        k=K_RECOS,\n",
    "        filter_viewed=True,\n",
    "    )\n",
    "\n",
    "    # Подсчет метрик\n",
    "    metric_values = calc_metrics(metrics, recos, test, train)\n",
    "    model_quality_opto.update(metric_values)\n",
    "    results_opto.append(model_quality_opto)\n",
    "\n",
    "    return metric_values.get('MAP@10') # максимизируемая метрика"
   ]
  },
  {
   "cell_type": "code",
   "execution_count": null,
   "id": "e2a792fa",
   "metadata": {
    "ExecuteTime": {
     "end_time": "2022-12-01T15:59:07.341209Z",
     "start_time": "2022-12-01T15:59:06.738438Z"
    }
   },
   "outputs": [],
   "source": [
    "# запуск подбора гиперпараметров\n",
    "study = optuna.create_study(direction=\"maximize\")\n",
    "study.optimize(objective, n_trials=1)\n",
    "\n",
    "pprint(f\"Number of finished trials: {len(study.trials)}\")\n",
    "trial = study.best_trial\n",
    "pprint(f\"Best trial: {trial}\")"
   ]
  },
  {
   "cell_type": "markdown",
   "id": "20755865",
   "metadata": {},
   "source": [
    "## Approximate Nearest Neighbors"
   ]
  },
  {
   "cell_type": "code",
   "execution_count": 39,
   "id": "fc4e72b0",
   "metadata": {
    "ExecuteTime": {
     "end_time": "2022-11-30T15:25:27.979466Z",
     "start_time": "2022-11-30T15:25:27.963423Z"
    }
   },
   "outputs": [],
   "source": [
    "K_RECOS = 10\n",
    "RANDOM_STATE = 42\n",
    "NUM_THREADS = 4\n",
    "N_FACTORS = 64\n",
    "N_EPOCHS = 1 # Lightfm\n",
    "USER_ALPHA = 0 # Lightfm\n",
    "ITEM_ALPHA = 0 # Lightfm\n",
    "LEARNING_RATE = 0.03 # Lightfm"
   ]
  },
  {
   "cell_type": "code",
   "execution_count": 40,
   "id": "78d6ef6a",
   "metadata": {
    "ExecuteTime": {
     "end_time": "2022-11-30T15:25:49.119501Z",
     "start_time": "2022-11-30T15:25:33.609830Z"
    },
    "scrolled": true
   },
   "outputs": [
    {
     "data": {
      "text/plain": [
       "<rectools.models.lightfm.LightFMWrapperModel at 0x7fcf177ee5e0>"
      ]
     },
     "execution_count": 40,
     "metadata": {},
     "output_type": "execute_result"
    }
   ],
   "source": [
    "model = LightFMWrapperModel(\n",
    "            LightFM(\n",
    "                no_components=N_FACTORS,\n",
    "                loss='warp',\n",
    "                random_state=RANDOM_STATE,\n",
    "                learning_rate=LEARNING_RATE,\n",
    "                user_alpha=USER_ALPHA,\n",
    "                item_alpha=ITEM_ALPHA,\n",
    "            ),\n",
    "            epochs=N_EPOCHS,\n",
    "            num_threads=NUM_THREADS,\n",
    "        )\n",
    "\n",
    "model.fit(dataset)"
   ]
  },
  {
   "cell_type": "code",
   "execution_count": 41,
   "id": "fb40ad48",
   "metadata": {
    "ExecuteTime": {
     "end_time": "2022-11-30T15:27:50.069220Z",
     "start_time": "2022-11-30T15:26:36.731872Z"
    }
   },
   "outputs": [],
   "source": [
    "recos = model.recommend(\n",
    "    users=TEST_USERS,\n",
    "    dataset=dataset,\n",
    "    k=K_RECOS,\n",
    "    filter_viewed=True,\n",
    ")"
   ]
  },
  {
   "cell_type": "code",
   "execution_count": 42,
   "id": "45519095",
   "metadata": {
    "ExecuteTime": {
     "end_time": "2022-11-30T15:27:53.859459Z",
     "start_time": "2022-11-30T15:27:52.828049Z"
    }
   },
   "outputs": [],
   "source": [
    "results = []\n",
    "model_quality = {'model': 'LightFM'}\n",
    "metric_values = calc_metrics(metrics, recos, test, train)\n",
    "model_quality.update(metric_values)\n",
    "results.append(model_quality)\n",
    "\n",
    "df_quality = pd.DataFrame(results).T\n",
    "\n",
    "df_quality.columns = df_quality.iloc[0]\n",
    "\n",
    "df_quality.drop('model', inplace=True)"
   ]
  },
  {
   "cell_type": "code",
   "execution_count": 43,
   "id": "bc0254fb",
   "metadata": {
    "ExecuteTime": {
     "end_time": "2022-11-30T15:27:55.741930Z",
     "start_time": "2022-11-30T15:27:55.709973Z"
    },
    "scrolled": true
   },
   "outputs": [
    {
     "data": {
      "text/html": [
       "<style type=\"text/css\">\n",
       "#T_3a886_row0_col0, #T_3a886_row1_col0, #T_3a886_row2_col0, #T_3a886_row3_col0, #T_3a886_row4_col0, #T_3a886_row5_col0, #T_3a886_row6_col0, #T_3a886_row7_col0, #T_3a886_row8_col0, #T_3a886_row9_col0, #T_3a886_row10_col0, #T_3a886_row11_col0, #T_3a886_row12_col0, #T_3a886_row13_col0, #T_3a886_row14_col0, #T_3a886_row15_col0, #T_3a886_row16_col0, #T_3a886_row17_col0, #T_3a886_row18_col0, #T_3a886_row19_col0, #T_3a886_row20_col0, #T_3a886_row21_col0, #T_3a886_row22_col0, #T_3a886_row23_col0, #T_3a886_row24_col0, #T_3a886_row25_col0, #T_3a886_row26_col0, #T_3a886_row27_col0, #T_3a886_row28_col0, #T_3a886_row29_col0 {\n",
       "  background-color: lightgreen;\n",
       "}\n",
       "</style>\n",
       "<table id=\"T_3a886\">\n",
       "  <thead>\n",
       "    <tr>\n",
       "      <th class=\"index_name level0\" >model</th>\n",
       "      <th id=\"T_3a886_level0_col0\" class=\"col_heading level0 col0\" >LightFM</th>\n",
       "    </tr>\n",
       "  </thead>\n",
       "  <tbody>\n",
       "    <tr>\n",
       "      <th id=\"T_3a886_level0_row0\" class=\"row_heading level0 row0\" >Precision@1</th>\n",
       "      <td id=\"T_3a886_row0_col0\" class=\"data row0 col0\" >0.083043</td>\n",
       "    </tr>\n",
       "    <tr>\n",
       "      <th id=\"T_3a886_level0_row1\" class=\"row_heading level0 row1\" >Recall@1</th>\n",
       "      <td id=\"T_3a886_row1_col0\" class=\"data row1 col0\" >0.042287</td>\n",
       "    </tr>\n",
       "    <tr>\n",
       "      <th id=\"T_3a886_level0_row2\" class=\"row_heading level0 row2\" >Precision@2</th>\n",
       "      <td id=\"T_3a886_row2_col0\" class=\"data row2 col0\" >0.070506</td>\n",
       "    </tr>\n",
       "    <tr>\n",
       "      <th id=\"T_3a886_level0_row3\" class=\"row_heading level0 row3\" >Recall@2</th>\n",
       "      <td id=\"T_3a886_row3_col0\" class=\"data row3 col0\" >0.070637</td>\n",
       "    </tr>\n",
       "    <tr>\n",
       "      <th id=\"T_3a886_level0_row4\" class=\"row_heading level0 row4\" >Precision@3</th>\n",
       "      <td id=\"T_3a886_row4_col0\" class=\"data row4 col0\" >0.062113</td>\n",
       "    </tr>\n",
       "    <tr>\n",
       "      <th id=\"T_3a886_level0_row5\" class=\"row_heading level0 row5\" >Recall@3</th>\n",
       "      <td id=\"T_3a886_row5_col0\" class=\"data row5 col0\" >0.091601</td>\n",
       "    </tr>\n",
       "    <tr>\n",
       "      <th id=\"T_3a886_level0_row6\" class=\"row_heading level0 row6\" >Precision@4</th>\n",
       "      <td id=\"T_3a886_row6_col0\" class=\"data row6 col0\" >0.055932</td>\n",
       "    </tr>\n",
       "    <tr>\n",
       "      <th id=\"T_3a886_level0_row7\" class=\"row_heading level0 row7\" >Recall@4</th>\n",
       "      <td id=\"T_3a886_row7_col0\" class=\"data row7 col0\" >0.108630</td>\n",
       "    </tr>\n",
       "    <tr>\n",
       "      <th id=\"T_3a886_level0_row8\" class=\"row_heading level0 row8\" >Precision@5</th>\n",
       "      <td id=\"T_3a886_row8_col0\" class=\"data row8 col0\" >0.050513</td>\n",
       "    </tr>\n",
       "    <tr>\n",
       "      <th id=\"T_3a886_level0_row9\" class=\"row_heading level0 row9\" >Recall@5</th>\n",
       "      <td id=\"T_3a886_row9_col0\" class=\"data row9 col0\" >0.121060</td>\n",
       "    </tr>\n",
       "    <tr>\n",
       "      <th id=\"T_3a886_level0_row10\" class=\"row_heading level0 row10\" >Precision@6</th>\n",
       "      <td id=\"T_3a886_row10_col0\" class=\"data row10 col0\" >0.045998</td>\n",
       "    </tr>\n",
       "    <tr>\n",
       "      <th id=\"T_3a886_level0_row11\" class=\"row_heading level0 row11\" >Recall@6</th>\n",
       "      <td id=\"T_3a886_row11_col0\" class=\"data row11 col0\" >0.130890</td>\n",
       "    </tr>\n",
       "    <tr>\n",
       "      <th id=\"T_3a886_level0_row12\" class=\"row_heading level0 row12\" >Precision@7</th>\n",
       "      <td id=\"T_3a886_row12_col0\" class=\"data row12 col0\" >0.042084</td>\n",
       "    </tr>\n",
       "    <tr>\n",
       "      <th id=\"T_3a886_level0_row13\" class=\"row_heading level0 row13\" >Recall@7</th>\n",
       "      <td id=\"T_3a886_row13_col0\" class=\"data row13 col0\" >0.138476</td>\n",
       "    </tr>\n",
       "    <tr>\n",
       "      <th id=\"T_3a886_level0_row14\" class=\"row_heading level0 row14\" >Precision@8</th>\n",
       "      <td id=\"T_3a886_row14_col0\" class=\"data row14 col0\" >0.038925</td>\n",
       "    </tr>\n",
       "    <tr>\n",
       "      <th id=\"T_3a886_level0_row15\" class=\"row_heading level0 row15\" >Recall@8</th>\n",
       "      <td id=\"T_3a886_row15_col0\" class=\"data row15 col0\" >0.145273</td>\n",
       "    </tr>\n",
       "    <tr>\n",
       "      <th id=\"T_3a886_level0_row16\" class=\"row_heading level0 row16\" >Precision@9</th>\n",
       "      <td id=\"T_3a886_row16_col0\" class=\"data row16 col0\" >0.036370</td>\n",
       "    </tr>\n",
       "    <tr>\n",
       "      <th id=\"T_3a886_level0_row17\" class=\"row_heading level0 row17\" >Recall@9</th>\n",
       "      <td id=\"T_3a886_row17_col0\" class=\"data row17 col0\" >0.151822</td>\n",
       "    </tr>\n",
       "    <tr>\n",
       "      <th id=\"T_3a886_level0_row18\" class=\"row_heading level0 row18\" >Precision@10</th>\n",
       "      <td id=\"T_3a886_row18_col0\" class=\"data row18 col0\" >0.034271</td>\n",
       "    </tr>\n",
       "    <tr>\n",
       "      <th id=\"T_3a886_level0_row19\" class=\"row_heading level0 row19\" >Recall@10</th>\n",
       "      <td id=\"T_3a886_row19_col0\" class=\"data row19 col0\" >0.158135</td>\n",
       "    </tr>\n",
       "    <tr>\n",
       "      <th id=\"T_3a886_level0_row20\" class=\"row_heading level0 row20\" >MAP@1</th>\n",
       "      <td id=\"T_3a886_row20_col0\" class=\"data row20 col0\" >0.042287</td>\n",
       "    </tr>\n",
       "    <tr>\n",
       "      <th id=\"T_3a886_level0_row21\" class=\"row_heading level0 row21\" >MAP@2</th>\n",
       "      <td id=\"T_3a886_row21_col0\" class=\"data row21 col0\" >0.057162</td>\n",
       "    </tr>\n",
       "    <tr>\n",
       "      <th id=\"T_3a886_level0_row22\" class=\"row_heading level0 row22\" >MAP@3</th>\n",
       "      <td id=\"T_3a886_row22_col0\" class=\"data row22 col0\" >0.064769</td>\n",
       "    </tr>\n",
       "    <tr>\n",
       "      <th id=\"T_3a886_level0_row23\" class=\"row_heading level0 row23\" >MAP@4</th>\n",
       "      <td id=\"T_3a886_row23_col0\" class=\"data row23 col0\" >0.069510</td>\n",
       "    </tr>\n",
       "    <tr>\n",
       "      <th id=\"T_3a886_level0_row24\" class=\"row_heading level0 row24\" >MAP@5</th>\n",
       "      <td id=\"T_3a886_row24_col0\" class=\"data row24 col0\" >0.072375</td>\n",
       "    </tr>\n",
       "    <tr>\n",
       "      <th id=\"T_3a886_level0_row25\" class=\"row_heading level0 row25\" >MAP@6</th>\n",
       "      <td id=\"T_3a886_row25_col0\" class=\"data row25 col0\" >0.074320</td>\n",
       "    </tr>\n",
       "    <tr>\n",
       "      <th id=\"T_3a886_level0_row26\" class=\"row_heading level0 row26\" >MAP@7</th>\n",
       "      <td id=\"T_3a886_row26_col0\" class=\"data row26 col0\" >0.075613</td>\n",
       "    </tr>\n",
       "    <tr>\n",
       "      <th id=\"T_3a886_level0_row27\" class=\"row_heading level0 row27\" >MAP@8</th>\n",
       "      <td id=\"T_3a886_row27_col0\" class=\"data row27 col0\" >0.076632</td>\n",
       "    </tr>\n",
       "    <tr>\n",
       "      <th id=\"T_3a886_level0_row28\" class=\"row_heading level0 row28\" >MAP@9</th>\n",
       "      <td id=\"T_3a886_row28_col0\" class=\"data row28 col0\" >0.077509</td>\n",
       "    </tr>\n",
       "    <tr>\n",
       "      <th id=\"T_3a886_level0_row29\" class=\"row_heading level0 row29\" >MAP@10</th>\n",
       "      <td id=\"T_3a886_row29_col0\" class=\"data row29 col0\" >0.078294</td>\n",
       "    </tr>\n",
       "  </tbody>\n",
       "</table>\n"
      ],
      "text/plain": [
       "<pandas.io.formats.style.Styler at 0x7fcf14cee6a0>"
      ]
     },
     "execution_count": 43,
     "metadata": {},
     "output_type": "execute_result"
    }
   ],
   "source": [
    "df_quality.style.highlight_max(color='lightgreen', axis=1)"
   ]
  },
  {
   "cell_type": "code",
   "execution_count": 44,
   "id": "eb45892a",
   "metadata": {
    "ExecuteTime": {
     "end_time": "2022-11-30T15:28:23.594980Z",
     "start_time": "2022-11-30T15:28:19.928661Z"
    }
   },
   "outputs": [],
   "source": [
    "dill_file = Path().cwd().parent / 'service' / 'models'\n",
    "\n",
    "with open(dill_file / 'LightFM_0.078294.dill', 'wb') as f:\n",
    "    dill.dump(model, f)"
   ]
  },
  {
   "cell_type": "code",
   "execution_count": 45,
   "id": "0952d7ce",
   "metadata": {
    "ExecuteTime": {
     "end_time": "2022-11-30T15:28:26.322434Z",
     "start_time": "2022-11-30T15:28:25.145462Z"
    }
   },
   "outputs": [],
   "source": [
    "dill_file = Path().cwd().parent / 'service' / 'data'\n",
    "\n",
    "with open(dill_file / 'dataset_LightFM_0.078294.dill', 'wb') as f:\n",
    "    dill.dump(dataset, f)"
   ]
  },
  {
   "cell_type": "code",
   "execution_count": 69,
   "id": "ec377a72",
   "metadata": {
    "ExecuteTime": {
     "end_time": "2022-11-30T15:36:23.839795Z",
     "start_time": "2022-11-30T15:36:22.426590Z"
    }
   },
   "outputs": [],
   "source": [
    "user_embeddings, item_embeddings = model.get_vectors(dataset)"
   ]
  },
  {
   "cell_type": "code",
   "execution_count": 70,
   "id": "2645cfef",
   "metadata": {
    "ExecuteTime": {
     "end_time": "2022-11-30T15:36:25.148988Z",
     "start_time": "2022-11-30T15:36:25.136225Z"
    }
   },
   "outputs": [
    {
     "data": {
      "text/plain": [
       "((756562, 66), (14019, 66))"
      ]
     },
     "execution_count": 70,
     "metadata": {},
     "output_type": "execute_result"
    }
   ],
   "source": [
    "user_embeddings.shape, item_embeddings.shape"
   ]
  },
  {
   "cell_type": "code",
   "execution_count": 71,
   "id": "38c068b1",
   "metadata": {
    "ExecuteTime": {
     "end_time": "2022-11-30T15:36:28.049231Z",
     "start_time": "2022-11-30T15:36:28.039794Z"
    }
   },
   "outputs": [],
   "source": [
    "def augment_inner_product(factors):\n",
    "    normed_factors = np.linalg.norm(factors, axis=1)\n",
    "    max_norm = normed_factors.max()\n",
    "\n",
    "    extra_dim = np.sqrt(max_norm ** 2 - normed_factors ** 2).reshape(-1, 1)\n",
    "    augmented_factors = np.append(factors, extra_dim, axis=1)\n",
    "    return max_norm, augmented_factors"
   ]
  },
  {
   "cell_type": "code",
   "execution_count": 72,
   "id": "8b72dba3",
   "metadata": {
    "ExecuteTime": {
     "end_time": "2022-11-30T15:36:29.780405Z",
     "start_time": "2022-11-30T15:36:29.762104Z"
    }
   },
   "outputs": [
    {
     "name": "stdout",
     "output_type": "stream",
     "text": [
      "pre shape:  (14019, 66)\n"
     ]
    },
    {
     "data": {
      "text/plain": [
       "(14019, 67)"
      ]
     },
     "execution_count": 72,
     "metadata": {},
     "output_type": "execute_result"
    }
   ],
   "source": [
    "print('pre shape: ', item_embeddings.shape)\n",
    "max_norm, augmented_item_embeddings = augment_inner_product(item_embeddings)\n",
    "augmented_item_embeddings.shape"
   ]
  },
  {
   "cell_type": "code",
   "execution_count": 73,
   "id": "b13fca33",
   "metadata": {
    "ExecuteTime": {
     "end_time": "2022-11-30T15:36:33.253766Z",
     "start_time": "2022-11-30T15:36:32.431243Z"
    }
   },
   "outputs": [
    {
     "data": {
      "text/plain": [
       "(756562, 67)"
      ]
     },
     "execution_count": 73,
     "metadata": {},
     "output_type": "execute_result"
    }
   ],
   "source": [
    "extra_zero = np.zeros((user_embeddings.shape[0], 1))\n",
    "augmented_user_embeddings = np.append(user_embeddings, extra_zero, axis=1)\n",
    "augmented_user_embeddings.shape"
   ]
  },
  {
   "cell_type": "code",
   "execution_count": 56,
   "id": "bd99a89d",
   "metadata": {
    "ExecuteTime": {
     "end_time": "2022-11-30T15:29:48.155967Z",
     "start_time": "2022-11-30T15:29:48.134466Z"
    }
   },
   "outputs": [
    {
     "data": {
      "text/plain": [
       "array([-1.34910004e+02,  1.00000000e+00,  3.72829586e-02, -2.29887888e-01,\n",
       "        2.19721347e-02, -1.17607884e-01,  1.86465487e-01, -4.29087058e-02,\n",
       "       -9.65012684e-02,  1.86485201e-01,  7.40239322e-02, -6.97900653e-02,\n",
       "        9.24971402e-02, -7.78931379e-02, -2.50789046e-01,  3.92958410e-02,\n",
       "        7.60998577e-02, -1.16163656e-01, -1.98737621e-01, -1.04761831e-01,\n",
       "       -4.61863279e-02, -5.44709638e-02, -3.41998599e-03,  1.40651405e-01,\n",
       "       -2.58379817e-01,  1.48677984e-02,  4.19342145e-02,  8.75925198e-02,\n",
       "       -1.50252372e-01, -9.44809392e-02,  8.93273950e-02,  1.06742702e-01,\n",
       "        4.64314707e-02,  7.10017085e-02,  8.84427354e-02, -1.77015409e-01,\n",
       "        2.45146394e-01, -2.53994107e-01,  1.59706324e-01,  1.81685910e-02,\n",
       "       -1.80056110e-01,  1.28522277e-01,  2.57659584e-01,  1.45844501e-02,\n",
       "        1.19970128e-01,  3.72234024e-02, -2.02342212e-01,  4.92374375e-02,\n",
       "        2.48806834e-01, -1.26030415e-01, -3.70325483e-02,  1.50772557e-01,\n",
       "        4.21895273e-03, -1.46039963e-01, -1.19676493e-01, -1.27088919e-01,\n",
       "       -1.89744502e-01, -1.61069080e-01,  1.09416045e-01,  1.30659014e-01,\n",
       "       -1.69986859e-02, -8.66992101e-02, -2.23000497e-01,  1.07475780e-01,\n",
       "        1.04969874e-01,  1.25463575e-01])"
      ]
     },
     "execution_count": 56,
     "metadata": {},
     "output_type": "execute_result"
    }
   ],
   "source": [
    "user_id = 30\n",
    "user_embeddings[user_id]"
   ]
  },
  {
   "cell_type": "code",
   "execution_count": 43,
   "id": "2356f164",
   "metadata": {
    "ExecuteTime": {
     "end_time": "2022-11-28T15:31:22.703324Z",
     "start_time": "2022-11-28T15:31:22.689837Z"
    }
   },
   "outputs": [
    {
     "data": {
      "text/plain": [
       "array([-2.25044174e+02,  1.00000000e+00,  2.76991814e-01,  3.94240022e-01,\n",
       "        8.08445066e-02,  1.82592094e-01, -2.43438885e-01,  1.93806931e-01,\n",
       "        2.65002817e-01,  3.94734919e-01,  3.23766947e-01,  2.76526213e-01,\n",
       "        8.90274867e-02, -1.47107691e-01,  1.14467442e-01,  3.59575599e-02,\n",
       "       -3.20784628e-01, -2.19055980e-01,  1.51054800e-01, -4.06866595e-02,\n",
       "       -2.61475056e-01,  3.26546431e-01, -3.56499314e-01, -1.09140053e-01,\n",
       "        3.72507572e-01, -2.71710515e-01,  3.04252625e-01,  2.92776406e-01,\n",
       "       -1.57168627e-01, -1.99281722e-01, -8.09721947e-02,  2.42758915e-01,\n",
       "       -3.75919640e-02,  7.07380101e-02,  0.00000000e+00])"
      ]
     },
     "execution_count": 43,
     "metadata": {},
     "output_type": "execute_result"
    }
   ],
   "source": [
    "augmented_user_embeddings[user_id]"
   ]
  },
  {
   "cell_type": "code",
   "execution_count": 74,
   "id": "58489170",
   "metadata": {
    "ExecuteTime": {
     "end_time": "2022-11-30T15:36:50.374645Z",
     "start_time": "2022-11-30T15:36:50.362218Z"
    }
   },
   "outputs": [
    {
     "data": {
      "text/plain": [
       "array([ 1.        ,  1.94914997, -0.23860815,  0.03788533,  0.25774899,\n",
       "       -0.74438763,  0.69889945, -0.67908454, -0.68033189,  0.52302718,\n",
       "       -0.1655457 , -1.05006051, -0.42892846, -0.2613495 , -0.27979758,\n",
       "       -0.1573247 ,  0.12265188, -0.54494703,  0.17335984, -0.15847054,\n",
       "       -0.01530413, -0.34174129,  0.52183533,  0.14352471, -0.50889617,\n",
       "       -0.79903305, -0.34760365, -0.14387724, -0.12861755, -0.21334469,\n",
       "        0.68404454,  0.02518467,  0.64104861, -0.48303077,  0.82251263,\n",
       "       -0.45924279,  0.234642  ,  0.00584684,  0.32230985,  0.13046621,\n",
       "       -0.55888671, -0.35819465,  0.26253027, -0.58298248,  0.36183062,\n",
       "       -0.29011068, -0.53527212,  0.07575223, -0.07332505, -0.56368858,\n",
       "       -0.55525213, -0.00949526,  0.54710573, -0.52100545, -0.60292774,\n",
       "       -0.39715344, -0.06575568, -0.07951353,  0.53371233,  0.59348917,\n",
       "       -0.47663444, -0.81328684, -0.31239626, -0.00675351,  0.30547792,\n",
       "       -0.00500108])"
      ]
     },
     "execution_count": 74,
     "metadata": {},
     "output_type": "execute_result"
    }
   ],
   "source": [
    "item_id = 0\n",
    "item_embeddings[item_id]"
   ]
  },
  {
   "cell_type": "code",
   "execution_count": 46,
   "id": "13c46ce3",
   "metadata": {
    "ExecuteTime": {
     "end_time": "2022-11-28T15:31:46.337859Z",
     "start_time": "2022-11-28T15:31:46.322469Z"
    }
   },
   "outputs": [
    {
     "data": {
      "text/plain": [
       "array([ 1.        ,  2.17175078,  0.34701797,  1.19930804,  0.22779027,\n",
       "        0.03909439, -1.08578384,  0.9331314 ,  1.14171183,  0.42676285,\n",
       "        0.78357077,  0.81151915, -0.27156514, -0.21403486,  1.12571526,\n",
       "       -0.85592711, -0.60585177, -0.84999949,  1.61589718, -0.15849388,\n",
       "       -1.39642692,  0.99047184, -0.94934148, -0.44196448,  0.52439356,\n",
       "       -0.6769855 ,  0.67952645, -0.68347728, -0.39412886, -1.4741863 ,\n",
       "       -0.56587529,  1.03477836, -1.17399275,  0.99339014,  3.60761326])"
      ]
     },
     "execution_count": 46,
     "metadata": {},
     "output_type": "execute_result"
    }
   ],
   "source": [
    "augmented_item_embeddings[item_id]"
   ]
  },
  {
   "cell_type": "code",
   "execution_count": 167,
   "id": "b62f4943",
   "metadata": {
    "ExecuteTime": {
     "end_time": "2022-11-30T16:53:28.252819Z",
     "start_time": "2022-11-30T16:53:28.243514Z"
    }
   },
   "outputs": [
    {
     "name": "stdout",
     "output_type": "stream",
     "text": [
      "Index-time parameters {'M': 48, 'indexThreadQty': 4, 'efConstruction': 100, 'post': 0}\n"
     ]
    }
   ],
   "source": [
    "# Set index parameters\n",
    "# These are the most important ones\n",
    "M = 48\n",
    "efC = 100\n",
    "\n",
    "# Number of neighbors\n",
    "K=10\n",
    "\n",
    "# Space name should correspond to the space name\n",
    "# used for brute-force search\n",
    "space_name='negdotprod'\n",
    "\n",
    "num_threads = 4\n",
    "index_time_params = {'M': M, 'indexThreadQty': num_threads, 'efConstruction': efC, 'post' : 0}\n",
    "print('Index-time parameters', index_time_params)"
   ]
  },
  {
   "cell_type": "code",
   "execution_count": 168,
   "id": "06c35228",
   "metadata": {
    "ExecuteTime": {
     "end_time": "2022-11-30T16:53:30.561226Z",
     "start_time": "2022-11-30T16:53:30.537373Z"
    }
   },
   "outputs": [
    {
     "data": {
      "text/plain": [
       "14019"
      ]
     },
     "execution_count": 168,
     "metadata": {},
     "output_type": "execute_result"
    }
   ],
   "source": [
    "\n",
    "# Intitialize the library, specify the space, the type of the vector and add data points\n",
    "index = nmslib.init(method='hnsw', space=space_name, data_type=nmslib.DataType.DENSE_VECTOR)\n",
    "index.addDataPointBatch(augmented_item_embeddings)"
   ]
  },
  {
   "cell_type": "code",
   "execution_count": 169,
   "id": "e24fb1d5",
   "metadata": {
    "ExecuteTime": {
     "end_time": "2022-11-30T16:53:33.696921Z",
     "start_time": "2022-11-30T16:53:33.211745Z"
    }
   },
   "outputs": [
    {
     "name": "stdout",
     "output_type": "stream",
     "text": [
      "Index-time parameters {'M': 48, 'indexThreadQty': 4, 'efConstruction': 100}\n",
      "Indexing time = 0.481232\n"
     ]
    }
   ],
   "source": [
    "# Create an index\n",
    "start = time.time()\n",
    "index_time_params = {'M': M, 'indexThreadQty': num_threads, 'efConstruction': efC}\n",
    "index.createIndex(index_time_params)\n",
    "end = time.time()\n",
    "print('Index-time parameters', index_time_params)\n",
    "print('Indexing time = %f' % (end-start))"
   ]
  },
  {
   "cell_type": "code",
   "execution_count": 170,
   "id": "812eddf1",
   "metadata": {
    "ExecuteTime": {
     "end_time": "2022-11-30T16:53:35.778904Z",
     "start_time": "2022-11-30T16:53:35.769294Z"
    }
   },
   "outputs": [
    {
     "name": "stdout",
     "output_type": "stream",
     "text": [
      "Setting query-time parameters {'efSearch': 100}\n"
     ]
    }
   ],
   "source": [
    "# Setting query-time parameters\n",
    "efS = 100\n",
    "query_time_params = {'efSearch': efS}\n",
    "print('Setting query-time parameters', query_time_params)\n",
    "index.setQueryTimeParams(query_time_params)"
   ]
  },
  {
   "cell_type": "code",
   "execution_count": 88,
   "id": "bd237dd0",
   "metadata": {
    "ExecuteTime": {
     "end_time": "2022-11-30T15:43:09.315382Z",
     "start_time": "2022-11-30T15:43:09.309716Z"
    }
   },
   "outputs": [],
   "source": [
    "user_index = np.where(dataset.user_id_map.external_ids == 1032142)[0][0]\n",
    "query_matrix = augmented_user_embeddings[user_index]"
   ]
  },
  {
   "cell_type": "code",
   "execution_count": 79,
   "id": "78cba13f",
   "metadata": {
    "ExecuteTime": {
     "end_time": "2022-11-30T15:37:14.006816Z",
     "start_time": "2022-11-30T15:37:13.967231Z"
    }
   },
   "outputs": [
    {
     "name": "stdout",
     "output_type": "stream",
     "text": [
      "kNN time total=0.023637 (sec), per query=0.000024 (sec), per query adjusted for thread number=0.000095 (sec)\n"
     ]
    }
   ],
   "source": [
    "# Querying\n",
    "query_qty = query_matrix.shape[0]\n",
    "start = time.time()\n",
    "nbrs = index.knnQueryBatch(query_matrix, k = K, num_threads = num_threads)\n",
    "end = time.time()\n",
    "print('kNN time total=%f (sec), per query=%f (sec), per query adjusted for thread number=%f (sec)' %\n",
    "      (end-start, float(end-start)/query_qty, num_threads*float(end-start)/query_qty))"
   ]
  },
  {
   "cell_type": "code",
   "execution_count": 89,
   "id": "8e2ba0b9",
   "metadata": {
    "ExecuteTime": {
     "end_time": "2022-11-30T15:43:24.450992Z",
     "start_time": "2022-11-30T15:43:24.445017Z"
    }
   },
   "outputs": [],
   "source": [
    "nbrs = index.knnQueryBatch([query_matrix], k = K, num_threads = num_threads)"
   ]
  },
  {
   "cell_type": "code",
   "execution_count": 38,
   "id": "dcfb6851",
   "metadata": {
    "ExecuteTime": {
     "end_time": "2022-12-01T16:01:39.254733Z",
     "start_time": "2022-12-01T16:01:39.251133Z"
    }
   },
   "outputs": [],
   "source": [
    "# получение рекомендации по конкретному пользователю\n",
    "def recommend_nmslib(user_id, K=10, num_threads=4):\n",
    "    user_index = np.where(dataset.user_id_map.external_ids == user_id)[0][0]\n",
    "    query_matrix = augmented_user_embeddings[user_index]\n",
    "    nbrs = index.knnQueryBatch([query_matrix], k = K, num_threads = num_threads)\n",
    "    labels = dataset.item_id_map.external_ids[nbrs[0][0]]\n",
    "    distances = nbrs[0][1]\n",
    "    return labels, distances"
   ]
  },
  {
   "cell_type": "code",
   "execution_count": 172,
   "id": "339d89a3",
   "metadata": {
    "ExecuteTime": {
     "end_time": "2022-11-30T16:55:34.696084Z",
     "start_time": "2022-11-30T16:53:47.330599Z"
    }
   },
   "outputs": [],
   "source": [
    "res = []\n",
    "for user in TEST_USERS[:]:\n",
    "    labels, distances = recommend_nmslib(user)\n",
    "    labels_u = np.zeros((len(labels), 4), dtype=int)\n",
    "    labels_u[:, 0] = user\n",
    "\n",
    "    # проставляем порядок треков\n",
    "    labels_u[:, 3] = range(len(labels))\n",
    "    # присваем треки в обратном порядке, чтобы самый свежий терк был в начале\n",
    "    labels_u[:, 1] = labels\n",
    "    labels_u[:, 2] = distances\n",
    "    res.extend(labels_u)"
   ]
  },
  {
   "cell_type": "code",
   "execution_count": 173,
   "id": "073a52bd",
   "metadata": {
    "ExecuteTime": {
     "end_time": "2022-11-30T16:55:41.428137Z",
     "start_time": "2022-11-30T16:55:38.960926Z"
    }
   },
   "outputs": [],
   "source": [
    "recos_ = pd.DataFrame(res, columns=['user_id', 'item_id','score','rank'])"
   ]
  },
  {
   "cell_type": "code",
   "execution_count": 174,
   "id": "a275a9af",
   "metadata": {
    "ExecuteTime": {
     "end_time": "2022-11-30T16:55:49.279721Z",
     "start_time": "2022-11-30T16:55:48.097817Z"
    }
   },
   "outputs": [],
   "source": [
    "# подсчет метрик\n",
    "results = []\n",
    "model_quality = {'model': 'nmslib'}\n",
    "metric_values = calc_metrics(metrics, recos_, test, train)\n",
    "model_quality.update(metric_values)\n",
    "results.append(model_quality)\n",
    "\n",
    "df_quality = pd.DataFrame(results).T\n",
    "\n",
    "df_quality.columns = df_quality.iloc[0]\n",
    "\n",
    "df_quality.drop('model', inplace=True)"
   ]
  },
  {
   "cell_type": "code",
   "execution_count": 175,
   "id": "db95d514",
   "metadata": {
    "ExecuteTime": {
     "end_time": "2022-11-30T16:55:56.853025Z",
     "start_time": "2022-11-30T16:55:56.810453Z"
    },
    "scrolled": true
   },
   "outputs": [
    {
     "data": {
      "text/html": [
       "<style type=\"text/css\">\n",
       "#T_61f85_row0_col0, #T_61f85_row1_col0, #T_61f85_row2_col0, #T_61f85_row3_col0, #T_61f85_row4_col0, #T_61f85_row5_col0, #T_61f85_row6_col0, #T_61f85_row7_col0, #T_61f85_row8_col0, #T_61f85_row9_col0, #T_61f85_row10_col0, #T_61f85_row11_col0, #T_61f85_row12_col0, #T_61f85_row13_col0, #T_61f85_row14_col0, #T_61f85_row15_col0, #T_61f85_row16_col0, #T_61f85_row17_col0, #T_61f85_row18_col0, #T_61f85_row19_col0, #T_61f85_row20_col0, #T_61f85_row21_col0, #T_61f85_row22_col0, #T_61f85_row23_col0, #T_61f85_row24_col0, #T_61f85_row25_col0, #T_61f85_row26_col0, #T_61f85_row27_col0, #T_61f85_row28_col0, #T_61f85_row29_col0 {\n",
       "  background-color: lightgreen;\n",
       "}\n",
       "</style>\n",
       "<table id=\"T_61f85\">\n",
       "  <thead>\n",
       "    <tr>\n",
       "      <th class=\"index_name level0\" >model</th>\n",
       "      <th id=\"T_61f85_level0_col0\" class=\"col_heading level0 col0\" >nmslib</th>\n",
       "    </tr>\n",
       "  </thead>\n",
       "  <tbody>\n",
       "    <tr>\n",
       "      <th id=\"T_61f85_level0_row0\" class=\"row_heading level0 row0\" >Precision@1</th>\n",
       "      <td id=\"T_61f85_row0_col0\" class=\"data row0 col0\" >0.109757</td>\n",
       "    </tr>\n",
       "    <tr>\n",
       "      <th id=\"T_61f85_level0_row1\" class=\"row_heading level0 row1\" >Recall@1</th>\n",
       "      <td id=\"T_61f85_row1_col0\" class=\"data row1 col0\" >0.055766</td>\n",
       "    </tr>\n",
       "    <tr>\n",
       "      <th id=\"T_61f85_level0_row2\" class=\"row_heading level0 row2\" >Precision@2</th>\n",
       "      <td id=\"T_61f85_row2_col0\" class=\"data row2 col0\" >0.076285</td>\n",
       "    </tr>\n",
       "    <tr>\n",
       "      <th id=\"T_61f85_level0_row3\" class=\"row_heading level0 row3\" >Recall@2</th>\n",
       "      <td id=\"T_61f85_row3_col0\" class=\"data row3 col0\" >0.076216</td>\n",
       "    </tr>\n",
       "    <tr>\n",
       "      <th id=\"T_61f85_level0_row4\" class=\"row_heading level0 row4\" >Precision@3</th>\n",
       "      <td id=\"T_61f85_row4_col0\" class=\"data row4 col0\" >0.063157</td>\n",
       "    </tr>\n",
       "    <tr>\n",
       "      <th id=\"T_61f85_level0_row5\" class=\"row_heading level0 row5\" >Recall@3</th>\n",
       "      <td id=\"T_61f85_row5_col0\" class=\"data row5 col0\" >0.093738</td>\n",
       "    </tr>\n",
       "    <tr>\n",
       "      <th id=\"T_61f85_level0_row6\" class=\"row_heading level0 row6\" >Precision@4</th>\n",
       "      <td id=\"T_61f85_row6_col0\" class=\"data row6 col0\" >0.054932</td>\n",
       "    </tr>\n",
       "    <tr>\n",
       "      <th id=\"T_61f85_level0_row7\" class=\"row_heading level0 row7\" >Recall@4</th>\n",
       "      <td id=\"T_61f85_row7_col0\" class=\"data row7 col0\" >0.107254</td>\n",
       "    </tr>\n",
       "    <tr>\n",
       "      <th id=\"T_61f85_level0_row8\" class=\"row_heading level0 row8\" >Precision@5</th>\n",
       "      <td id=\"T_61f85_row8_col0\" class=\"data row8 col0\" >0.049375</td>\n",
       "    </tr>\n",
       "    <tr>\n",
       "      <th id=\"T_61f85_level0_row9\" class=\"row_heading level0 row9\" >Recall@5</th>\n",
       "      <td id=\"T_61f85_row9_col0\" class=\"data row9 col0\" >0.118995</td>\n",
       "    </tr>\n",
       "    <tr>\n",
       "      <th id=\"T_61f85_level0_row10\" class=\"row_heading level0 row10\" >Precision@6</th>\n",
       "      <td id=\"T_61f85_row10_col0\" class=\"data row10 col0\" >0.044419</td>\n",
       "    </tr>\n",
       "    <tr>\n",
       "      <th id=\"T_61f85_level0_row11\" class=\"row_heading level0 row11\" >Recall@6</th>\n",
       "      <td id=\"T_61f85_row11_col0\" class=\"data row11 col0\" >0.127576</td>\n",
       "    </tr>\n",
       "    <tr>\n",
       "      <th id=\"T_61f85_level0_row12\" class=\"row_heading level0 row12\" >Precision@7</th>\n",
       "      <td id=\"T_61f85_row12_col0\" class=\"data row12 col0\" >0.040436</td>\n",
       "    </tr>\n",
       "    <tr>\n",
       "      <th id=\"T_61f85_level0_row13\" class=\"row_heading level0 row13\" >Recall@7</th>\n",
       "      <td id=\"T_61f85_row13_col0\" class=\"data row13 col0\" >0.134235</td>\n",
       "    </tr>\n",
       "    <tr>\n",
       "      <th id=\"T_61f85_level0_row14\" class=\"row_heading level0 row14\" >Precision@8</th>\n",
       "      <td id=\"T_61f85_row14_col0\" class=\"data row14 col0\" >0.037211</td>\n",
       "    </tr>\n",
       "    <tr>\n",
       "      <th id=\"T_61f85_level0_row15\" class=\"row_heading level0 row15\" >Recall@8</th>\n",
       "      <td id=\"T_61f85_row15_col0\" class=\"data row15 col0\" >0.140127</td>\n",
       "    </tr>\n",
       "    <tr>\n",
       "      <th id=\"T_61f85_level0_row16\" class=\"row_heading level0 row16\" >Precision@9</th>\n",
       "      <td id=\"T_61f85_row16_col0\" class=\"data row16 col0\" >0.034629</td>\n",
       "    </tr>\n",
       "    <tr>\n",
       "      <th id=\"T_61f85_level0_row17\" class=\"row_heading level0 row17\" >Recall@9</th>\n",
       "      <td id=\"T_61f85_row17_col0\" class=\"data row17 col0\" >0.145740</td>\n",
       "    </tr>\n",
       "    <tr>\n",
       "      <th id=\"T_61f85_level0_row18\" class=\"row_heading level0 row18\" >Precision@10</th>\n",
       "      <td id=\"T_61f85_row18_col0\" class=\"data row18 col0\" >0.031167</td>\n",
       "    </tr>\n",
       "    <tr>\n",
       "      <th id=\"T_61f85_level0_row19\" class=\"row_heading level0 row19\" >Recall@10</th>\n",
       "      <td id=\"T_61f85_row19_col0\" class=\"data row19 col0\" >0.145740</td>\n",
       "    </tr>\n",
       "    <tr>\n",
       "      <th id=\"T_61f85_level0_row20\" class=\"row_heading level0 row20\" >MAP@1</th>\n",
       "      <td id=\"T_61f85_row20_col0\" class=\"data row20 col0\" >0.026804</td>\n",
       "    </tr>\n",
       "    <tr>\n",
       "      <th id=\"T_61f85_level0_row21\" class=\"row_heading level0 row21\" >MAP@2</th>\n",
       "      <td id=\"T_61f85_row21_col0\" class=\"data row21 col0\" >0.037743</td>\n",
       "    </tr>\n",
       "    <tr>\n",
       "      <th id=\"T_61f85_level0_row22\" class=\"row_heading level0 row22\" >MAP@3</th>\n",
       "      <td id=\"T_61f85_row22_col0\" class=\"data row22 col0\" >0.044125</td>\n",
       "    </tr>\n",
       "    <tr>\n",
       "      <th id=\"T_61f85_level0_row23\" class=\"row_heading level0 row23\" >MAP@4</th>\n",
       "      <td id=\"T_61f85_row23_col0\" class=\"data row23 col0\" >0.047890</td>\n",
       "    </tr>\n",
       "    <tr>\n",
       "      <th id=\"T_61f85_level0_row24\" class=\"row_heading level0 row24\" >MAP@5</th>\n",
       "      <td id=\"T_61f85_row24_col0\" class=\"data row24 col0\" >0.050589</td>\n",
       "    </tr>\n",
       "    <tr>\n",
       "      <th id=\"T_61f85_level0_row25\" class=\"row_heading level0 row25\" >MAP@6</th>\n",
       "      <td id=\"T_61f85_row25_col0\" class=\"data row25 col0\" >0.052268</td>\n",
       "    </tr>\n",
       "    <tr>\n",
       "      <th id=\"T_61f85_level0_row26\" class=\"row_heading level0 row26\" >MAP@7</th>\n",
       "      <td id=\"T_61f85_row26_col0\" class=\"data row26 col0\" >0.053394</td>\n",
       "    </tr>\n",
       "    <tr>\n",
       "      <th id=\"T_61f85_level0_row27\" class=\"row_heading level0 row27\" >MAP@8</th>\n",
       "      <td id=\"T_61f85_row27_col0\" class=\"data row27 col0\" >0.054278</td>\n",
       "    </tr>\n",
       "    <tr>\n",
       "      <th id=\"T_61f85_level0_row28\" class=\"row_heading level0 row28\" >MAP@9</th>\n",
       "      <td id=\"T_61f85_row28_col0\" class=\"data row28 col0\" >0.055033</td>\n",
       "    </tr>\n",
       "    <tr>\n",
       "      <th id=\"T_61f85_level0_row29\" class=\"row_heading level0 row29\" >MAP@10</th>\n",
       "      <td id=\"T_61f85_row29_col0\" class=\"data row29 col0\" >0.055033</td>\n",
       "    </tr>\n",
       "  </tbody>\n",
       "</table>\n"
      ],
      "text/plain": [
       "<pandas.io.formats.style.Styler at 0x7fcf0a0cce20>"
      ]
     },
     "execution_count": 175,
     "metadata": {},
     "output_type": "execute_result"
    }
   ],
   "source": [
    "df_quality.style.highlight_max(color='lightgreen', axis=1)"
   ]
  },
  {
   "cell_type": "code",
   "execution_count": 59,
   "id": "44622830",
   "metadata": {
    "ExecuteTime": {
     "end_time": "2022-11-28T15:34:39.799623Z",
     "start_time": "2022-11-28T15:34:39.783155Z"
    }
   },
   "outputs": [],
   "source": [
    "def recommend_all(query_factors, index_factors, topn=10):\n",
    "    output = query_factors.dot(index_factors.T)\n",
    "    argpartition_indices = np.argpartition(output, -topn)[:, -topn:]\n",
    "\n",
    "    x_indices = np.repeat(np.arange(output.shape[0]), topn)\n",
    "    y_indices = argpartition_indices.flatten()\n",
    "    top_value = output[x_indices, y_indices].reshape(output.shape[0], topn)\n",
    "    top_indices = np.argsort(top_value)[:, ::-1]\n",
    "\n",
    "    y_indices = top_indices.flatten()\n",
    "    top_indices = argpartition_indices[x_indices, y_indices]\n",
    "    labels = top_indices.reshape(-1, topn)\n",
    "    distances = output[x_indices, top_indices].reshape(-1, topn)\n",
    "    return labels, distances\n"
   ]
  }
 ],
 "metadata": {
  "kernelspec": {
   "display_name": "Python 3 (ipykernel)",
   "language": "python",
   "name": "python3"
  },
  "language_info": {
   "codemirror_mode": {
    "name": "ipython",
    "version": 3
   },
   "file_extension": ".py",
   "mimetype": "text/x-python",
   "name": "python",
   "nbconvert_exporter": "python",
   "pygments_lexer": "ipython3",
   "version": "3.8.10"
  },
  "toc": {
   "base_numbering": 1,
   "nav_menu": {},
   "number_sections": true,
   "sideBar": true,
   "skip_h1_title": true,
   "title_cell": "Table of Contents",
   "title_sidebar": "Contents",
   "toc_cell": false,
   "toc_position": {
    "height": "calc(100% - 180px)",
    "left": "10px",
    "top": "150px",
    "width": "289.762px"
   },
   "toc_section_display": true,
   "toc_window_display": true
  }
 },
 "nbformat": 4,
 "nbformat_minor": 5
}
