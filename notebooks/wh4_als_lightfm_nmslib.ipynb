{
 "cells": [
  {
   "cell_type": "markdown",
   "id": "1e7ebc59",
   "metadata": {
    "ExecuteTime": {
     "end_time": "2022-11-28T14:25:54.586122Z",
     "start_time": "2022-11-28T14:25:54.579897Z"
    }
   },
   "source": [
    "# Домашнее задание HW 4"
   ]
  },
  {
   "cell_type": "markdown",
   "id": "f8cb6db6",
   "metadata": {},
   "source": [
    "## Задание HW 4\n",
    "\n",
    "Домашнее задание состоит из нескольких блоков.\n",
    "\n",
    "\n",
    "### Эксперименты в ipynb ноутбуках (11 баллов)\n",
    "- Необходимо будет перебрать $N$ моделей $(N \\geq 2)$ матричной факторизации и перебрать у них $K$ гиперпараметров $(K \\geq 2)$ **(5 баллов)**\n",
    "    - Для перебора гиперпараметров можно использовать [`Optuna`](https://github.com/optuna/optuna), [`Hyperopt`](https://github.com/hyperopt/hyperopt)\n",
    "- Воспользоваться методом приближенного поиска соседей для выдачи рекомендаций. **(2 балла)**\n",
    "    - Можно использовать любые удобные: [`Annoy`](https://github.com/spotify/annoy), [`nmslib`](https://github.com/nmslib/nmslib) и.т.д\n",
    "- Добавить 3 \"аватаров\" (искусственных пользователей) и посмотреть рекомендации итоговой модели на них. Объяснить почему добавили именно таких пользователей. **(2 балла)**\n",
    "- Придумать как можно обработать рекомендации для холодных пользователей. **(2 балла)**\n",
    "\n",
    "Примечание: за невоспроизводимый код в ноутбуках (например, нарушен порядок выполнения ячеек, вызываются переменные, которые нигде не были объявлены ранее и.т.п) будут штрафы на усмотрение проверяющего.\n",
    "\n",
    "\n",
    "### Реализация итоговой модели в сервисе (9 баллов)\n",
    "- Пробитие бейзлайна $MAP@10 \\geq 0.074921$ **(6 баллов)**\n",
    "- Код сервиса соответствует критериям читаемости и воспроизводимости **(3 балла)**"
   ]
  },
  {
   "cell_type": "markdown",
   "id": "c89f636f",
   "metadata": {},
   "source": [
    "## Imports"
   ]
  },
  {
   "cell_type": "code",
   "execution_count": null,
   "id": "87d20a23",
   "metadata": {
    "ExecuteTime": {
     "end_time": "2022-12-11T14:05:29.393238Z",
     "start_time": "2022-12-11T14:05:29.385365Z"
    }
   },
   "outputs": [],
   "source": [
    "import warnings\n",
    "\n",
    "warnings.filterwarnings('ignore')\n",
    "\n",
    "import pandas as pd\n",
    "from collections import Counter\n",
    "import time\n",
    "import numpy as np\n",
    "from pprint import pprint\n",
    "import dill\n",
    "from implicit.als import AlternatingLeastSquares\n",
    "\n",
    "from rectools.metrics import Precision, Recall, MAP, calc_metrics\n",
    "from rectools.models import PopularModel, RandomModel, ImplicitALSWrapperModel\n",
    "from rectools import Columns\n",
    "from rectools.dataset import Dataset\n",
    "from rectools.models import ImplicitALSWrapperModel, LightFMWrapperModel\n",
    "import nmslib\n",
    "\n",
    "import optuna\n",
    "\n",
    "from pathlib import Path\n",
    "\n",
    "from lightfm import LightFM"
   ]
  },
  {
   "cell_type": "markdown",
   "id": "aae1ebed",
   "metadata": {
    "ExecuteTime": {
     "end_time": "2022-11-28T14:35:08.195796Z",
     "start_time": "2022-11-28T14:35:08.190083Z"
    }
   },
   "source": [
    "## Подгружаем данные"
   ]
  },
  {
   "cell_type": "code",
   "execution_count": null,
   "id": "35d73d9d",
   "metadata": {
    "ExecuteTime": {
     "end_time": "2022-12-11T13:52:57.279187Z",
     "start_time": "2022-12-11T13:52:57.276255Z"
    }
   },
   "outputs": [],
   "source": [
    "DATA_PATH = Path(\"data_original\")"
   ]
  },
  {
   "cell_type": "code",
   "execution_count": null,
   "id": "98bb41d1",
   "metadata": {
    "ExecuteTime": {
     "end_time": "2022-12-11T13:53:01.670473Z",
     "start_time": "2022-12-11T13:52:57.290286Z"
    }
   },
   "outputs": [],
   "source": [
    "users = pd.read_csv(DATA_PATH / 'users.csv')\n",
    "items = pd.read_csv(DATA_PATH / 'items.csv')\n",
    "interactions = pd.read_csv(DATA_PATH / 'interactions.csv')"
   ]
  },
  {
   "cell_type": "code",
   "execution_count": null,
   "id": "b32841da",
   "metadata": {
    "ExecuteTime": {
     "end_time": "2022-12-11T13:53:01.699596Z",
     "start_time": "2022-12-11T13:53:01.673043Z"
    }
   },
   "outputs": [],
   "source": [
    "users"
   ]
  },
  {
   "cell_type": "code",
   "execution_count": null,
   "id": "7de3ae37",
   "metadata": {
    "ExecuteTime": {
     "end_time": "2022-12-11T13:53:01.734068Z",
     "start_time": "2022-12-11T13:53:01.703003Z"
    }
   },
   "outputs": [],
   "source": [
    "items"
   ]
  },
  {
   "cell_type": "code",
   "execution_count": null,
   "id": "f966be3c",
   "metadata": {
    "ExecuteTime": {
     "end_time": "2022-12-11T13:53:01.767338Z",
     "start_time": "2022-12-11T13:53:01.747088Z"
    }
   },
   "outputs": [],
   "source": [
    "interactions"
   ]
  },
  {
   "cell_type": "markdown",
   "id": "33d6ef25",
   "metadata": {},
   "source": [
    "## Подготовка данных"
   ]
  },
  {
   "cell_type": "code",
   "execution_count": null,
   "id": "4c0b826c",
   "metadata": {
    "ExecuteTime": {
     "end_time": "2022-12-11T13:53:04.306741Z",
     "start_time": "2022-12-11T13:53:01.779363Z"
    }
   },
   "outputs": [],
   "source": [
    "Columns.Datetime = 'last_watch_dt'\n",
    "interactions.drop(interactions[interactions[Columns.Datetime].str.len() != 10].index, inplace=True)\n",
    "interactions[Columns.Datetime] = pd.to_datetime(interactions[Columns.Datetime], format='%Y-%m-%d')"
   ]
  },
  {
   "cell_type": "code",
   "execution_count": null,
   "id": "3ac7280c",
   "metadata": {
    "ExecuteTime": {
     "end_time": "2022-12-11T13:53:04.371383Z",
     "start_time": "2022-12-11T13:53:04.308834Z"
    }
   },
   "outputs": [],
   "source": [
    "max_date = interactions[Columns.Datetime].max()"
   ]
  },
  {
   "cell_type": "code",
   "execution_count": null,
   "id": "1b201278",
   "metadata": {
    "ExecuteTime": {
     "end_time": "2022-12-11T13:53:04.458270Z",
     "start_time": "2022-12-11T13:53:04.382529Z"
    }
   },
   "outputs": [],
   "source": [
    "interactions[Columns.Weight] = np.where(interactions['watched_pct'] > 10, 3, 1)"
   ]
  },
  {
   "cell_type": "code",
   "execution_count": null,
   "id": "501135e3",
   "metadata": {
    "ExecuteTime": {
     "end_time": "2022-12-11T13:53:05.388386Z",
     "start_time": "2022-12-11T13:53:04.460731Z"
    }
   },
   "outputs": [],
   "source": [
    "train = interactions[interactions[Columns.Datetime] < max_date - pd.Timedelta(days=7)].copy()\n",
    "test = interactions[interactions[Columns.Datetime] >= max_date - pd.Timedelta(days=7)].copy()\n",
    "\n",
    "print(f\"train: {train.shape}\")\n",
    "print(f\"test: {test.shape}\")"
   ]
  },
  {
   "cell_type": "code",
   "execution_count": null,
   "id": "27b6a41f",
   "metadata": {
    "ExecuteTime": {
     "end_time": "2022-12-11T13:53:06.321959Z",
     "start_time": "2022-12-11T13:53:05.396645Z"
    }
   },
   "outputs": [],
   "source": [
    "train.drop(train.query(\"total_dur < 300\").index, inplace=True)"
   ]
  },
  {
   "cell_type": "code",
   "execution_count": null,
   "id": "cd37a861",
   "metadata": {
    "ExecuteTime": {
     "end_time": "2022-12-11T13:53:07.870396Z",
     "start_time": "2022-12-11T13:53:06.325552Z"
    }
   },
   "outputs": [],
   "source": [
    "# отфильтруем холодных пользователей из теста\n",
    "cold_users = set(test[Columns.User]) - set(train[Columns.User])"
   ]
  },
  {
   "cell_type": "code",
   "execution_count": null,
   "id": "4420ef5d",
   "metadata": {
    "ExecuteTime": {
     "end_time": "2022-12-11T13:53:08.059283Z",
     "start_time": "2022-12-11T13:53:07.875240Z"
    }
   },
   "outputs": [],
   "source": [
    "test.drop(test[test[Columns.User].isin(cold_users)].index, inplace=True)"
   ]
  },
  {
   "cell_type": "markdown",
   "id": "228c3ac8",
   "metadata": {
    "ExecuteTime": {
     "end_time": "2022-11-28T14:39:06.759058Z",
     "start_time": "2022-11-28T14:39:06.751602Z"
    }
   },
   "source": [
    "## Подготовка фичей"
   ]
  },
  {
   "cell_type": "markdown",
   "id": "164087a6",
   "metadata": {
    "ExecuteTime": {
     "end_time": "2022-11-28T14:39:23.179218Z",
     "start_time": "2022-11-28T14:39:23.165408Z"
    }
   },
   "source": [
    "### Пользовательские фичи"
   ]
  },
  {
   "cell_type": "code",
   "execution_count": null,
   "id": "f9f13d41",
   "metadata": {
    "ExecuteTime": {
     "end_time": "2022-12-11T13:53:08.354088Z",
     "start_time": "2022-12-11T13:53:08.066770Z"
    }
   },
   "outputs": [],
   "source": [
    "# Сколько в % незаполненных полей у Пользователя\n",
    "users.isnull().sum()/len(users)"
   ]
  },
  {
   "cell_type": "code",
   "execution_count": null,
   "id": "d3ce6c82",
   "metadata": {
    "ExecuteTime": {
     "end_time": "2022-12-11T13:53:08.671132Z",
     "start_time": "2022-12-11T13:53:08.356272Z"
    }
   },
   "outputs": [],
   "source": [
    "# % не большой => можно заменить пустые значения\n",
    "users.fillna('Unknown', inplace=True)"
   ]
  },
  {
   "cell_type": "code",
   "execution_count": null,
   "id": "a150606d",
   "metadata": {
    "ExecuteTime": {
     "end_time": "2022-12-11T13:53:08.973084Z",
     "start_time": "2022-12-11T13:53:08.679189Z"
    }
   },
   "outputs": [],
   "source": [
    "# оставляем у df users только тех, кто попал в train\n",
    "users = users.loc[users[Columns.User].isin(train[Columns.User])].copy()"
   ]
  },
  {
   "cell_type": "code",
   "execution_count": null,
   "id": "9eb4719c",
   "metadata": {
    "ExecuteTime": {
     "end_time": "2022-12-11T13:53:08.997421Z",
     "start_time": "2022-12-11T13:53:08.980522Z"
    }
   },
   "outputs": [],
   "source": [
    "users"
   ]
  },
  {
   "cell_type": "code",
   "execution_count": null,
   "id": "c3d531f6",
   "metadata": {
    "ExecuteTime": {
     "end_time": "2022-12-11T13:53:09.105413Z",
     "start_time": "2022-12-11T13:53:09.006180Z"
    }
   },
   "outputs": [],
   "source": [
    "user_features_frames = []\n",
    "for feature in [\"sex\", \"age\", \"income\"]:\n",
    "    feature_frame = users.reindex(columns=[Columns.User, feature])\n",
    "    feature_frame.columns = [\"id\", \"value\"]\n",
    "    feature_frame[\"feature\"] = feature\n",
    "    user_features_frames.append(feature_frame)\n",
    "user_features = pd.concat(user_features_frames)\n",
    "user_features.head()"
   ]
  },
  {
   "cell_type": "markdown",
   "id": "b8537e6c",
   "metadata": {},
   "source": [
    "### Фичи фильмов"
   ]
  },
  {
   "cell_type": "code",
   "execution_count": null,
   "id": "5ec38314",
   "metadata": {
    "ExecuteTime": {
     "end_time": "2022-12-11T13:53:09.147726Z",
     "start_time": "2022-12-11T13:53:09.114375Z"
    }
   },
   "outputs": [],
   "source": [
    "# Сколько в % незаполненных полей у Item\n",
    "items.isnull().sum()/len(items)"
   ]
  },
  {
   "cell_type": "code",
   "execution_count": null,
   "id": "3ced8776",
   "metadata": {
    "ExecuteTime": {
     "end_time": "2022-12-11T13:53:09.218353Z",
     "start_time": "2022-12-11T13:53:09.156779Z"
    }
   },
   "outputs": [],
   "source": [
    "# оставляем у df users только тех, кто попал в train\n",
    "items = items.loc[items[Columns.Item].isin(train[Columns.Item])].copy()"
   ]
  },
  {
   "cell_type": "markdown",
   "id": "bbf35234",
   "metadata": {},
   "source": [
    "### Жанр"
   ]
  },
  {
   "cell_type": "code",
   "execution_count": null,
   "id": "edbd17bc",
   "metadata": {
    "ExecuteTime": {
     "end_time": "2022-12-11T13:53:09.429522Z",
     "start_time": "2022-12-11T13:53:09.230092Z"
    }
   },
   "outputs": [],
   "source": [
    "items[\"genre\"] = items[\"genres\"].str.lower().str.replace(\", \", \",\", regex=False).str.split(\",\")\n",
    "genre_feature = items[[\"item_id\", \"genre\"]].explode(\"genre\")\n",
    "genre_feature.columns = [\"id\", \"value\"]\n",
    "genre_feature[\"feature\"] = \"genre\"\n",
    "genre_feature.head()"
   ]
  },
  {
   "cell_type": "markdown",
   "id": "47bf076f",
   "metadata": {
    "ExecuteTime": {
     "end_time": "2022-11-28T14:42:28.825537Z",
     "start_time": "2022-11-28T14:42:28.818854Z"
    }
   },
   "source": [
    "### Содержание"
   ]
  },
  {
   "cell_type": "code",
   "execution_count": null,
   "id": "5f9e3443",
   "metadata": {
    "ExecuteTime": {
     "end_time": "2022-12-11T13:53:09.451513Z",
     "start_time": "2022-12-11T13:53:09.434823Z"
    }
   },
   "outputs": [],
   "source": [
    "content_feature = items.reindex(columns=[Columns.Item, \"content_type\"])\n",
    "content_feature.columns = [\"id\", \"value\"]\n",
    "content_feature[\"feature\"] = \"content_type\"\n",
    "content_feature.head()"
   ]
  },
  {
   "cell_type": "markdown",
   "id": "413ce938",
   "metadata": {},
   "source": [
    "### Режисер"
   ]
  },
  {
   "cell_type": "code",
   "execution_count": null,
   "id": "c501d014",
   "metadata": {
    "ExecuteTime": {
     "end_time": "2022-12-11T13:53:09.515489Z",
     "start_time": "2022-12-11T13:53:09.456053Z"
    }
   },
   "outputs": [],
   "source": [
    "items[\"director\"] = items[\"directors\"].str.lower().str.replace(\", \", \",\", regex=False).str.split(\",\")\n",
    "director_feature = items[[\"item_id\", \"director\"]].explode(\"director\")\n",
    "director_feature.columns = [\"id\", \"value\"]\n",
    "director_feature[\"feature\"] = \"director\"\n",
    "director_feature.head()"
   ]
  },
  {
   "cell_type": "markdown",
   "id": "43847ece",
   "metadata": {},
   "source": [
    "### Страна"
   ]
  },
  {
   "cell_type": "code",
   "execution_count": null,
   "id": "bfe0784b",
   "metadata": {
    "ExecuteTime": {
     "end_time": "2022-12-11T13:53:09.585873Z",
     "start_time": "2022-12-11T13:53:09.527331Z"
    }
   },
   "outputs": [],
   "source": [
    "items[\"country\"] = items[\"countries\"].str.lower().str.replace(\", \", \",\", regex=False).str.split(\",\")\n",
    "country_feature = items[[\"item_id\", \"country\"]].explode(\"country\")\n",
    "country_feature.columns = [\"id\", \"value\"]\n",
    "country_feature[\"feature\"] = \"country\"\n",
    "country_feature.head()"
   ]
  },
  {
   "cell_type": "markdown",
   "id": "459d17af",
   "metadata": {},
   "source": [
    "### Год Выпуска"
   ]
  },
  {
   "cell_type": "code",
   "execution_count": null,
   "id": "40e98f6d",
   "metadata": {
    "ExecuteTime": {
     "end_time": "2022-12-11T13:53:09.614715Z",
     "start_time": "2022-12-11T13:53:09.593885Z"
    }
   },
   "outputs": [],
   "source": [
    "year_feature = items.reindex(columns=[Columns.Item, \"release_year\"])\n",
    "year_feature.columns = [\"id\", \"value\"]\n",
    "year_feature[\"feature\"] = \"release_year\"\n",
    "year_feature.head()"
   ]
  },
  {
   "cell_type": "code",
   "execution_count": null,
   "id": "393ffccd",
   "metadata": {
    "ExecuteTime": {
     "end_time": "2022-12-11T13:53:09.671650Z",
     "start_time": "2022-12-11T13:53:09.633417Z"
    },
    "scrolled": true
   },
   "outputs": [],
   "source": [
    "items"
   ]
  },
  {
   "cell_type": "code",
   "execution_count": null,
   "id": "491c453a",
   "metadata": {
    "ExecuteTime": {
     "end_time": "2022-12-11T13:53:09.705000Z",
     "start_time": "2022-12-11T13:53:09.682151Z"
    }
   },
   "outputs": [],
   "source": [
    "# Объединяем фичи\n",
    "item_features = pd.concat((genre_feature, content_feature, country_feature, year_feature, director_feature))\n",
    "item_features"
   ]
  },
  {
   "cell_type": "markdown",
   "id": "3ef3616b",
   "metadata": {},
   "source": [
    "## Метрики"
   ]
  },
  {
   "cell_type": "code",
   "execution_count": null,
   "id": "fecf5ee1",
   "metadata": {
    "ExecuteTime": {
     "end_time": "2022-12-11T13:53:12.890576Z",
     "start_time": "2022-12-11T13:53:12.885623Z"
    },
    "scrolled": true
   },
   "outputs": [],
   "source": [
    "metrics_name = {\n",
    "    'Precision': Precision,\n",
    "    'Recall': Recall,\n",
    "    'MAP': MAP,\n",
    "}\n",
    "\n",
    "metrics = {}\n",
    "for metric_name, metric in metrics_name.items():\n",
    "    for k in range(1, 11):\n",
    "        metrics[f'{metric_name}@{k}'] = metric(k=k)\n",
    "\n",
    "\n",
    "pprint(metrics)"
   ]
  },
  {
   "cell_type": "markdown",
   "id": "7b3f8163",
   "metadata": {
    "ExecuteTime": {
     "end_time": "2022-11-28T14:43:47.297831Z",
     "start_time": "2022-11-28T14:43:47.290587Z"
    }
   },
   "source": [
    "## Подбор гиперпараметртов"
   ]
  },
  {
   "cell_type": "code",
   "execution_count": null,
   "id": "919937f9",
   "metadata": {},
   "outputs": [],
   "source": [
    "dataset = Dataset.construct(\n",
    "    interactions_df=train,\n",
    "    user_features_df=user_features,\n",
    "    cat_user_features=[\"sex\", \"age\", \"income\"],\n",
    "    item_features_df=item_features,\n",
    "    cat_item_features=[\"genre\", \"content_type\", \"director\", \"country\", \"release_year\"],\n",
    ")\n",
    "\n",
    "TEST_USERS = test[Columns.User].unique()"
   ]
  },
  {
   "cell_type": "code",
   "execution_count": null,
   "id": "3812dde4",
   "metadata": {
    "ExecuteTime": {
     "end_time": "2022-12-11T13:53:48.016719Z",
     "start_time": "2022-12-11T13:53:46.499808Z"
    }
   },
   "outputs": [],
   "source": [
    "results_opto = []\n",
    "def objective(trial):\n",
    "    # общие параметры\n",
    "    K_RECOS = 10\n",
    "    RANDOM_STATE = 42\n",
    "    NUM_THREADS = 4\n",
    "    N_FACTORS = trial.suggest_int(\"factors\", 32, 64, 32, log=False)\n",
    "\n",
    "    reco_model = trial.suggest_categorical(\"reco_model\", [\"ALS\", \"LightFM\"])\n",
    "    model_quality_opto = {\"model\": f\"{reco_model}_{trial.number}\"}\n",
    "\n",
    "    if reco_model == \"ALS\":\n",
    "        # гиперпараметры для ALS\n",
    "        regularization = trial.suggest_float(\"regularization\",\n",
    "                                             1e-4,\n",
    "                                             1.0,\n",
    "                                             log=False)\n",
    "        iterations = trial.suggest_int(\"iterations\", 1, 6, 2, log=False)\n",
    "        is_fitting_features = True\n",
    "        # Инициализация ALS\n",
    "        model = ImplicitALSWrapperModel(\n",
    "            model=AlternatingLeastSquares(factors=N_FACTORS,\n",
    "                                 random_state=RANDOM_STATE,\n",
    "                                 num_threads=NUM_THREADS,\n",
    "                                 regularization=regularization,\n",
    "                                 iterations=iterations),\n",
    "            fit_features_together=is_fitting_features,\n",
    "        )\n",
    "    else:\n",
    "        # гиперпараметры для Lightfm\n",
    "        N_EPOCHS = trial.suggest_int(\"epochs\", 1, 50, 10, log=False)  # Lightfm\n",
    "        USER_ALPHA = trial.suggest_float(\"user_alpha\",\n",
    "                                         1e-3,\n",
    "                                         1.0,\n",
    "                                         log=True)  # Lightfm\n",
    "        ITEM_ALPHA = trial.suggest_float(\"item_alpha\", 1e-3, 1.0,\n",
    "                                         log=True)  # Lightfm\n",
    "        LEARNING_RATE = trial.suggest_float(\"learning_rate\",\n",
    "                                            1e-4,\n",
    "                                            1.0,\n",
    "                                            log=True)  # Lightfm\n",
    "        # Инициализация Lightfm\n",
    "        model = LightFMWrapperModel(\n",
    "            LightFM(\n",
    "                no_components=N_FACTORS,\n",
    "                loss=loss,\n",
    "                random_state=RANDOM_STATE,\n",
    "                learning_rate=LEARNING_RATE,\n",
    "                user_alpha=USER_ALPHA,\n",
    "                item_alpha=ITEM_ALPHA,\n",
    "            ),\n",
    "            epochs=N_EPOCHS,\n",
    "            num_threads=NUM_THREADS,\n",
    "        )\n",
    "\n",
    "    # обучение модели\n",
    "    model.fit(dataset)\n",
    "    recos = model.recommend(\n",
    "        users=TEST_USERS,\n",
    "        dataset=dataset,\n",
    "        k=K_RECOS,\n",
    "        filter_viewed=True,\n",
    "    )\n",
    "\n",
    "    # Подсчет метрик\n",
    "    metric_values = calc_metrics(metrics, recos, test, train)\n",
    "    model_quality_opto.update(metric_values)\n",
    "    results_opto.append(model_quality_opto)\n",
    "\n",
    "    return metric_values.get('MAP@10') # максимизируемая метрика"
   ]
  },
  {
   "cell_type": "code",
   "execution_count": null,
   "id": "e2a792fa",
   "metadata": {
    "ExecuteTime": {
     "end_time": "2022-12-01T15:59:07.341209Z",
     "start_time": "2022-12-01T15:59:06.738438Z"
    }
   },
   "outputs": [],
   "source": [
    "# запуск подбора гиперпараметров\n",
    "study = optuna.create_study(direction=\"maximize\")\n",
    "study.optimize(objective, n_trials=1)\n",
    "\n",
    "pprint(f\"Number of finished trials: {len(study.trials)}\")\n",
    "trial = study.best_trial\n",
    "pprint(f\"Best trial: {trial}\")"
   ]
  },
  {
   "cell_type": "markdown",
   "id": "20755865",
   "metadata": {},
   "source": [
    "## Approximate Nearest Neighbors"
   ]
  },
  {
   "cell_type": "code",
   "execution_count": null,
   "id": "fc4e72b0",
   "metadata": {
    "ExecuteTime": {
     "end_time": "2022-12-11T13:53:18.825588Z",
     "start_time": "2022-12-11T13:53:18.821896Z"
    }
   },
   "outputs": [],
   "source": [
    "K_RECOS = 10\n",
    "RANDOM_STATE = 42\n",
    "NUM_THREADS = 4\n",
    "N_FACTORS = 64\n",
    "N_EPOCHS = 1 # Lightfm\n",
    "USER_ALPHA = 0 # Lightfm\n",
    "ITEM_ALPHA = 0 # Lightfm\n",
    "LEARNING_RATE = 0.03 # Lightfm"
   ]
  },
  {
   "cell_type": "code",
   "execution_count": null,
   "id": "78d6ef6a",
   "metadata": {
    "ExecuteTime": {
     "end_time": "2022-12-11T13:55:10.621327Z",
     "start_time": "2022-12-11T13:54:48.124261Z"
    },
    "scrolled": true
   },
   "outputs": [],
   "source": [
    "model = LightFMWrapperModel(\n",
    "            LightFM(\n",
    "                no_components=N_FACTORS,\n",
    "                loss='warp',\n",
    "                random_state=RANDOM_STATE,\n",
    "                learning_rate=LEARNING_RATE,\n",
    "                user_alpha=USER_ALPHA,\n",
    "                item_alpha=ITEM_ALPHA,\n",
    "            ),\n",
    "            epochs=N_EPOCHS,\n",
    "            num_threads=NUM_THREADS,\n",
    "        )\n",
    "\n",
    "model.fit(dataset)"
   ]
  },
  {
   "cell_type": "code",
   "execution_count": null,
   "id": "fb40ad48",
   "metadata": {
    "ExecuteTime": {
     "end_time": "2022-12-11T13:58:29.705078Z",
     "start_time": "2022-12-11T13:55:14.634357Z"
    }
   },
   "outputs": [],
   "source": [
    "recos = model.recommend(\n",
    "    users=TEST_USERS,\n",
    "    dataset=dataset,\n",
    "    k=K_RECOS,\n",
    "    filter_viewed=True,\n",
    ")"
   ]
  },
  {
   "cell_type": "code",
   "execution_count": null,
   "id": "45519095",
   "metadata": {
    "ExecuteTime": {
     "end_time": "2022-12-11T13:58:39.930969Z",
     "start_time": "2022-12-11T13:58:38.181420Z"
    }
   },
   "outputs": [],
   "source": [
    "results = []\n",
    "model_quality = {'model': 'LightFM'}\n",
    "metric_values = calc_metrics(metrics, recos, test, train)\n",
    "model_quality.update(metric_values)\n",
    "results.append(model_quality)\n",
    "\n",
    "df_quality = pd.DataFrame(results).T\n",
    "\n",
    "df_quality.columns = df_quality.iloc[0]\n",
    "\n",
    "df_quality.drop('model', inplace=True)"
   ]
  },
  {
   "cell_type": "code",
   "execution_count": null,
   "id": "bc0254fb",
   "metadata": {
    "ExecuteTime": {
     "end_time": "2022-12-11T13:58:42.843846Z",
     "start_time": "2022-12-11T13:58:42.023477Z"
    },
    "scrolled": true
   },
   "outputs": [],
   "source": [
    "df_quality.style.highlight_max(color='lightgreen', axis=1)"
   ]
  },
  {
   "cell_type": "code",
   "execution_count": null,
   "id": "eb45892a",
   "metadata": {
    "ExecuteTime": {
     "end_time": "2022-12-11T13:59:28.539360Z",
     "start_time": "2022-12-11T13:59:22.320258Z"
    }
   },
   "outputs": [],
   "source": [
    "dill_file = Path().cwd().parent / 'service' / 'models'\n",
    "\n",
    "with open(dill_file / 'LightFM_0.077731.dill', 'wb') as f:\n",
    "    dill.dump(model, f)"
   ]
  },
  {
   "cell_type": "code",
   "execution_count": null,
   "id": "0952d7ce",
   "metadata": {
    "ExecuteTime": {
     "end_time": "2022-12-11T13:59:31.549103Z",
     "start_time": "2022-12-11T13:59:30.231699Z"
    }
   },
   "outputs": [],
   "source": [
    "dill_file = Path().cwd().parent / 'service' / 'data'\n",
    "\n",
    "with open(dill_file / 'dataset_LightFM_0.077731.dill', 'wb') as f:\n",
    "    dill.dump(dataset, f)"
   ]
  },
  {
   "cell_type": "code",
   "execution_count": null,
   "id": "ec377a72",
   "metadata": {
    "ExecuteTime": {
     "end_time": "2022-12-11T13:59:10.086864Z",
     "start_time": "2022-12-11T13:59:08.928660Z"
    }
   },
   "outputs": [],
   "source": [
    "user_embeddings, item_embeddings = model.get_vectors(dataset)"
   ]
  },
  {
   "cell_type": "code",
   "execution_count": null,
   "id": "2645cfef",
   "metadata": {
    "ExecuteTime": {
     "end_time": "2022-12-11T13:59:33.933460Z",
     "start_time": "2022-12-11T13:59:33.929092Z"
    }
   },
   "outputs": [],
   "source": [
    "user_embeddings.shape, item_embeddings.shape"
   ]
  },
  {
   "cell_type": "code",
   "execution_count": null,
   "id": "38c068b1",
   "metadata": {
    "ExecuteTime": {
     "end_time": "2022-12-11T13:59:36.151438Z",
     "start_time": "2022-12-11T13:59:36.143505Z"
    }
   },
   "outputs": [],
   "source": [
    "def augment_inner_product(factors):\n",
    "    normed_factors = np.linalg.norm(factors, axis=1)\n",
    "    max_norm = normed_factors.max()\n",
    "\n",
    "    extra_dim = np.sqrt(max_norm ** 2 - normed_factors ** 2).reshape(-1, 1)\n",
    "    augmented_factors = np.append(factors, extra_dim, axis=1)\n",
    "    return max_norm, augmented_factors"
   ]
  },
  {
   "cell_type": "code",
   "execution_count": null,
   "id": "8b72dba3",
   "metadata": {
    "ExecuteTime": {
     "end_time": "2022-12-11T13:59:38.826480Z",
     "start_time": "2022-12-11T13:59:38.812372Z"
    }
   },
   "outputs": [],
   "source": [
    "print('pre shape: ', item_embeddings.shape)\n",
    "max_norm, augmented_item_embeddings = augment_inner_product(item_embeddings)\n",
    "augmented_item_embeddings.shape"
   ]
  },
  {
   "cell_type": "code",
   "execution_count": null,
   "id": "b13fca33",
   "metadata": {
    "ExecuteTime": {
     "end_time": "2022-12-11T13:59:43.120171Z",
     "start_time": "2022-12-11T13:59:42.528058Z"
    }
   },
   "outputs": [],
   "source": [
    "extra_zero = np.zeros((user_embeddings.shape[0], 1))\n",
    "augmented_user_embeddings = np.append(user_embeddings, extra_zero, axis=1)\n",
    "augmented_user_embeddings.shape"
   ]
  },
  {
   "cell_type": "code",
   "execution_count": null,
   "id": "bd99a89d",
   "metadata": {
    "ExecuteTime": {
     "end_time": "2022-12-11T13:59:44.606032Z",
     "start_time": "2022-12-11T13:59:44.600820Z"
    }
   },
   "outputs": [],
   "source": [
    "user_id = 30\n",
    "user_embeddings[user_id]"
   ]
  },
  {
   "cell_type": "code",
   "execution_count": null,
   "id": "2356f164",
   "metadata": {
    "ExecuteTime": {
     "end_time": "2022-12-11T13:59:48.079266Z",
     "start_time": "2022-12-11T13:59:48.073793Z"
    }
   },
   "outputs": [],
   "source": [
    "augmented_user_embeddings[user_id]"
   ]
  },
  {
   "cell_type": "code",
   "execution_count": null,
   "id": "58489170",
   "metadata": {
    "ExecuteTime": {
     "end_time": "2022-12-11T13:59:49.462873Z",
     "start_time": "2022-12-11T13:59:49.456770Z"
    }
   },
   "outputs": [],
   "source": [
    "item_id = 0\n",
    "item_embeddings[item_id]"
   ]
  },
  {
   "cell_type": "code",
   "execution_count": null,
   "id": "13c46ce3",
   "metadata": {
    "ExecuteTime": {
     "end_time": "2022-12-11T13:59:52.201982Z",
     "start_time": "2022-12-11T13:59:52.196547Z"
    }
   },
   "outputs": [],
   "source": [
    "augmented_item_embeddings[item_id]"
   ]
  },
  {
   "cell_type": "code",
   "execution_count": null,
   "id": "b62f4943",
   "metadata": {
    "ExecuteTime": {
     "end_time": "2022-12-11T13:59:54.522190Z",
     "start_time": "2022-12-11T13:59:54.512695Z"
    }
   },
   "outputs": [],
   "source": [
    "# Set index parameters\n",
    "# These are the most important ones\n",
    "M = 48\n",
    "efC = 100\n",
    "\n",
    "# Number of neighbors\n",
    "K=10\n",
    "\n",
    "# Space name should correspond to the space name\n",
    "# used for brute-force search\n",
    "space_name='negdotprod'\n",
    "\n",
    "num_threads = 4\n",
    "index_time_params = {'M': M, 'indexThreadQty': num_threads, 'efConstruction': efC, 'post' : 0}\n",
    "print('Index-time parameters', index_time_params)"
   ]
  },
  {
   "cell_type": "code",
   "execution_count": null,
   "id": "06c35228",
   "metadata": {
    "ExecuteTime": {
     "end_time": "2022-12-11T13:59:56.286186Z",
     "start_time": "2022-12-11T13:59:56.272739Z"
    }
   },
   "outputs": [],
   "source": [
    "\n",
    "# Intitialize the library, specify the space, the type of the vector and add data points\n",
    "index = nmslib.init(method='hnsw', space=space_name, data_type=nmslib.DataType.DENSE_VECTOR)\n",
    "index.addDataPointBatch(augmented_item_embeddings)"
   ]
  },
  {
   "cell_type": "code",
   "execution_count": null,
   "id": "e24fb1d5",
   "metadata": {
    "ExecuteTime": {
     "end_time": "2022-12-11T13:59:58.915876Z",
     "start_time": "2022-12-11T13:59:58.156361Z"
    }
   },
   "outputs": [],
   "source": [
    "# Create an index\n",
    "start = time.time()\n",
    "index_time_params = {'M': M, 'indexThreadQty': num_threads, 'efConstruction': efC}\n",
    "index.createIndex(index_time_params)\n",
    "end = time.time()\n",
    "print('Index-time parameters', index_time_params)\n",
    "print('Indexing time = %f' % (end-start))"
   ]
  },
  {
   "cell_type": "code",
   "execution_count": null,
   "id": "812eddf1",
   "metadata": {
    "ExecuteTime": {
     "end_time": "2022-12-11T14:00:00.868654Z",
     "start_time": "2022-12-11T14:00:00.864758Z"
    }
   },
   "outputs": [],
   "source": [
    "# Setting query-time parameters\n",
    "efS = 100\n",
    "query_time_params = {'efSearch': efS}\n",
    "print('Setting query-time parameters', query_time_params)\n",
    "index.setQueryTimeParams(query_time_params)"
   ]
  },
  {
   "cell_type": "code",
   "execution_count": null,
   "id": "bd237dd0",
   "metadata": {
    "ExecuteTime": {
     "end_time": "2022-12-11T14:00:03.285923Z",
     "start_time": "2022-12-11T14:00:03.281181Z"
    }
   },
   "outputs": [],
   "source": [
    "user_index = np.where(dataset.user_id_map.external_ids == 1032142)[0][0]\n",
    "query_matrix = augmented_user_embeddings[user_index]"
   ]
  },
  {
   "cell_type": "code",
   "execution_count": null,
   "id": "fa95a00e",
   "metadata": {
    "ExecuteTime": {
     "end_time": "2022-12-11T14:00:20.582682Z",
     "start_time": "2022-12-11T14:00:20.577781Z"
    }
   },
   "outputs": [],
   "source": [
    "query_matrix"
   ]
  },
  {
   "cell_type": "code",
   "execution_count": null,
   "id": "78cba13f",
   "metadata": {
    "ExecuteTime": {
     "end_time": "2022-12-11T14:00:28.380603Z",
     "start_time": "2022-12-11T14:00:28.369977Z"
    }
   },
   "outputs": [],
   "source": [
    "# Querying\n",
    "query_qty = query_matrix.shape[0]\n",
    "start = time.time()\n",
    "nbrs = index.knnQueryBatch([query_matrix], k = K, num_threads = num_threads)\n",
    "end = time.time()\n",
    "print('kNN time total=%f (sec), per query=%f (sec), per query adjusted for thread number=%f (sec)' %\n",
    "      (end-start, float(end-start)/query_qty, num_threads*float(end-start)/query_qty))"
   ]
  },
  {
   "cell_type": "code",
   "execution_count": null,
   "id": "8e2ba0b9",
   "metadata": {
    "ExecuteTime": {
     "end_time": "2022-12-11T14:00:33.851120Z",
     "start_time": "2022-12-11T14:00:33.844891Z"
    }
   },
   "outputs": [],
   "source": [
    "nbrs = index.knnQueryBatch([query_matrix], k = K, num_threads = num_threads)"
   ]
  },
  {
   "cell_type": "code",
   "execution_count": null,
   "id": "f0bbf3c3",
   "metadata": {
    "ExecuteTime": {
     "end_time": "2022-12-11T14:00:52.025776Z",
     "start_time": "2022-12-11T14:00:52.010556Z"
    }
   },
   "outputs": [],
   "source": [
    "nbrs"
   ]
  },
  {
   "cell_type": "code",
   "execution_count": null,
   "id": "2ae93b8e",
   "metadata": {
    "ExecuteTime": {
     "end_time": "2022-12-11T14:03:53.632906Z",
     "start_time": "2022-12-11T14:03:53.625979Z"
    }
   },
   "outputs": [],
   "source": [
    "dataset.user_id_map.external_ids[nbrs[0][0]]"
   ]
  },
  {
   "cell_type": "code",
   "execution_count": null,
   "id": "38e189c3",
   "metadata": {
    "ExecuteTime": {
     "end_time": "2022-12-11T14:07:16.433074Z",
     "start_time": "2022-12-11T14:07:15.496067Z"
    }
   },
   "outputs": [],
   "source": [
    "user_id = 6064\n",
    "K_RECOS = 10\n",
    "N = 50\n",
    "cnt = Counter(train['item_id'].values)\n",
    "idf = pd.DataFrame.from_dict(cnt, orient='index', columns=['doc_freq']).reset_index()\n",
    "n = train.shape[0]\n",
    "idf['idf'] = idf['doc_freq'].apply(lambda x: np.log((1 + n) / (1 + x) + 1))\n",
    "\n",
    "users_inv_mapping = dict(enumerate(train['user_id'].unique()))\n",
    "users_mapping = {v: k for k, v in users_inv_mapping.items()}\n",
    "\n",
    "\n",
    "items_inv_mapping = dict(enumerate(train['item_id'].unique()))\n",
    "items_mapping = {v: k for k, v in items_inv_mapping.items()}\n",
    "\n",
    "\n",
    "def generate_implicit_recs_mapper(model, N, users_mapping, users_inv_mapping):\n",
    "    def _recs_mapper(user):\n",
    "        user_id = users_mapping[user]\n",
    "        recs = model.similar_items(user_id, N=N)\n",
    "        return [users_inv_mapping[user] for user, _ in recs], [sim for _, sim in recs]\n",
    "    return _recs_mapper"
   ]
  },
  {
   "cell_type": "code",
   "execution_count": null,
   "id": "da4484bf",
   "metadata": {
    "ExecuteTime": {
     "end_time": "2022-12-11T14:06:23.670586Z",
     "start_time": "2022-12-11T14:06:23.655873Z"
    }
   },
   "outputs": [],
   "source": [
    "mapper = generate_implicit_recs_mapper(\n",
    "    userknn,\n",
    "    N=N,\n",
    "    users_mapping=users_mapping,\n",
    "    users_inv_mapping=users_inv_mapping\n",
    ")"
   ]
  },
  {
   "cell_type": "code",
   "execution_count": null,
   "id": "9c59e7d7",
   "metadata": {
    "ExecuteTime": {
     "end_time": "2022-12-11T14:10:39.326978Z",
     "start_time": "2022-12-11T14:10:24.370520Z"
    }
   },
   "outputs": [],
   "source": [
    "watched = train.groupby('user_id').agg({'item_id': list})\n",
    "watched.head()"
   ]
  },
  {
   "cell_type": "code",
   "execution_count": null,
   "id": "87b4cc54",
   "metadata": {
    "ExecuteTime": {
     "end_time": "2022-12-11T14:10:46.322753Z",
     "start_time": "2022-12-11T14:10:41.846864Z"
    }
   },
   "outputs": [],
   "source": [
    "wwatched = {k:v['item_id'] for k,v in json.loads(watched.T.to_json()).items()}"
   ]
  },
  {
   "cell_type": "code",
   "execution_count": null,
   "id": "9fab91e9",
   "metadata": {
    "ExecuteTime": {
     "end_time": "2022-12-11T14:58:40.837563Z",
     "start_time": "2022-12-11T14:58:40.819662Z"
    }
   },
   "outputs": [],
   "source": [
    "def recommend_nmslib(user_id, k_recos):\n",
    "    recss = {}\n",
    "    user_index = np.where(dataset.user_id_map.external_ids == user_id)\n",
    "    if len(user_index[0]):\n",
    "        user_index = user_index[0][0]\n",
    "        query_matrix = augmented_user_embeddings[user_index]\n",
    "        nbrs = index.knnQueryBatch([query_matrix],\n",
    "                                   k=K,\n",
    "                                   num_threads=num_threads)\n",
    "        recss['similar_user_id'], recss[\n",
    "            'similarity'] = dataset.user_id_map.external_ids[nbrs[0][0]], nbrs[0][1]\n",
    "        recss['item_id'] = [\n",
    "            wwatched.get(f\"{x}\") for x in recss['similar_user_id']\n",
    "        ]\n",
    "        recs = pd.DataFrame(recss)\n",
    "        recs = recs.explode('item_id')\n",
    "        recs = recs.sort_values(['similarity'], ascending=False)\n",
    "        recs = recs.merge(idf[['index', 'idf']],\n",
    "                          left_on='item_id',\n",
    "                          right_on='index',\n",
    "                          how='left').drop(['index'], axis=1)\n",
    "        recs['rank_idf'] = recs['similarity'] * recs['idf']\n",
    "        recs = recs.sort_values(['rank_idf'], ascending=False)\n",
    "        recs.dropna(inplace=True)\n",
    "        return recs['item_id'].unique()[:k_recos]\n",
    "    else:\n",
    "        return None"
   ]
  },
  {
   "cell_type": "code",
   "execution_count": null,
   "id": "339d89a3",
   "metadata": {
    "ExecuteTime": {
     "end_time": "2022-12-11T15:16:52.307023Z",
     "start_time": "2022-12-11T14:58:55.079386Z"
    },
    "scrolled": true
   },
   "outputs": [],
   "source": [
    "res = []\n",
    "for user in TEST_USERS[:]:\n",
    "    user_index = np.where(dataset.user_id_map.external_ids == user)\n",
    "    if len(user_index[0]):\n",
    "        labels = recommend_nmslib(user, k_recos=10)\n",
    "        labels_u = np.zeros((len(labels), 3), dtype=int)\n",
    "        labels_u[:, 0] = user\n",
    "\n",
    "        # проставляем порядок треков\n",
    "        labels_u[:, 2] = range(len(labels))\n",
    "        labels_u[:, 1] = labels\n",
    "    #     labels_u[:, 2] = distances\n",
    "        res.extend(labels_u)"
   ]
  },
  {
   "cell_type": "code",
   "execution_count": null,
   "id": "073a52bd",
   "metadata": {
    "ExecuteTime": {
     "end_time": "2022-12-11T15:25:42.792712Z",
     "start_time": "2022-12-11T15:25:38.164167Z"
    }
   },
   "outputs": [],
   "source": [
    "recos_ = pd.DataFrame(res, columns=['user_id', 'item_id', 'rank'])"
   ]
  },
  {
   "cell_type": "code",
   "execution_count": null,
   "id": "a275a9af",
   "metadata": {
    "ExecuteTime": {
     "end_time": "2022-12-11T15:25:45.627412Z",
     "start_time": "2022-12-11T15:25:44.384530Z"
    }
   },
   "outputs": [],
   "source": [
    "# подсчет метрик\n",
    "results = []\n",
    "model_quality = {'model': 'nmslib'}\n",
    "metric_values = calc_metrics(metrics, recos_, test, train)\n",
    "model_quality.update(metric_values)\n",
    "results.append(model_quality)\n",
    "\n",
    "df_quality = pd.DataFrame(results).T\n",
    "\n",
    "df_quality.columns = df_quality.iloc[0]\n",
    "\n",
    "df_quality.drop('model', inplace=True)"
   ]
  },
  {
   "cell_type": "code",
   "execution_count": null,
   "id": "db95d514",
   "metadata": {
    "ExecuteTime": {
     "end_time": "2022-12-11T15:25:47.270785Z",
     "start_time": "2022-12-11T15:25:47.230937Z"
    },
    "scrolled": true
   },
   "outputs": [],
   "source": [
    "df_quality.style.highlight_max(color='lightgreen', axis=1)"
   ]
  },
  {
   "cell_type": "code",
   "execution_count": null,
   "id": "44622830",
   "metadata": {
    "ExecuteTime": {
     "end_time": "2022-11-28T15:34:39.799623Z",
     "start_time": "2022-11-28T15:34:39.783155Z"
    }
   },
   "outputs": [],
   "source": [
    "def recommend_all(query_factors, index_factors, topn=10):\n",
    "    output = query_factors.dot(index_factors.T)\n",
    "    argpartition_indices = np.argpartition(output, -topn)[:, -topn:]\n",
    "\n",
    "    x_indices = np.repeat(np.arange(output.shape[0]), topn)\n",
    "    y_indices = argpartition_indices.flatten()\n",
    "    top_value = output[x_indices, y_indices].reshape(output.shape[0], topn)\n",
    "    top_indices = np.argsort(top_value)[:, ::-1]\n",
    "\n",
    "    y_indices = top_indices.flatten()\n",
    "    top_indices = argpartition_indices[x_indices, y_indices]\n",
    "    labels = top_indices.reshape(-1, topn)\n",
    "    distances = output[x_indices, top_indices].reshape(-1, topn)\n",
    "    return labels, distances\n"
   ]
  }
 ],
 "metadata": {
  "kernelspec": {
   "display_name": "Python 3 (ipykernel)",
   "language": "python",
   "name": "python3"
  },
  "language_info": {
   "codemirror_mode": {
    "name": "ipython",
    "version": 3
   },
   "file_extension": ".py",
   "mimetype": "text/x-python",
   "name": "python",
   "nbconvert_exporter": "python",
   "pygments_lexer": "ipython3",
   "version": "3.8.10"
  },
  "toc": {
   "base_numbering": 1,
   "nav_menu": {},
   "number_sections": true,
   "sideBar": true,
   "skip_h1_title": true,
   "title_cell": "Table of Contents",
   "title_sidebar": "Contents",
   "toc_cell": false,
   "toc_position": {
    "height": "calc(100% - 180px)",
    "left": "10px",
    "top": "150px",
    "width": "289.762px"
   },
   "toc_section_display": true,
   "toc_window_display": true
  }
 },
 "nbformat": 4,
 "nbformat_minor": 5
}
