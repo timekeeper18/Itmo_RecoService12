{
 "cells": [
  {
   "cell_type": "markdown",
   "id": "511f0092",
   "metadata": {},
   "source": [
    "## Домашнее задание `максимум 25 баллов (бывшее 10)`\n",
    "\n",
    "## Критерии оценки \n",
    "`❗️Оцениваться будет значение метрики + ревью кода + реализация сервиса.` \n",
    "\n",
    "Вы можете сделать НЕ ВСЕ пункты и все равно получить 25 баллов. Получение > 25 баллов будет расцениваться как 25.\n",
    "\n",
    "\n",
    "### 1. Побейте метрику на лидерборде `map@10 = 0.063` для userKnn модели с семинара (`4 балла`)\n",
    "\n",
    "\n",
    "### 2. Предоставьте ноутбук(и) с экспериментами (`16 баллов`)\n",
    "\n",
    "Что можно сделать:\n",
    "   - сделать кол-во рекомендаций не меньше N (`2 балла`)\n",
    "   - наличие тюнинга гиперпараметров (например, векторного расстояния или типов kNN моделей (implicit/rectools/...)) (`4 балла`)\n",
    "   - другие варианты ранжированивания айтемов похожих пользователей (`2 балла`)\n",
    "   - эксперименты с оффлайн валидацией (`2 балла`)\n",
    "   - в тесте вас ждут холодные пользователи. Сделайте рекомендации для них (обратите внимание на <a href=\"https://rectools.readthedocs.io/en/latest/api/rectools.models.popular.html\"> rectools.models.popular</a>) (`2 балла`)\n",
    "   - блендинг моделей (`4 балла`)\n",
    "\n",
    "\n",
    "### 3. Оберните модель в сервис.\n",
    "- **предпочтительный онлайн вариант**: обучаете модель в ноутбуке, сохраняете обученную модель (pickle, dill), при запуске сервиса ее поднимаете и запрашиваете рекомендации \"на лету\" (`9 баллов`)\n",
    "- или оффлайн вариант: предварительно посчитайте рекомендации для всех пользователей, сохраните и запрашивайте их (`4 балла`)\n",
    "   \n",
    "\n",
    "### Хороший код ДЗ это:\n",
    "- комментарии и объяснения. В ipynb пользуйтесь силой маркдауна. \n",
    "В скриптах пишите комментарии и докстринг. \n",
    "- легкая читаемость и воспроизводимость\n",
    "- стандарт PEP8 \n",
    "- обоснование схемы валидации\n",
    "- анализ метрики качества "
   ]
  },
  {
   "cell_type": "markdown",
   "id": "6dd2a9ed",
   "metadata": {},
   "source": [
    "## Imports"
   ]
  },
  {
   "cell_type": "code",
   "execution_count": null,
   "id": "12006e27",
   "metadata": {
    "ExecuteTime": {
     "end_time": "2022-12-13T16:00:03.586126Z",
     "start_time": "2022-12-13T16:00:02.588725Z"
    }
   },
   "outputs": [],
   "source": [
    "from pathlib import Path\n",
    "from collections import Counter\n",
    "import optuna\n",
    "from rectools.models import ImplicitALSWrapperModel, LightFMWrapperModel, PopularModel\n",
    "from implicit.nearest_neighbours import CosineRecommender, BM25Recommender, TFIDFRecommender\n",
    "from rectools.models.implicit_knn import ImplicitItemKNNWrapperModel\n",
    "from rectools.dataset import Dataset\n",
    "from rectools import Columns\n",
    "from rectools.metrics import Precision, Recall, MAP, calc_metrics, MeanInvUserFreq, Serendipity\n",
    "from rectools.model_selection import TimeRangeSplitter\n",
    "\n",
    "import dill\n",
    "import json\n",
    "from pprint import pprint\n",
    "import numpy as np\n",
    "import scipy as sp\n",
    "import time\n",
    "import pandas as pd\n",
    "import warnings\n",
    "\n",
    "warnings.filterwarnings('ignore')"
   ]
  },
  {
   "cell_type": "markdown",
   "id": "8a5c6f7b",
   "metadata": {},
   "source": [
    "## Подинимаем данные"
   ]
  },
  {
   "cell_type": "code",
   "execution_count": null,
   "id": "57a9490b",
   "metadata": {
    "ExecuteTime": {
     "end_time": "2022-12-13T16:00:03.591903Z",
     "start_time": "2022-12-13T16:00:03.588965Z"
    }
   },
   "outputs": [],
   "source": [
    "DATA_PATH = Path(\"data_original\")"
   ]
  },
  {
   "cell_type": "code",
   "execution_count": null,
   "id": "0eae4b0a",
   "metadata": {
    "ExecuteTime": {
     "end_time": "2022-12-13T16:00:06.662415Z",
     "start_time": "2022-12-13T16:00:03.593671Z"
    }
   },
   "outputs": [],
   "source": [
    "users = pd.read_csv(DATA_PATH / 'users.csv')\n",
    "items = pd.read_csv(DATA_PATH / 'items.csv')\n",
    "interactions = pd.read_csv(DATA_PATH / 'interactions.csv')"
   ]
  },
  {
   "cell_type": "code",
   "execution_count": null,
   "id": "ae254ceb",
   "metadata": {
    "ExecuteTime": {
     "end_time": "2022-12-13T16:00:07.233224Z",
     "start_time": "2022-12-13T16:00:06.665995Z"
    }
   },
   "outputs": [],
   "source": [
    "# rename columns, convert timestamp\n",
    "interactions.rename(columns={'last_watch_dt': Columns.Datetime,\n",
    "                            'total_dur': Columns.Weight}, \n",
    "                    inplace=True) \n",
    "\n",
    "interactions['datetime'] = pd.to_datetime(interactions['datetime'])"
   ]
  },
  {
   "cell_type": "code",
   "execution_count": null,
   "id": "3f0fda6b",
   "metadata": {
    "ExecuteTime": {
     "end_time": "2022-12-13T16:00:07.270487Z",
     "start_time": "2022-12-13T16:00:07.236456Z"
    }
   },
   "outputs": [],
   "source": [
    "interactions.head()"
   ]
  },
  {
   "cell_type": "code",
   "execution_count": null,
   "id": "197720a0",
   "metadata": {
    "ExecuteTime": {
     "end_time": "2022-12-13T16:00:07.474142Z",
     "start_time": "2022-12-13T16:00:07.272905Z"
    }
   },
   "outputs": [],
   "source": [
    "print(f\"Interactions dataframe shape: {interactions.shape}\")\n",
    "print(f\"Unique users in interactions: {interactions['user_id'].nunique():_}\")\n",
    "print(f\"Unique items in interactions: {interactions['item_id'].nunique():_}\")"
   ]
  },
  {
   "cell_type": "code",
   "execution_count": null,
   "id": "853b90e6",
   "metadata": {
    "ExecuteTime": {
     "end_time": "2022-12-13T16:00:07.507748Z",
     "start_time": "2022-12-13T16:00:07.476264Z"
    },
    "scrolled": true
   },
   "outputs": [],
   "source": [
    "max_date = interactions[Columns.Datetime].max()\n",
    "min_date = interactions[Columns.Datetime].min()\n",
    "\n",
    "print(f\"min date in interactions: {min_date}\")\n",
    "print(f\"max date in interactions: {max_date}\")"
   ]
  },
  {
   "cell_type": "markdown",
   "id": "5f729773",
   "metadata": {
    "ExecuteTime": {
     "end_time": "2022-12-04T05:36:19.324701Z",
     "start_time": "2022-12-04T05:35:41.782371Z"
    }
   },
   "source": [
    "## Разбиваем на train/test"
   ]
  },
  {
   "cell_type": "code",
   "execution_count": null,
   "id": "1b0bd8ca",
   "metadata": {
    "ExecuteTime": {
     "end_time": "2022-12-13T16:00:08.057565Z",
     "start_time": "2022-12-13T16:00:07.510417Z"
    },
    "scrolled": true
   },
   "outputs": [],
   "source": [
    "dataset = Dataset.construct(\n",
    "    interactions_df=interactions,\n",
    "    user_features_df=None,\n",
    "    item_features_df=None\n",
    ")"
   ]
  },
  {
   "cell_type": "code",
   "execution_count": null,
   "id": "5a865e63",
   "metadata": {
    "ExecuteTime": {
     "end_time": "2022-12-13T16:00:08.107208Z",
     "start_time": "2022-12-13T16:00:08.060876Z"
    },
    "scrolled": true
   },
   "outputs": [],
   "source": [
    "n_folds = 1\n",
    "unit = \"W\"\n",
    "n_units = 1\n",
    "periods = n_folds + 1\n",
    "freq = f\"{n_units}{unit}\"\n",
    "\n",
    "last_date = interactions[Columns.Datetime].max().normalize()\n",
    "start_date = last_date - pd.Timedelta(n_folds * n_units + 1, unit=unit)  \n",
    "print(f\"Start date and last date of the test fold: {start_date, last_date}\")\n",
    "    \n",
    "date_range = pd.date_range(start=start_date, periods=periods, freq=freq, tz=last_date.tz)\n",
    "print(f\"Test fold borders: {date_range.values.astype('datetime64[D]')}\")\n",
    "\n",
    "# generator of folds\n",
    "cv = TimeRangeSplitter(\n",
    "    date_range=date_range,\n",
    "    filter_already_seen=True,\n",
    "    filter_cold_items=True,\n",
    "    filter_cold_users=True,\n",
    ")\n",
    "print(f\"Real number of folds: {cv.get_n_splits(dataset.interactions)}\")\n"
   ]
  },
  {
   "cell_type": "code",
   "execution_count": null,
   "id": "c232c59a",
   "metadata": {
    "ExecuteTime": {
     "end_time": "2022-12-13T16:00:08.906423Z",
     "start_time": "2022-12-13T16:00:08.110921Z"
    }
   },
   "outputs": [],
   "source": [
    "# we have just 1 test fold - no need to iterate over fold\n",
    "(train_ids, test_ids, fold_info) = cv.split(dataset.interactions, collect_fold_stats=True).__next__()"
   ]
  },
  {
   "cell_type": "code",
   "execution_count": null,
   "id": "2255daf3",
   "metadata": {
    "ExecuteTime": {
     "end_time": "2022-12-13T16:00:08.911638Z",
     "start_time": "2022-12-13T16:00:08.907809Z"
    }
   },
   "outputs": [],
   "source": [
    "train_ids"
   ]
  },
  {
   "cell_type": "code",
   "execution_count": null,
   "id": "fcccf0ed",
   "metadata": {
    "ExecuteTime": {
     "end_time": "2022-12-13T16:00:09.243005Z",
     "start_time": "2022-12-13T16:00:08.913191Z"
    }
   },
   "outputs": [],
   "source": [
    "train = interactions.loc[train_ids]\n",
    "test = interactions.loc[test_ids]"
   ]
  },
  {
   "cell_type": "markdown",
   "id": "ee992e37",
   "metadata": {},
   "source": [
    "## Сравнение с ItemKnn"
   ]
  },
  {
   "cell_type": "code",
   "execution_count": null,
   "id": "a1a0e35f",
   "metadata": {
    "ExecuteTime": {
     "end_time": "2022-12-13T16:00:10.761684Z",
     "start_time": "2022-12-13T16:00:09.244462Z"
    }
   },
   "outputs": [],
   "source": [
    "item_knn = ImplicitItemKNNWrapperModel(model=CosineRecommender(K=30))\n",
    "item_knn.fit(dataset);"
   ]
  },
  {
   "cell_type": "code",
   "execution_count": null,
   "id": "a4f8e275",
   "metadata": {
    "ExecuteTime": {
     "end_time": "2022-12-13T16:00:16.550116Z",
     "start_time": "2022-12-13T16:00:10.763340Z"
    }
   },
   "outputs": [],
   "source": [
    "# take a look at the recommended items by the simple itemknn model\n",
    "recs_itemknn = item_knn.recommend(\n",
    "    test['user_id'].unique(), \n",
    "    dataset=dataset, \n",
    "    k=10, \n",
    "    filter_viewed=False  # False - same items to every user\n",
    ")"
   ]
  },
  {
   "cell_type": "code",
   "execution_count": null,
   "id": "71f28128",
   "metadata": {
    "ExecuteTime": {
     "end_time": "2022-12-13T16:00:16.558279Z",
     "start_time": "2022-12-13T16:00:16.551622Z"
    }
   },
   "outputs": [],
   "source": [
    "recs_itemknn.head()"
   ]
  },
  {
   "cell_type": "markdown",
   "id": "071074b7",
   "metadata": {},
   "source": [
    "## Обучение userKnn с различными мерами расстояния"
   ]
  },
  {
   "cell_type": "markdown",
   "id": "36584003",
   "metadata": {},
   "source": [
    "### Подготовка данных"
   ]
  },
  {
   "cell_type": "code",
   "execution_count": null,
   "id": "f6bf258c",
   "metadata": {
    "ExecuteTime": {
     "end_time": "2022-12-13T16:00:16.582486Z",
     "start_time": "2022-12-13T16:00:16.560006Z"
    }
   },
   "outputs": [],
   "source": [
    "max_date = interactions[Columns.Datetime].max()"
   ]
  },
  {
   "cell_type": "code",
   "execution_count": null,
   "id": "53f9f0c3",
   "metadata": {
    "ExecuteTime": {
     "end_time": "2022-12-13T16:00:16.643373Z",
     "start_time": "2022-12-13T16:00:16.583975Z"
    }
   },
   "outputs": [],
   "source": [
    "interactions[Columns.Weight] = np.where(interactions['watched_pct'] > 10, 3, 1)"
   ]
  },
  {
   "cell_type": "code",
   "execution_count": null,
   "id": "605c40b4",
   "metadata": {
    "ExecuteTime": {
     "end_time": "2022-12-13T16:00:16.908593Z",
     "start_time": "2022-12-13T16:00:16.644901Z"
    }
   },
   "outputs": [],
   "source": [
    "train = interactions[interactions[Columns.Datetime] < max_date - pd.Timedelta(days=7)].copy()\n",
    "test = interactions[interactions[Columns.Datetime] >= max_date - pd.Timedelta(days=7)].copy()\n",
    "\n",
    "print(f\"train: {train.shape}\")\n",
    "print(f\"test: {test.shape}\")"
   ]
  },
  {
   "cell_type": "code",
   "execution_count": null,
   "id": "44a67265",
   "metadata": {
    "ExecuteTime": {
     "end_time": "2022-12-13T16:00:18.098563Z",
     "start_time": "2022-12-13T16:00:16.910319Z"
    }
   },
   "outputs": [],
   "source": [
    "# отфильтруем холодных пользователей из теста\n",
    "cold_users = set(test[Columns.User]) - set(train[Columns.User])"
   ]
  },
  {
   "cell_type": "code",
   "execution_count": null,
   "id": "59f0127d",
   "metadata": {
    "ExecuteTime": {
     "end_time": "2022-12-13T16:00:18.172722Z",
     "start_time": "2022-12-13T16:00:18.102306Z"
    }
   },
   "outputs": [],
   "source": [
    "test.drop(test[test[Columns.User].isin(cold_users)].index, inplace=True)"
   ]
  },
  {
   "cell_type": "markdown",
   "id": "f9321912",
   "metadata": {},
   "source": [
    "### Подготовка фичей"
   ]
  },
  {
   "cell_type": "markdown",
   "id": "c47b24c6",
   "metadata": {},
   "source": [
    "#### Пользовательские фичи"
   ]
  },
  {
   "cell_type": "code",
   "execution_count": null,
   "id": "91cf39a7",
   "metadata": {
    "ExecuteTime": {
     "end_time": "2022-12-13T16:00:18.458618Z",
     "start_time": "2022-12-13T16:00:18.174431Z"
    }
   },
   "outputs": [],
   "source": [
    "# % не большой => можно заменить пустые значения\n",
    "users.fillna('Unknown', inplace=True)"
   ]
  },
  {
   "cell_type": "code",
   "execution_count": null,
   "id": "5a570f19",
   "metadata": {
    "ExecuteTime": {
     "end_time": "2022-12-13T16:00:18.665499Z",
     "start_time": "2022-12-13T16:00:18.460276Z"
    }
   },
   "outputs": [],
   "source": [
    "# оставляем у df users только тех, кто попал в train\n",
    "users = users.loc[users[Columns.User].isin(train[Columns.User])].copy()"
   ]
  },
  {
   "cell_type": "code",
   "execution_count": null,
   "id": "8df323b8",
   "metadata": {
    "ExecuteTime": {
     "end_time": "2022-12-13T16:00:18.680981Z",
     "start_time": "2022-12-13T16:00:18.669317Z"
    }
   },
   "outputs": [],
   "source": [
    "users"
   ]
  },
  {
   "cell_type": "code",
   "execution_count": null,
   "id": "cedc5ba1",
   "metadata": {
    "ExecuteTime": {
     "end_time": "2022-12-13T16:00:18.748460Z",
     "start_time": "2022-12-13T16:00:18.683933Z"
    }
   },
   "outputs": [],
   "source": [
    "user_features_frames = []\n",
    "for feature in [\"sex\", \"age\", \"income\"]:\n",
    "    feature_frame = users.reindex(columns=[Columns.User, feature])\n",
    "    feature_frame.columns = [\"id\", \"value\"]\n",
    "    feature_frame[\"feature\"] = feature\n",
    "    user_features_frames.append(feature_frame)\n",
    "user_features = pd.concat(user_features_frames)\n",
    "user_features.head()"
   ]
  },
  {
   "cell_type": "markdown",
   "id": "94f61301",
   "metadata": {},
   "source": [
    "#### Фичи фильмов"
   ]
  },
  {
   "cell_type": "code",
   "execution_count": null,
   "id": "91bff1f1",
   "metadata": {
    "ExecuteTime": {
     "end_time": "2022-12-13T16:00:18.801250Z",
     "start_time": "2022-12-13T16:00:18.750238Z"
    }
   },
   "outputs": [],
   "source": [
    "# оставляем у df users только тех, кто попал в train\n",
    "items = items.loc[items[Columns.Item].isin(train[Columns.Item])].copy()"
   ]
  },
  {
   "cell_type": "markdown",
   "id": "5f865f31",
   "metadata": {},
   "source": [
    "#### Жанр"
   ]
  },
  {
   "cell_type": "code",
   "execution_count": null,
   "id": "aedb8ea7",
   "metadata": {
    "ExecuteTime": {
     "end_time": "2022-12-13T16:00:18.889994Z",
     "start_time": "2022-12-13T16:00:18.802856Z"
    }
   },
   "outputs": [],
   "source": [
    "items[\"genre\"] = items[\"genres\"].str.lower().str.replace(\", \", \",\", regex=False).str.split(\",\")\n",
    "genre_feature = items[[\"item_id\", \"genre\"]].explode(\"genre\")\n",
    "genre_feature.columns = [\"id\", \"value\"]\n",
    "genre_feature[\"feature\"] = \"genre\"\n",
    "genre_feature.head()"
   ]
  },
  {
   "cell_type": "markdown",
   "id": "530f42b0",
   "metadata": {},
   "source": [
    "#### Содержание"
   ]
  },
  {
   "cell_type": "code",
   "execution_count": null,
   "id": "f6ea13ac",
   "metadata": {
    "ExecuteTime": {
     "end_time": "2022-12-13T16:00:18.903448Z",
     "start_time": "2022-12-13T16:00:18.892067Z"
    }
   },
   "outputs": [],
   "source": [
    "content_feature = items.reindex(columns=[Columns.Item, \"content_type\"])\n",
    "content_feature.columns = [\"id\", \"value\"]\n",
    "content_feature[\"feature\"] = \"content_type\"\n",
    "content_feature.head()"
   ]
  },
  {
   "cell_type": "markdown",
   "id": "c3788ccd",
   "metadata": {
    "ExecuteTime": {
     "end_time": "2022-12-05T16:27:46.987274Z",
     "start_time": "2022-12-05T16:27:46.979901Z"
    }
   },
   "source": [
    "#### Режисер"
   ]
  },
  {
   "cell_type": "code",
   "execution_count": null,
   "id": "4668f825",
   "metadata": {
    "ExecuteTime": {
     "end_time": "2022-12-13T16:00:18.943183Z",
     "start_time": "2022-12-13T16:00:18.908659Z"
    }
   },
   "outputs": [],
   "source": [
    "items[\"director\"] = items[\"directors\"].str.lower().str.replace(\", \", \",\", regex=False).str.split(\",\")\n",
    "director_feature = items[[\"item_id\", \"director\"]].explode(\"director\")\n",
    "director_feature.columns = [\"id\", \"value\"]\n",
    "director_feature[\"feature\"] = \"director\"\n",
    "director_feature.head()"
   ]
  },
  {
   "cell_type": "markdown",
   "id": "0a08ef43",
   "metadata": {
    "ExecuteTime": {
     "end_time": "2022-12-05T16:28:05.825637Z",
     "start_time": "2022-12-05T16:28:05.818590Z"
    }
   },
   "source": [
    "#### Страна"
   ]
  },
  {
   "cell_type": "code",
   "execution_count": null,
   "id": "57dab0a9",
   "metadata": {
    "ExecuteTime": {
     "end_time": "2022-12-13T16:00:18.979617Z",
     "start_time": "2022-12-13T16:00:18.944735Z"
    }
   },
   "outputs": [],
   "source": [
    "items[\"country\"] = items[\"countries\"].str.lower().str.replace(\", \", \",\", regex=False).str.split(\",\")\n",
    "country_feature = items[[\"item_id\", \"country\"]].explode(\"country\")\n",
    "country_feature.columns = [\"id\", \"value\"]\n",
    "country_feature[\"feature\"] = \"country\"\n",
    "country_feature.head()"
   ]
  },
  {
   "cell_type": "markdown",
   "id": "4caee2f8",
   "metadata": {},
   "source": [
    "#### Год Выпуска"
   ]
  },
  {
   "cell_type": "code",
   "execution_count": null,
   "id": "74e428aa",
   "metadata": {
    "ExecuteTime": {
     "end_time": "2022-12-13T16:00:18.988267Z",
     "start_time": "2022-12-13T16:00:18.981071Z"
    }
   },
   "outputs": [],
   "source": [
    "year_feature = items.reindex(columns=[Columns.Item, \"release_year\"])\n",
    "year_feature.columns = [\"id\", \"value\"]\n",
    "year_feature[\"feature\"] = \"release_year\"\n",
    "year_feature.head()"
   ]
  },
  {
   "cell_type": "code",
   "execution_count": null,
   "id": "c80f6157",
   "metadata": {
    "ExecuteTime": {
     "end_time": "2022-12-13T16:00:18.999814Z",
     "start_time": "2022-12-13T16:00:18.989703Z"
    }
   },
   "outputs": [],
   "source": [
    "# Объединяем фичи\n",
    "item_features = pd.concat((genre_feature, content_feature, country_feature, year_feature, director_feature))\n",
    "item_features"
   ]
  },
  {
   "cell_type": "code",
   "execution_count": null,
   "id": "7fc47422",
   "metadata": {
    "ExecuteTime": {
     "end_time": "2022-12-13T16:00:19.005480Z",
     "start_time": "2022-12-13T16:00:19.001425Z"
    },
    "scrolled": true
   },
   "outputs": [],
   "source": [
    "metrics_name = {\n",
    "    'Precision': Precision,\n",
    "    'Recall': Recall,\n",
    "    'MAP': MAP,\n",
    "}\n",
    "\n",
    "metrics = {}\n",
    "for metric_name, metric in metrics_name.items():\n",
    "    for k in range(1, 11):\n",
    "        metrics[f'{metric_name}@{k}'] = metric(k=k)\n",
    "\n",
    "\n",
    "pprint(metrics)"
   ]
  },
  {
   "cell_type": "markdown",
   "id": "3feec6bb",
   "metadata": {},
   "source": [
    "### Обучение"
   ]
  },
  {
   "cell_type": "code",
   "execution_count": null,
   "id": "c9bd7304",
   "metadata": {
    "ExecuteTime": {
     "end_time": "2022-12-13T16:00:20.270781Z",
     "start_time": "2022-12-13T16:00:19.007052Z"
    }
   },
   "outputs": [],
   "source": [
    "dataset = Dataset.construct(\n",
    "    interactions_df=train,\n",
    "    user_features_df=user_features,\n",
    "    cat_user_features=[\"sex\", \"age\", \"income\"],\n",
    "    item_features_df=item_features,\n",
    "    cat_item_features=[\"genre\", \"content_type\", \"director\", \"country\", \"release_year\"],\n",
    ")\n",
    "TEST_USERS = test[Columns.User].unique()"
   ]
  },
  {
   "cell_type": "code",
   "execution_count": null,
   "id": "0e0a67eb",
   "metadata": {
    "ExecuteTime": {
     "end_time": "2022-12-13T16:00:20.289952Z",
     "start_time": "2022-12-13T16:00:20.272597Z"
    }
   },
   "outputs": [],
   "source": [
    "dataset.interactions.df"
   ]
  },
  {
   "cell_type": "code",
   "execution_count": null,
   "id": "1a95e833",
   "metadata": {
    "ExecuteTime": {
     "end_time": "2022-12-13T16:00:31.168652Z",
     "start_time": "2022-12-13T16:00:20.292365Z"
    }
   },
   "outputs": [],
   "source": [
    "K_RECOS = 10\n",
    "\n",
    "model = ImplicitItemKNNWrapperModel(model=BM25Recommender(K=100, K1=0.05, B=0.1, num_threads=2))\n",
    "model.fit(dataset)\n",
    "recos = model.recommend(\n",
    "    users=TEST_USERS,\n",
    "    dataset=dataset,\n",
    "    k=K_RECOS,\n",
    "    filter_viewed=True,\n",
    ")\n"
   ]
  },
  {
   "cell_type": "code",
   "execution_count": null,
   "id": "74ed6a59",
   "metadata": {
    "ExecuteTime": {
     "end_time": "2022-12-13T16:00:31.519986Z",
     "start_time": "2022-12-13T16:00:31.170610Z"
    }
   },
   "outputs": [],
   "source": [
    "model.predict(\n",
    "    users=[123],\n",
    "    dataset=dataset,\n",
    "    k=K_RECOS,\n",
    "    filter_viewed=True,\n",
    ")"
   ]
  },
  {
   "cell_type": "code",
   "execution_count": null,
   "id": "934c0e5e",
   "metadata": {
    "ExecuteTime": {
     "end_time": "2022-12-13T16:00:32.683685Z",
     "start_time": "2022-12-13T16:00:31.521800Z"
    }
   },
   "outputs": [],
   "source": [
    "results = []\n",
    "model_quality = {'model': 'BM25Recommender'}\n",
    "metric_values = calc_metrics(metrics, recos, test, train)\n",
    "model_quality.update(metric_values)\n",
    "results.append(model_quality)\n",
    "\n",
    "df_quality = pd.DataFrame(results).T\n",
    "\n",
    "df_quality.columns = df_quality.iloc[0]\n",
    "\n",
    "df_quality.drop('model', inplace=True)"
   ]
  },
  {
   "cell_type": "code",
   "execution_count": null,
   "id": "ee66e138",
   "metadata": {
    "ExecuteTime": {
     "end_time": "2022-12-13T16:00:33.302394Z",
     "start_time": "2022-12-13T16:00:32.685520Z"
    },
    "scrolled": true
   },
   "outputs": [],
   "source": [
    "df_quality.style.highlight_max(color='lightgreen', axis=1)"
   ]
  },
  {
   "cell_type": "code",
   "execution_count": null,
   "id": "7a69a07d",
   "metadata": {
    "ExecuteTime": {
     "end_time": "2022-12-13T16:00:33.448098Z",
     "start_time": "2022-12-13T16:00:33.304169Z"
    }
   },
   "outputs": [],
   "source": [
    "dill_file = Path().cwd().parent / 'service' / 'models'\n",
    "\n",
    "with open(dill_file / 'BM25Recommender_0.095432.dill', 'wb') as f:\n",
    "    dill.dump(model, f)"
   ]
  },
  {
   "cell_type": "code",
   "execution_count": null,
   "id": "a887e87e",
   "metadata": {
    "ExecuteTime": {
     "end_time": "2022-12-13T16:00:35.171407Z",
     "start_time": "2022-12-13T16:00:33.450003Z"
    }
   },
   "outputs": [],
   "source": [
    "dill_file = Path().cwd().parent / 'service' / 'data'\n",
    "\n",
    "with open(dill_file / 'dataset_BM25Recommender_0.095432.dill', 'wb') as f:\n",
    "    dill.dump(dataset, f)"
   ]
  },
  {
   "cell_type": "markdown",
   "id": "30e1a1ac",
   "metadata": {},
   "source": [
    "### Подбор гиперпараметров"
   ]
  },
  {
   "cell_type": "code",
   "execution_count": null,
   "id": "5ffda98e",
   "metadata": {
    "ExecuteTime": {
     "end_time": "2022-12-13T16:00:36.787078Z",
     "start_time": "2022-12-13T16:00:35.173256Z"
    }
   },
   "outputs": [],
   "source": [
    "dataset = Dataset.construct(\n",
    "    interactions_df=train,\n",
    "    user_features_df=user_features,\n",
    "    cat_user_features=[\"sex\", \"age\", \"income\"],\n",
    "    item_features_df=item_features,\n",
    "    cat_item_features=[\"genre\", \"content_type\", \"director\", \"country\", \"release_year\"],\n",
    ")\n",
    "TEST_USERS = test[Columns.User].unique()\n",
    "\n",
    "results_opto = []\n",
    "\n",
    "def objective(trial):\n",
    "    # общие параметры\n",
    "    K_RECOS = 10\n",
    "    RANDOM_STATE = 42\n",
    "\n",
    "    reco_model = trial.suggest_categorical(\"reco_model\", [\"BM25Recommender\", \n",
    "                                                          \"CosineRecommender\",\n",
    "                                                          \"TFIDFRecommender\"])\n",
    "    model_quality_opto = {\"model\": f\"{reco_model}_{trial.number}\"}\n",
    "\n",
    "    if reco_model == \"BM25Recommender\":\n",
    "        # гиперпараметры для BM25Recommender\n",
    "        K = trial.suggest_int(\"K\", 100, 500, 50, log=False)\n",
    "        K1 = trial.suggest_float(\"K1\", 0.01, 0.09, log=False)\n",
    "        B = trial.suggest_float(\"B\", 0.01, 0.5, log=False)\n",
    "        # Инициализация BM25Recommender\n",
    "        model = ImplicitItemKNNWrapperModel(model=BM25Recommender(K=K, K1=K1, B=B, num_threads=2))\n",
    "        \n",
    "    elif reco_model == \"CosineRecommender\":\n",
    "        # гиперпараметры для CosineRecommender\n",
    "        K = trial.suggest_int(\"K\", 50, 200, 50, log=False)\n",
    "        # Инициализация CosineRecommender\n",
    "        model = ImplicitItemKNNWrapperModel(model=CosineRecommender(K=K))\n",
    "        \n",
    "    elif reco_model == \"TFIDFRecommender\":\n",
    "        # гиперпараметры для TFIDFRecommender\n",
    "        K = trial.suggest_int(\"K\", 10, 100, 20, log=False)\n",
    "        # Инициализация TFIDFRecommender\n",
    "        model = ImplicitItemKNNWrapperModel(model=TFIDFRecommender(K=K))\n",
    "        \n",
    "    # обучение модели\n",
    "    model.fit(dataset)\n",
    "    recos = model.recommend(\n",
    "        users=TEST_USERS,\n",
    "        dataset=dataset,\n",
    "        k=K_RECOS,\n",
    "        filter_viewed=True,\n",
    "    )\n",
    "\n",
    "    # Подсчет метрик\n",
    "    metric_values = calc_metrics(metrics, recos, test, train)\n",
    "    model_quality_opto.update(metric_values)\n",
    "    results_opto.append(model_quality_opto)\n",
    "\n",
    "    return metric_values.get('MAP@10') # максимизируемая метрика"
   ]
  },
  {
   "cell_type": "code",
   "execution_count": null,
   "id": "5a40b4a9",
   "metadata": {
    "ExecuteTime": {
     "end_time": "2022-12-13T16:26:41.770351Z",
     "start_time": "2022-12-13T16:00:36.788804Z"
    },
    "scrolled": true
   },
   "outputs": [],
   "source": [
    "# запуск подбора гиперпараметров\n",
    "study = optuna.create_study(direction=\"maximize\")\n",
    "study.optimize(objective, n_trials=100)\n",
    "\n",
    "pprint(f\"Number of finished trials: {len(study.trials)}\")\n",
    "trial = study.best_trial\n",
    "pprint(f\"Best trial: {trial}\")"
   ]
  },
  {
   "cell_type": "code",
   "execution_count": null,
   "id": "111bf3e6",
   "metadata": {
    "ExecuteTime": {
     "end_time": "2022-12-13T16:35:16.213184Z",
     "start_time": "2022-12-13T16:35:16.197736Z"
    }
   },
   "outputs": [],
   "source": [
    "df_quality = pd.DataFrame(results_opto).T\n",
    "\n",
    "df_quality.columns = df_quality.iloc[0]\n",
    "\n",
    "df_quality.drop('model', inplace=True)"
   ]
  },
  {
   "cell_type": "code",
   "execution_count": null,
   "id": "58fb9822",
   "metadata": {
    "ExecuteTime": {
     "end_time": "2022-12-13T16:35:17.553664Z",
     "start_time": "2022-12-13T16:35:17.531232Z"
    }
   },
   "outputs": [],
   "source": [
    "df_quality = df_quality.T.drop_duplicates().T"
   ]
  },
  {
   "cell_type": "code",
   "execution_count": null,
   "id": "362163b1",
   "metadata": {
    "ExecuteTime": {
     "end_time": "2022-12-13T16:35:19.032926Z",
     "start_time": "2022-12-13T16:35:18.968994Z"
    },
    "scrolled": false
   },
   "outputs": [],
   "source": [
    "df_quality.style.highlight_max(color='lightgreen', axis=1)"
   ]
  },
  {
   "cell_type": "markdown",
   "id": "8a011561",
   "metadata": {},
   "source": [
    "## Обучение модели с лучшими параметрами"
   ]
  },
  {
   "cell_type": "markdown",
   "id": "a2cc2836",
   "metadata": {},
   "source": [
    "### подготавливаем матрицы"
   ]
  },
  {
   "cell_type": "markdown",
   "id": "cd1eda0e",
   "metadata": {},
   "source": [
    "### Создаем маппинг для users и items"
   ]
  },
  {
   "cell_type": "code",
   "execution_count": null,
   "id": "96b28032",
   "metadata": {
    "ExecuteTime": {
     "end_time": "2022-12-13T16:35:29.728605Z",
     "start_time": "2022-12-13T16:35:29.701044Z"
    }
   },
   "outputs": [],
   "source": [
    "dataset.interactions.df"
   ]
  },
  {
   "cell_type": "code",
   "execution_count": null,
   "id": "45ee47d4",
   "metadata": {
    "ExecuteTime": {
     "end_time": "2022-12-13T16:35:32.044466Z",
     "start_time": "2022-12-13T16:35:31.668906Z"
    }
   },
   "outputs": [],
   "source": [
    "users_inv_mapping = dict(enumerate(train['user_id'].unique()))\n",
    "users_mapping = {v: k for k, v in users_inv_mapping.items()}\n",
    "\n",
    "\n",
    "items_inv_mapping = dict(enumerate(train['item_id'].unique()))\n",
    "items_mapping = {v: k for k, v in items_inv_mapping.items()}"
   ]
  },
  {
   "cell_type": "code",
   "execution_count": null,
   "id": "8c9dc88e",
   "metadata": {
    "ExecuteTime": {
     "end_time": "2022-12-13T16:35:33.578177Z",
     "start_time": "2022-12-13T16:35:33.569516Z"
    }
   },
   "outputs": [],
   "source": [
    "print(f\"users_mapping amount: {len(users_mapping)}\")\n",
    "print(f\"items_mapping amount: {len(items_mapping)}\")"
   ]
  },
  {
   "cell_type": "markdown",
   "id": "bba083a5",
   "metadata": {},
   "source": [
    "### Получаем разреженную матрицу"
   ]
  },
  {
   "cell_type": "code",
   "execution_count": null,
   "id": "1d63d3e6",
   "metadata": {
    "ExecuteTime": {
     "end_time": "2022-12-13T16:35:40.140257Z",
     "start_time": "2022-12-13T16:35:35.099653Z"
    }
   },
   "outputs": [],
   "source": [
    "def get_coo_matrix(df, \n",
    "                   user_col='user_id', \n",
    "                   item_col='item_id', \n",
    "                   weight_col=None, \n",
    "                   users_mapping=None, \n",
    "                   items_mapping=None):\n",
    "    if weight_col:\n",
    "        weights = df[weight_col].astype(np.float32)\n",
    "    else:\n",
    "        weights = np.ones(len(df), dtype=np.float32)\n",
    "\n",
    "    interaction_matrix = sp.sparse.coo_matrix((\n",
    "        weights, \n",
    "        (\n",
    "            df[user_col].map(users_mapping.get), \n",
    "            df[item_col].map(items_mapping.get)\n",
    "        )\n",
    "    ))\n",
    "    return interaction_matrix\n",
    "interaction_matrix = get_coo_matrix(train, weight_col='weight',\n",
    "                                    users_mapping=users_mapping, \n",
    "                                    items_mapping=items_mapping)"
   ]
  },
  {
   "cell_type": "markdown",
   "id": "296214a1",
   "metadata": {
    "ExecuteTime": {
     "end_time": "2022-12-09T16:15:24.287699Z",
     "start_time": "2022-12-09T16:15:24.284945Z"
    }
   },
   "source": [
    "### Обучаем ItemKNN"
   ]
  },
  {
   "cell_type": "code",
   "execution_count": null,
   "id": "90fdf4a1",
   "metadata": {
    "ExecuteTime": {
     "end_time": "2022-12-11T14:19:32.461645Z",
     "start_time": "2022-12-11T13:49:53.390051Z"
    }
   },
   "outputs": [],
   "source": [
    "userknn = BM25Recommender(K=50, K1=0.012556305101247701, B=0.05289835164246949, num_threads=2)\n",
    "userknn.fit(interaction_matrix)"
   ]
  },
  {
   "cell_type": "code",
   "execution_count": null,
   "id": "420ea36c",
   "metadata": {
    "ExecuteTime": {
     "end_time": "2022-12-11T14:22:29.665120Z",
     "start_time": "2022-12-11T14:22:25.707632Z"
    }
   },
   "outputs": [],
   "source": [
    "dill_file = Path().cwd().parent / 'service' / 'models'\n",
    "\n",
    "with open(dill_file / 'userknn_BM25Recommender.dill', 'wb') as f:\n",
    "    dill.dump(userknn, f)"
   ]
  },
  {
   "cell_type": "code",
   "execution_count": null,
   "id": "ce79cd07",
   "metadata": {
    "ExecuteTime": {
     "end_time": "2022-12-11T14:22:32.075828Z",
     "start_time": "2022-12-11T14:22:30.752159Z"
    }
   },
   "outputs": [],
   "source": [
    "dill_file = Path().cwd().parent / 'service' / 'data'\n",
    "\n",
    "with open(dill_file / 'dataset_userknn_BM25Recommender.dill', 'wb') as f:\n",
    "    dill.dump(dataset, f)"
   ]
  },
  {
   "cell_type": "code",
   "execution_count": null,
   "id": "d33e0319",
   "metadata": {},
   "outputs": [],
   "source": []
  },
  {
   "cell_type": "markdown",
   "id": "f36579eb",
   "metadata": {
    "ExecuteTime": {
     "end_time": "2022-12-09T16:21:12.976397Z",
     "start_time": "2022-12-09T16:21:12.974017Z"
    }
   },
   "source": [
    "## Inference ItemKNN"
   ]
  },
  {
   "cell_type": "markdown",
   "id": "4f67d20c",
   "metadata": {
    "ExecuteTime": {
     "end_time": "2022-12-09T16:23:49.154157Z",
     "start_time": "2022-12-09T16:23:49.151906Z"
    }
   },
   "source": [
    "### Предподготовка для ускорения инференса по одному пользователю"
   ]
  },
  {
   "cell_type": "code",
   "execution_count": null,
   "id": "54b2b86e",
   "metadata": {
    "ExecuteTime": {
     "end_time": "2022-12-13T12:30:36.963343Z",
     "start_time": "2022-12-13T12:30:34.060564Z"
    },
    "scrolled": true
   },
   "outputs": [],
   "source": [
    "dill_file = Path().cwd().parent / 'service' / 'models'\n",
    "\n",
    "with open(dill_file / 'userknn_BM25Recommender.dill', 'rb') as f:\n",
    "    userknn = dill.load(f)"
   ]
  },
  {
   "cell_type": "code",
   "execution_count": null,
   "id": "835d6111",
   "metadata": {
    "ExecuteTime": {
     "end_time": "2022-12-13T12:30:38.864712Z",
     "start_time": "2022-12-13T12:30:37.971521Z"
    }
   },
   "outputs": [],
   "source": [
    "dill_file = Path().cwd().parent / 'service' / 'data'\n",
    "\n",
    "with open(dill_file / 'dataset_userknn_BM25Recommender.dill', 'rb') as f:\n",
    "    dataset = dill.load(f)"
   ]
  },
  {
   "cell_type": "code",
   "execution_count": null,
   "id": "87586562",
   "metadata": {
    "ExecuteTime": {
     "end_time": "2022-12-11T12:51:17.629435Z",
     "start_time": "2022-12-11T12:51:17.607138Z"
    }
   },
   "outputs": [],
   "source": [
    "train = dataset.interactions.df"
   ]
  },
  {
   "cell_type": "code",
   "execution_count": null,
   "id": "b32f7662",
   "metadata": {
    "ExecuteTime": {
     "end_time": "2022-12-13T16:35:41.686304Z",
     "start_time": "2022-12-13T16:35:40.963851Z"
    },
    "run_control": {
     "marked": false
    }
   },
   "outputs": [],
   "source": [
    "user_id = 6064\n",
    "K_RECOS = 10\n",
    "N = 50\n",
    "cnt = Counter(train['item_id'].values)\n",
    "idf = pd.DataFrame.from_dict(cnt, orient='index', columns=['doc_freq']).reset_index()\n",
    "n = train.shape[0]\n",
    "idf['idf'] = idf['doc_freq'].apply(lambda x: np.log((1 + n) / (1 + x) + 1))\n",
    "\n",
    "def generate_implicit_recs_mapper(model, N, users_mapping, users_inv_mapping):\n",
    "    def _recs_mapper(user):\n",
    "        user_id = users_mapping[user]\n",
    "        recs = model.similar_items(user_id, N=N)\n",
    "        return [users_inv_mapping[user] for user, _ in recs], [sim for _, sim in recs]\n",
    "    return _recs_mapper"
   ]
  },
  {
   "cell_type": "code",
   "execution_count": null,
   "id": "4593fce6",
   "metadata": {
    "ExecuteTime": {
     "end_time": "2022-12-13T16:35:43.077462Z",
     "start_time": "2022-12-13T16:35:42.932798Z"
    }
   },
   "outputs": [],
   "source": [
    "mapper = generate_implicit_recs_mapper(\n",
    "    userknn, \n",
    "    N=N,\n",
    "    users_mapping=users_mapping,\n",
    "    users_inv_mapping=users_inv_mapping\n",
    ")"
   ]
  },
  {
   "cell_type": "code",
   "execution_count": null,
   "id": "4c4ed51e",
   "metadata": {
    "ExecuteTime": {
     "end_time": "2022-12-13T12:31:03.196914Z",
     "start_time": "2022-12-13T12:30:46.507893Z"
    }
   },
   "outputs": [],
   "source": [
    "watched = train.groupby('user_id').agg({'item_id': list})\n",
    "watched.head()"
   ]
  },
  {
   "cell_type": "code",
   "execution_count": null,
   "id": "7f354209",
   "metadata": {
    "ExecuteTime": {
     "end_time": "2022-12-13T12:31:49.518115Z",
     "start_time": "2022-12-13T12:31:43.645838Z"
    }
   },
   "outputs": [],
   "source": [
    "wwatched = {k:v['item_id'] for k,v in json.loads(watched.T.to_json()).items()}"
   ]
  },
  {
   "cell_type": "code",
   "execution_count": null,
   "id": "646f1c67",
   "metadata": {
    "ExecuteTime": {
     "end_time": "2022-12-13T15:24:08.857449Z",
     "start_time": "2022-12-13T15:24:08.840147Z"
    },
    "scrolled": true
   },
   "outputs": [],
   "source": [
    "# user_id = 33\n",
    "def make_reco_fast(user_id, mapper, k_recos):\n",
    "    recss = {}\n",
    "    recss['similar_user_id'], recss['similarity'] = mapper(user_id)\n",
    "    recss['similar_user_id'] = recss['similar_user_id'][1:]\n",
    "    recss['similarity'] = recss['similarity'][1:]\n",
    "\n",
    "    recss['item_id'] = [wwatched.get(f\"{x}\") for x in recss['similar_user_id']]\n",
    "    recs = pd.DataFrame(recss)\n",
    "    recs = recs.explode('item_id')\n",
    "    recs = recs.sort_values(['similarity'], ascending=False)\n",
    "    recs = recs.merge(idf[['index', 'idf']], \n",
    "                        left_on='item_id',\n",
    "                        right_on='index',\n",
    "                        how='left').drop(['index'], axis=1)\n",
    "    recs['rank_idf'] = recs['similarity'] * recs['idf']\n",
    "    recs = recs.sort_values(['rank_idf'], ascending=False)\n",
    "    recs.dropna(inplace=True)\n",
    "    return recs['item_id'].unique()[:k_recos]"
   ]
  },
  {
   "cell_type": "code",
   "execution_count": null,
   "id": "de931a9c",
   "metadata": {
    "ExecuteTime": {
     "end_time": "2022-12-13T15:24:10.698749Z",
     "start_time": "2022-12-13T15:24:10.693735Z"
    }
   },
   "outputs": [],
   "source": [
    "def make_reco(user_id, mapper, k_recos):\n",
    "    recs = pd.DataFrame({\n",
    "        'user_id': train[train['user_id'] == user_id]['user_id'].unique()\n",
    "    })\n",
    "    recs['similar_user_id'], recs['similarity'] = zip(*recs['user_id'].map(mapper))\n",
    "\n",
    "\n",
    "    # explode lists to get vertical representation\n",
    "    recs = recs.set_index('user_id').apply(pd.Series.explode).reset_index()\n",
    "\n",
    "    # delete recommendations of itself \n",
    "    recs = recs[~(recs['user_id'] == recs['similar_user_id'])]\n",
    "    \n",
    "    # join watched items\n",
    "    recs = recs.merge(watched, left_on=['similar_user_id'], right_on=['user_id'], how='left')\n",
    "    recs = recs.explode('item_id')\n",
    "    # drop duplicates pairs user_id-item_id \n",
    "    # keep with the largest similiarity\n",
    "    recs = recs.sort_values(['user_id', 'similarity'], ascending=False)\n",
    "    recs = recs.merge(idf[['index', 'idf']], \n",
    "                        left_on='item_id',\n",
    "                        right_on='index',\n",
    "                        how='left').drop(['index'], axis=1)\n",
    "    recs['rank_idf'] = recs['similarity'] * recs['idf']\n",
    "    recs = recs.sort_values(['user_id', 'rank_idf'], ascending=False)\n",
    "    recs['rank'] = recs.groupby('user_id').cumcount() + 1 \n",
    "    return recs[recs['rank'] <= k_recos]['item_id'].values"
   ]
  },
  {
   "cell_type": "code",
   "execution_count": null,
   "id": "652d6bc9",
   "metadata": {
    "ExecuteTime": {
     "end_time": "2022-12-13T12:36:15.760466Z",
     "start_time": "2022-12-13T12:36:15.598712Z"
    }
   },
   "outputs": [],
   "source": [
    "user_id = 100\n",
    "make_reco(user_id, mapper, K_RECOS)"
   ]
  },
  {
   "cell_type": "code",
   "execution_count": null,
   "id": "00c58aea",
   "metadata": {
    "ExecuteTime": {
     "end_time": "2022-12-13T12:36:17.670249Z",
     "start_time": "2022-12-13T12:36:17.654261Z"
    }
   },
   "outputs": [],
   "source": [
    "make_reco_fast(user_id, mapper, K_RECOS)"
   ]
  }
 ],
 "metadata": {
  "kernelspec": {
   "display_name": "Python 3 (ipykernel)",
   "language": "python",
   "name": "python3"
  },
  "language_info": {
   "codemirror_mode": {
    "name": "ipython",
    "version": 3
   },
   "file_extension": ".py",
   "mimetype": "text/x-python",
   "name": "python",
   "nbconvert_exporter": "python",
   "pygments_lexer": "ipython3",
   "version": "3.8.10"
  },
  "toc": {
   "base_numbering": 1,
   "nav_menu": {},
   "number_sections": true,
   "sideBar": true,
   "skip_h1_title": true,
   "title_cell": "Table of Contents",
   "title_sidebar": "Contents",
   "toc_cell": false,
   "toc_position": {
    "height": "calc(100% - 180px)",
    "left": "10px",
    "top": "150px",
    "width": "391.705px"
   },
   "toc_section_display": true,
   "toc_window_display": true
  }
 },
 "nbformat": 4,
 "nbformat_minor": 5
}
