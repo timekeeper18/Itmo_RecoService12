{
 "cells": [
  {
   "cell_type": "markdown",
   "id": "ebca5c1f",
   "metadata": {},
   "source": [
    "# Тестирование запросов к сервису"
   ]
  },
  {
   "cell_type": "code",
   "execution_count": 26,
   "id": "e8641edc",
   "metadata": {
    "ExecuteTime": {
     "end_time": "2022-12-11T15:06:37.692373Z",
     "start_time": "2022-12-11T15:06:37.461733Z"
    }
   },
   "outputs": [],
   "source": [
    "import requests\n",
    "import numpy as np\n",
    "import pandas as pd\n",
    "from pathlib import Path\n",
    "import dill\n",
    "from requests.exceptions import ConnectTimeout\n",
    "import time\n",
    "import warnings\n",
    "\n",
    "warnings.filterwarnings('ignore')"
   ]
  },
  {
   "cell_type": "code",
   "execution_count": 35,
   "id": "d2c4a26a",
   "metadata": {
    "ExecuteTime": {
     "end_time": "2022-12-11T15:16:11.333932Z",
     "start_time": "2022-12-11T15:16:11.089177Z"
    }
   },
   "outputs": [
    {
     "name": "stdout",
     "output_type": "stream",
     "text": [
      "{\"user_id\":606320,\"items\":[7865,2834,1510,1773,1754,967,1519,1187,835,936]}\n"
     ]
    }
   ],
   "source": [
    "model_name = 'userknn_BM25Recommender'\n",
    "user_id = 606320\n",
    "headers = dict(Authorization=f\"Bearer 1234567asdfgh\")\n",
    "\n",
    "addr = f'https://clicks-volt-built-bones.trycloudflare.com/reco/{model_name}/{user_id}'\n",
    "# addr = f'http://0.0.0.0:8000/reco/{model_name}/{user_id}'\n",
    "received_data = requests.get(addr, headers=headers,\n",
    "                             verify=False)\n",
    "print(received_data.text)"
   ]
  },
  {
   "cell_type": "code",
   "execution_count": 6,
   "id": "11f102af",
   "metadata": {
    "ExecuteTime": {
     "end_time": "2022-12-11T13:34:22.134151Z",
     "start_time": "2022-12-11T13:34:20.454048Z"
    }
   },
   "outputs": [],
   "source": [
    "dill_file = Path().cwd().parent / 'service' / 'data'\n",
    "\n",
    "with open(dill_file / 'dataset_Naked_BM25Recommender.dill', 'rb') as f:\n",
    "    dataset = dill.load(f)"
   ]
  },
  {
   "cell_type": "code",
   "execution_count": 24,
   "id": "159f9cdc",
   "metadata": {
    "ExecuteTime": {
     "end_time": "2022-12-11T13:37:25.466579Z",
     "start_time": "2022-12-11T13:37:25.459233Z"
    }
   },
   "outputs": [],
   "source": [
    "users = dataset.interactions.df"
   ]
  },
  {
   "cell_type": "code",
   "execution_count": 28,
   "id": "187d3af2",
   "metadata": {
    "ExecuteTime": {
     "end_time": "2022-12-11T13:40:37.539411Z",
     "start_time": "2022-12-11T13:40:20.115251Z"
    },
    "scrolled": true
   },
   "outputs": [
    {
     "name": "stdout",
     "output_type": "stream",
     "text": [
      "606320\n",
      "Whole time = 17.407506\n",
      "Request time = 0.017408\n"
     ]
    }
   ],
   "source": [
    "\n",
    "model_name = 'LightFM_0.078294'\n",
    "model_name = 'Naked_BM25Recommender'\n",
    "user_id = 33\n",
    "headers = dict(Authorization=f\"Bearer 1234567asdfgh\")\n",
    "N = 5000\n",
    "N2 = 6000\n",
    "U = users[(users[\"user_id\"] >= 605000)&(users[\"user_id\"] <=610000)].user_id.values\n",
    "start = time.time()\n",
    "for user_id in U:\n",
    "#     addr = f'https://copying-years-marijuana-foam.trycloudflare.com/reco/{model_name}/{user_id}'\n",
    "    addr = f'http://0.0.0.0:8000/reco/{model_name}/{user_id}'\n",
    "    try:\n",
    "        received_data = requests.get(addr, headers=headers,\n",
    "                                     verify=False, timeout=0.8)\n",
    "        rd = received_data.json()\n",
    "        if len(rd.get(\"items\")) < 10:\n",
    "            print(user_id)\n",
    "            break\n",
    "    except ConnectTimeout:\n",
    "        print(f'request timeout: {user_id}')\n",
    "        \n",
    "end = time.time()\n",
    "print('Whole time = %f' % (end-start))\n",
    "print('Request time = %f' % ((end-start)/len(U)))"
   ]
  },
  {
   "cell_type": "code",
   "execution_count": 15,
   "id": "eb1e70dd",
   "metadata": {
    "ExecuteTime": {
     "end_time": "2022-12-11T11:43:28.723278Z",
     "start_time": "2022-12-11T11:43:28.706787Z"
    }
   },
   "outputs": [
    {
     "name": "stdout",
     "output_type": "stream",
     "text": [
      "Request time = 0.331494\n"
     ]
    }
   ],
   "source": [
    "print('Request time = %f' % ((end-start)/1000))"
   ]
  }
 ],
 "metadata": {
  "kernelspec": {
   "display_name": "Python 3 (ipykernel)",
   "language": "python",
   "name": "python3"
  },
  "language_info": {
   "codemirror_mode": {
    "name": "ipython",
    "version": 3
   },
   "file_extension": ".py",
   "mimetype": "text/x-python",
   "name": "python",
   "nbconvert_exporter": "python",
   "pygments_lexer": "ipython3",
   "version": "3.8.10"
  },
  "toc": {
   "base_numbering": 1,
   "nav_menu": {},
   "number_sections": true,
   "sideBar": true,
   "skip_h1_title": true,
   "title_cell": "Table of Contents",
   "title_sidebar": "Contents",
   "toc_cell": false,
   "toc_position": {},
   "toc_section_display": true,
   "toc_window_display": false
  }
 },
 "nbformat": 4,
 "nbformat_minor": 5
}
